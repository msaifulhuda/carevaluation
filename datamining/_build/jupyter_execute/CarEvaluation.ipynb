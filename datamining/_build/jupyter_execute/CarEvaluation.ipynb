{
 "cells": [
  {
   "block_group": "22b24aecb10148b4986557a394d6009f",
   "cell_type": "markdown",
   "metadata": {
    "cell_id": "c46b99ceb6214a1bac687ad37134378d",
    "deepnote_app_block_visible": true,
    "deepnote_cell_type": "text-cell-h1",
    "formattedRanges": []
   },
   "source": [
    "# Proyek Penambangan Data"
   ]
  },
  {
   "block_group": "b5f9f0e93a33456eb0b2db18b014adbf",
   "cell_type": "markdown",
   "metadata": {
    "cell_id": "008c964136b6440da8c5a6fc89916390",
    "deepnote_app_block_visible": true,
    "deepnote_cell_type": "text-cell-p",
    "formattedRanges": []
   },
   "source": [
    "Penambangan Data merupakan salah satu mata kuliah yang ditempuh mahasiswa Jurusan Teknik Informatika semester 4 di Universitas Trunojoyo Madura. Pada Mata kuliah ini, mempelejari banyak hal mulai dari Data Understanding, Preprocessing Data, Modelling data, hingga Evaluasi Data yang menghasilkan output berupa tampilan atau interface website dalam proyek akhir nantinya. Dalam proyek ini, dikerjakan secara berkelompok untuk menghasilkan suatu proyek akhir yang menghasilkan suatu website untuk memprediksi class/output tertentu sesuai dengan Dataset (kumpulan data-data mentah berupa tabel yang dapat dioleh lebih lanjut) yang didapatkan dari website pengumpul Dataset (UCI Dataset)."
   ]
  },
  {
   "block_group": "5108dce60c254c7eb4bcd942dfe1fcde",
   "cell_type": "markdown",
   "metadata": {
    "cell_id": "c69664e15cb040debc1d6555cd91a617",
    "deepnote_app_block_visible": true,
    "deepnote_cell_type": "text-cell-p",
    "formattedRanges": [
     {
      "fromCodePoint": 26,
      "ranges": [],
      "toCodePoint": 54,
      "type": "link",
      "url": "https://archive.ics.uci.edu/"
     }
    ]
   },
   "source": [
    "Link Website UCI Dataset: https://archive.ics.uci.edu/"
   ]
  },
  {
   "block_group": "adbd66ff0f474070baeb4bc5ee8fb03b",
   "cell_type": "markdown",
   "metadata": {
    "cell_id": "13dbd16156a24319969d1ca32d106fb2",
    "deepnote_app_block_visible": true,
    "deepnote_cell_type": "text-cell-p",
    "formattedRanges": [
     {
      "fromCodePoint": 69,
      "marks": {
       "bold": true
      },
      "toCodePoint": 91,
      "type": "marks"
     },
     {
      "fromCodePoint": 233,
      "marks": {
       "italic": true
      },
      "toCodePoint": 239,
      "type": "marks"
     },
     {
      "fromCodePoint": 244,
      "marks": {
       "bold": true
      },
      "toCodePoint": 266,
      "type": "marks"
     }
    ]
   },
   "source": [
    "Dalam kelompok ini, Proyek Penambangan Data mengambil Dataset berupa Car Evaluation Dataset. Berikut ini merupakan penjelasan beserta implementasi dari awal proses hingga akhir yang dimana menghasilkan sebuah website berupa prediksi class dari Car Evaluation Dataset."
   ]
  },
  {
   "block_group": "f7b5e84ab11745db8dc34b66e30e0325",
   "cell_type": "markdown",
   "metadata": {
    "cell_id": "00366080d4d9428ab761126a7932ca8d",
    "deepnote_app_block_visible": true,
    "deepnote_cell_type": "text-cell-h2",
    "formattedRanges": [],
    "is_collapsed": false
   },
   "source": [
    "## Car Evaluation Dataset - UCI Dataset"
   ]
  },
  {
   "block_group": "423dbe22a6c640b3b76a1f89b7a6134a",
   "cell_type": "markdown",
   "metadata": {
    "cell_id": "284b96f020854f108fe1e5e89a40bed9",
    "deepnote_app_block_visible": true,
    "deepnote_cell_type": "text-cell-p",
    "formattedRanges": []
   },
   "source": [
    "Dataset Car Evaluation adalah kumpulan data yang digunakan untuk mengevaluasi kinerja model prediksi klasifikasi mobil. Dataset ini berisi informasi tentang berbagai model mobil, dengan fokus pada 6 fitur utama:"
   ]
  },
  {
   "block_group": "c653784d6ddf44d5bafb16f10cdc69f2",
   "cell_type": "markdown",
   "metadata": {
    "cell_id": "88542853bd5048b3a7f02b11e0d36cd3",
    "deepnote_app_block_visible": true,
    "deepnote_cell_type": "text-cell-p",
    "formattedRanges": []
   },
   "source": [
    "buying: Harga pembelian mobil (vhigh, high, med, low) -> ordinal\n",
    "maint: Biaya pemeliharaan mobil (vhigh, high, med, low) -> ordinal\n",
    "doors: Jumlah pintu mobil (2, 3, 4, 5more) -> ordinal\n",
    "persons: Kapasitas tempat duduk mobil (2, 4, more) -> ordinal\n",
    "lug_boot: Ukuran bagasi mobil (small, med, big) -> ordinal\n",
    "safety: Tingkat keamanan mobil (low, med, high) -> ordinal"
   ]
  },
  {
   "block_group": "070d0af1a250476cbef911a868c7912f",
   "cell_type": "markdown",
   "metadata": {
    "cell_id": "3567f10db2ad4315a487bc4243f5a2f4",
    "deepnote_app_block_visible": true,
    "deepnote_cell_type": "text-cell-p",
    "formattedRanges": []
   },
   "source": [
    "Berikut merupakan versi tabel berisikan informasi tentang 6 fitur utama dalam Car Evaluation Dataset."
   ]
  },
  {
   "block_group": "27bd09fb9e5d41388d6553b34871daa4",
   "cell_type": "markdown",
   "metadata": {
    "cell_id": "c80ed9a8ce2848a3b81b4b20ea12e3a5",
    "deepnote_app_block_visible": true,
    "deepnote_cell_type": "markdown"
   },
   "source": [
    "<table>\n",
    "    <tbody>\n",
    "        <tr>\n",
    "            <td>\n",
    "                <b>No</b>\n",
    "            </td>\n",
    "            <td>\n",
    "                <b>Nama Fitur</b>\n",
    "            </td>\n",
    "            <td>\n",
    "                <b>Type</b>\n",
    "            </td>\n",
    "            <td>\n",
    "                <b>Deskripsi</b>\n",
    "            </td>\n",
    "            <td>\n",
    "                <b>Value</b>\n",
    "            </td>\n",
    "        </tr>\n",
    "        <tr>\n",
    "            <td>\n",
    "                1\n",
    "            </td>\n",
    "            <td>\n",
    "                buying\n",
    "            </td>\n",
    "            <td>\n",
    "                ordinal\n",
    "            </td>\n",
    "            <td>\n",
    "                harga pembelian mobil\n",
    "            </td>\n",
    "            <td>\n",
    "                vhigh, high, med, low\n",
    "            </td>\n",
    "        </tr>\n",
    "        <tr>\n",
    "            <td>\n",
    "                2\n",
    "            </td>\n",
    "            <td>\n",
    "                maint\n",
    "            </td>\n",
    "            <td>\n",
    "                ordinal\n",
    "            </td>\n",
    "            <td>\n",
    "                biaya pemeliharaan (maintenance) mobil\n",
    "            </td>\n",
    "            <td>\n",
    "                vhigh, high, med, low\n",
    "            </td>\n",
    "        </tr>\n",
    "        <tr>\n",
    "            <td>\n",
    "                3\n",
    "            </td>\n",
    "            <td>\n",
    "                doors\n",
    "            </td>\n",
    "            <td>\n",
    "                ordinal\n",
    "            </td>\n",
    "            <td>\n",
    "                jumlah pintu mobil\n",
    "            </td>\n",
    "            <td>\n",
    "                2, 3, 4, 5more\n",
    "            </td>\n",
    "        </tr>\n",
    "        <tr>\n",
    "            <td>\n",
    "                4\n",
    "            </td>\n",
    "            <td>\n",
    "                persons\n",
    "            </td>\n",
    "            <td>\n",
    "                ordinal\n",
    "            </td>\n",
    "            <td>\n",
    "                kapasitas tempat duduk mobil\n",
    "            </td>\n",
    "            <td>\n",
    "                2, 4, more\n",
    "            </td>\n",
    "        </tr>\n",
    "        <tr>\n",
    "            <td>\n",
    "                5\n",
    "            </td>\n",
    "            <td>\n",
    "                lug_boot\n",
    "            </td>\n",
    "            <td>\n",
    "                ordinal\n",
    "            </td>\n",
    "            <td>\n",
    "                ukuran bagasi mobil\n",
    "            </td>\n",
    "            <td>\n",
    "                small, med, big\n",
    "            </td>\n",
    "        </tr>\n",
    "        <tr>\n",
    "            <td>\n",
    "                6\n",
    "            </td>\n",
    "            <td>\n",
    "                safety\n",
    "            </td>\n",
    "            <td>\n",
    "                ordinal\n",
    "            </td>\n",
    "            <td>\n",
    "                tingkat keamanan mobil\n",
    "            </td>\n",
    "            <td>\n",
    "                low, med, high\n",
    "            </td>\n",
    "        </tr>\n",
    "    </tbody>\n",
    "</table>"
   ]
  },
  {
   "block_group": "da620d592f6f4e3db21f2387acda80ba",
   "cell_type": "markdown",
   "metadata": {
    "cell_id": "80bbf4b26c644cbdb9172d54a598db2a",
    "deepnote_app_block_visible": true,
    "deepnote_cell_type": "text-cell-p",
    "formattedRanges": []
   },
   "source": [
    "Setiap baris dalam dataset mewakili model mobil tertentu, dan kolom target menunjukkan penilaian keseluruhan mobil (unacc, acc, good, vgood). Dataset ini dapat digunakan untuk melatih dan mengevaluasi model klasifikasi yang memprediksi penilaian keseluruhan mobil berdasarkan fitur-fiturnya. Berikut merupakan versi tabel untuk mengetahui apa saja yang berada di kolom target untuk hasil akhir dalam memprediksi Car Evaluation Dataset."
   ]
  },
  {
   "block_group": "3ff492096d6c47a0a031473f4c6eaa06",
   "cell_type": "markdown",
   "metadata": {
    "cell_id": "1b77b93bf2984980814da7bf2ebb6c32",
    "deepnote_app_block_visible": true,
    "deepnote_cell_type": "markdown"
   },
   "source": [
    "<table>\n",
    "    <tbody>\n",
    "        <tr>\n",
    "            <td>\n",
    "                <b>Nama Kolom</b>\n",
    "            </td>\n",
    "            <td>\n",
    "                <b>Jumlah Label</b>\n",
    "            </td>\n",
    "            <td align=\"center\">\n",
    "                <b>Deskripsi</b>\n",
    "            </td>\n",
    "            <td align=\"center\">\n",
    "                <b>Value</b>\n",
    "            </td>\n",
    "        </tr>\n",
    "        <tr>\n",
    "            <td>\n",
    "                target\n",
    "            </td>\n",
    "            <td align=\"center\">\n",
    "                4\n",
    "            </td>\n",
    "            <td>\n",
    "                menunjukkan hasil keseluruhan mobil\n",
    "            </td>\n",
    "            <td>\n",
    "                unacc, acc, good, vgood\n",
    "            </td>\n",
    "        </tr>\n",
    "    </tbody>\n",
    "</table>"
   ]
  },
  {
   "block_group": "abcc81eb069b46149e9fb7af6234aa48",
   "cell_type": "markdown",
   "metadata": {
    "cell_id": "c6570d7c0b3746778e1faa0397a1934b",
    "deepnote_app_block_visible": true,
    "deepnote_cell_type": "markdown"
   },
   "source": [
    "<table>\n",
    "    <tbody>\n",
    "        <tr>\n",
    "            <td>\n",
    "                <b>No.</b>\n",
    "            </td>\n",
    "            <td>\n",
    "                <b>Value</b>\n",
    "            </td>\n",
    "            <td>\n",
    "                <b>Alias</b>\n",
    "            </td>\n",
    "            <td>\n",
    "                <b>Deskripsi</b>\n",
    "            </td>\n",
    "        </tr>\n",
    "        <tr>\n",
    "            <td>\n",
    "                1\n",
    "            </td>\n",
    "            <td>\n",
    "                unacc\n",
    "            </td>\n",
    "            <td>\n",
    "                unacceptable\n",
    "            </td>\n",
    "            <td>\n",
    "                memprediksi bahwa mobil dengan kondisi yang buruk dan tidak dapat diterima\n",
    "            </td>\n",
    "        </tr>\n",
    "        <tr>\n",
    "            <td>\n",
    "                2\n",
    "            </td>\n",
    "            <td>\n",
    "                acc\n",
    "            </td>\n",
    "            <td>\n",
    "                acceptable\n",
    "            </td>\n",
    "            <td>\n",
    "                memprediksi bahwa mobil dengan kondisi yang normal dan dapat diterima\n",
    "            </td>\n",
    "        </tr>\n",
    "        <tr>\n",
    "            <td>\n",
    "                3\n",
    "            </td>\n",
    "            <td>\n",
    "                good\n",
    "            </td>\n",
    "            <td>\n",
    "                good\n",
    "            </td>\n",
    "            <td>\n",
    "                memprediksi bahwa mobil dengan kondisi yang bagus dan layak\n",
    "            </td>\n",
    "        </tr>\n",
    "        <tr>\n",
    "            <td>\n",
    "                4\n",
    "            </td>\n",
    "            <td>\n",
    "                vgood\n",
    "            </td>\n",
    "            <td>\n",
    "                very good\n",
    "            </td>\n",
    "            <td>\n",
    "                memprediksi bahwa mobil dengan kondisi yang sangat bagus dan layak untuk digunakan\n",
    "            </td>\n",
    "        </tr>\n",
    "    </tbody>\n",
    "</table>"
   ]
  },
  {
   "block_group": "7cf1e8199cbc428ba8f5e369afdc62a7",
   "cell_type": "markdown",
   "metadata": {
    "cell_id": "7178b9055e794d5cb4d418ed20874dd6",
    "deepnote_app_block_visible": true,
    "deepnote_cell_type": "text-cell-p",
    "formattedRanges": []
   },
   "source": [
    "Berikut merupakan informasi singkat terkait karakteristik Dataset Car Evaluation, di antaranya:\r"
   ]
  },
  {
   "block_group": "48e2d63301944b99931fa6aa17dc666e",
   "cell_type": "markdown",
   "metadata": {
    "cell_id": "df8e941caf044f629c649834e2695d7a",
    "deepnote_app_block_visible": true,
    "deepnote_cell_type": "markdown"
   },
   "source": [
    "<table>\n",
    "    <tbody>\n",
    "        <tr>\n",
    "            <td colspan=\"2\" align=\"center\">\n",
    "                <b>Karakteristik Dataset</b>\n",
    "            </td>\n",
    "        </tr>\n",
    "        <tr>\n",
    "            <td>\n",
    "                <b>Jumlah Baris Data</b>\n",
    "            </td>\n",
    "            <td>\n",
    "                1728\n",
    "            </td>\n",
    "        </tr>\n",
    "        <tr>\n",
    "            <td>\n",
    "                <b>Jumlah Kolom</b>\n",
    "            </td>\n",
    "            <td>\n",
    "                7 (6 fitur & 1 target)\n",
    "            </td>\n",
    "        </tr>\n",
    "        <tr>\n",
    "            <td>\n",
    "                <b>Tipe Data</b>\n",
    "            </td>\n",
    "            <td>\n",
    "                Ordinal\n",
    "            </td>\n",
    "        </tr>\n",
    "        <tr>\n",
    "            <td>\n",
    "                <b>Missing Values</b>\n",
    "            </td>\n",
    "            <td>\n",
    "                Tidak ada\n",
    "            </td>\n",
    "        </tr>\n",
    "    </tbody>\n",
    "</table>"
   ]
  },
  {
   "block_group": "1b034c00f736405aa389d99dec6a48bc",
   "cell_type": "markdown",
   "metadata": {
    "cell_id": "7fe8b62f4aad48b3a5e452df333fc613",
    "deepnote_app_block_visible": true,
    "deepnote_cell_type": "text-cell-p",
    "formattedRanges": [
     {
      "fromCodePoint": 40,
      "marks": {
       "bold": true
      },
      "toCodePoint": 47,
      "type": "marks"
     }
    ]
   },
   "source": [
    "Catatan selengkapnya terkait Tipe data \"Ordinal\" dan Setiap atribut yang tersedia dapat akses link berikut ini."
   ]
  },
  {
   "block_group": "c652dd6f854249948cbd75e90ea5ba61",
   "cell_type": "markdown",
   "metadata": {
    "cell_id": "7b39fb3d5fe0498db5d77bb8e4a4d257",
    "deepnote_app_block_visible": true,
    "deepnote_cell_type": "text-cell-p",
    "formattedRanges": [
     {
      "fromCodePoint": 0,
      "ranges": [],
      "toCodePoint": 60,
      "type": "link",
      "url": "https://github.com/msaifulhuda/carevaluation/tree/main/Notes"
     }
    ]
   },
   "source": [
    "https://github.com/msaifulhuda/carevaluation/tree/main/Notes"
   ]
  },
  {
   "block_group": "b890a44fda774dbba88bd4dfe6b0020f",
   "cell_type": "markdown",
   "metadata": {
    "cell_id": "6e0011cc85cc43b297bddbff88014b42",
    "deepnote_app_block_visible": true,
    "deepnote_cell_type": "text-cell-p",
    "formattedRanges": [
     {
      "fromCodePoint": 57,
      "marks": {
       "bold": true
      },
      "toCodePoint": 68,
      "type": "marks"
     }
    ]
   },
   "source": [
    "Penggunaan Dataset tersebut sendiri bisa dilakukan untuk Klasifikasi. Klasifikasi yang dimaksud adalah untuk memprediksi penilaian keseluruhan mobil berdasarkan fitur-fiturnya."
   ]
  },
  {
   "block_group": "18c7cb2065ee4deda423b3291e7d1553",
   "cell_type": "markdown",
   "metadata": {
    "cell_id": "62e87c6957ae45cea9f9b9a33bf93ad3",
    "deepnote_app_block_visible": true,
    "deepnote_cell_type": "text-cell-p",
    "formattedRanges": [
     {
      "fromCodePoint": 33,
      "marks": {
       "bold": true
      },
      "toCodePoint": 45,
      "type": "marks"
     },
     {
      "fromCodePoint": 83,
      "marks": {
       "bold": true
      },
      "toCodePoint": 114,
      "type": "marks"
     },
     {
      "fromCodePoint": 244,
      "marks": {
       "bold": true
      },
      "toCodePoint": 273,
      "type": "marks"
     },
     {
      "fromCodePoint": 436,
      "marks": {
       "bold": true
      },
      "toCodePoint": 480,
      "type": "marks"
     }
    ]
   },
   "source": [
    "Dataset Car Evaluation ini dapat dimanfaatkan untuk berbagai hal, di antaranya:\r\n",
    "- Memahami Faktor Pemilihan Mobil: Dataset ini membantu memahami faktor-faktor yang memengaruhi keputusan pembeli mobil, seperti preferensi fitur dan anggaran.\r\n",
    "- Menganalisis Tren Pasar Mobil: Dengan melacak perubahan dalam dataset, diharapkan dapat mengidentifikasi trend pasar seperti popularitas jenis mobil, preferensi fitur, dan perubahan harga.\r\n",
    "- Meningkatkan Pemahaman Pengambilan Keputusan: Dataset ini membantu memahami bagaimana orang membuat keputusan tentang pembelian mobil, yang dapat digunakan untuk mengembangkan strategi pemasaran yang lebih efektif."
   ]
  },
  {
   "block_group": "5725a7e16fd0409ca427ed40160877b0",
   "cell_type": "markdown",
   "metadata": {
    "cell_id": "164c80bd60834b8598b4e8199a8a8056",
    "deepnote_app_block_visible": true,
    "deepnote_cell_type": "text-cell-p",
    "formattedRanges": [
     {
      "fromCodePoint": 76,
      "marks": {
       "bold": true
      },
      "toCodePoint": 97,
      "type": "marks"
     },
     {
      "fromCodePoint": 99,
      "marks": {
       "bold": true
      },
      "toCodePoint": 127,
      "type": "marks"
     },
     {
      "fromCodePoint": 133,
      "marks": {
       "bold": true
      },
      "toCodePoint": 155,
      "type": "marks"
     }
    ]
   },
   "source": [
    "Secara keseluruhan, dataset Car Evaluation adalah sumber daya berharga untuk memahami pasar mobil, mengembangkan model prediksi, dan meningkatkan keputusan tentang pembelian mobil yang diingikan."
   ]
  },
  {
   "block_group": "e92a7f15034b4ea481a6f5f92abfb6f4",
   "cell_type": "markdown",
   "metadata": {
    "cell_id": "5411b001f76e443a8a96833b8e5ab991",
    "deepnote_app_block_visible": true,
    "deepnote_cell_type": "text-cell-h2",
    "formattedRanges": [],
    "is_collapsed": false
   },
   "source": [
    "## Memahami Dataset"
   ]
  },
  {
   "block_group": "27bf0a8913b74d8584ef91cda6c1f851",
   "cell_type": "markdown",
   "metadata": {
    "cell_id": "6de8e73cf781461490d612c82ddbc90f",
    "deepnote_app_block_visible": true,
    "deepnote_cell_type": "text-cell-p",
    "formattedRanges": [],
    "is_collapsed": false
   },
   "source": [
    "Memahami dataset adalah langkah krusial dalam analisis data yang memungkinkan  untuk mendapatkan wawasan yang mendalam tentang informasi yang terkandung di dalamnya. Proses memahami dataset melibatkan beberapa langkah penting untuk menjelajahi, menganalisis, dan menginterpretasi data."
   ]
  },
  {
   "block_group": "5d9d9f9f054f4273a70a13bc779d432b",
   "cell_type": "markdown",
   "metadata": {
    "cell_id": "95852c85d8454ec191f5b45bba9506f4",
    "deepnote_app_block_visible": true,
    "deepnote_cell_type": "text-cell-p",
    "formattedRanges": [
     {
      "fromCodePoint": 70,
      "marks": {
       "bold": true
      },
      "toCodePoint": 84,
      "type": "marks"
     }
    ]
   },
   "source": [
    "Berikut ini merupakan implementasi untuk tahap Memahami Dataset untuk Car Evaluation, di antaranya:"
   ]
  },
  {
   "block_group": "6ef3b7d1fd1e422ba62d3b9003c40c9c",
   "cell_type": "markdown",
   "metadata": {
    "cell_id": "406c1f8a3d1c441a914e1864667fe76c",
    "deepnote_app_block_visible": true,
    "deepnote_cell_type": "text-cell-h3",
    "formattedRanges": [],
    "is_collapsed": false
   },
   "source": [
    "### Import Dataset From Python"
   ]
  },
  {
   "block_group": "dcbb6087d90d48b3b7fd2ce4ea81d48c",
   "cell_type": "markdown",
   "metadata": {
    "cell_id": "cc7d3d9fc205420893ef47eb9a708e9e",
    "deepnote_app_block_visible": true,
    "deepnote_cell_type": "text-cell-p",
    "formattedRanges": []
   },
   "source": [
    "Mula-mula dilakukan Import Dataset dari Python yang bermula dari dataset 'Car Evaluation' yang bersumber dari UCI Dataset. Kemudian dilakukan langkah-langkah Python sesuai prosedur yang telah tersedia pada keterangan Dataset tersebut."
   ]
  },
  {
   "block_group": "0c2d80401941486d96bdf745ad681c9a",
   "cell_type": "code",
   "content_dependencies": {
    "codeHash": "e763c2b5",
    "definedVariables": [],
    "error": {
     "message": "invalid syntax (<unknown>, line 1)",
     "type": "SyntaxError"
    },
    "importedModules": [],
    "usedVariables": []
   },
   "execution_count": 1,
   "metadata": {
    "cell_id": "0c2d80401941486d96bdf745ad681c9a",
    "deepnote_app_block_visible": true,
    "deepnote_cell_type": "code",
    "deepnote_to_be_reexecuted": false,
    "execution_millis": 4746,
    "execution_start": 1718535558038,
    "source_hash": "e763c2b5"
   },
   "outputs": [
    {
     "name": "stdout",
     "output_type": "stream",
     "text": [
      "Collecting ucimlrepo\n",
      "  Downloading ucimlrepo-0.0.7-py3-none-any.whl.metadata (5.5 kB)\n",
      "Requirement already satisfied: pandas>=1.0.0 in c:\\laragon\\bin\\python\\python-3.10\\lib\\site-packages (from ucimlrepo) (2.2.2)\n",
      "Requirement already satisfied: certifi>=2020.12.5 in c:\\laragon\\bin\\python\\python-3.10\\lib\\site-packages (from ucimlrepo) (2024.2.2)\n",
      "Requirement already satisfied: numpy>=1.22.4 in c:\\laragon\\bin\\python\\python-3.10\\lib\\site-packages (from pandas>=1.0.0->ucimlrepo) (1.26.4)\n",
      "Requirement already satisfied: python-dateutil>=2.8.2 in c:\\laragon\\bin\\python\\python-3.10\\lib\\site-packages (from pandas>=1.0.0->ucimlrepo) (2.9.0.post0)\n",
      "Requirement already satisfied: pytz>=2020.1 in c:\\laragon\\bin\\python\\python-3.10\\lib\\site-packages (from pandas>=1.0.0->ucimlrepo) (2024.1)\n",
      "Requirement already satisfied: tzdata>=2022.7 in c:\\laragon\\bin\\python\\python-3.10\\lib\\site-packages (from pandas>=1.0.0->ucimlrepo) (2024.1)\n",
      "Requirement already satisfied: six>=1.5 in c:\\laragon\\bin\\python\\python-3.10\\lib\\site-packages (from python-dateutil>=2.8.2->pandas>=1.0.0->ucimlrepo) (1.16.0)\n",
      "Downloading ucimlrepo-0.0.7-py3-none-any.whl (8.0 kB)\n",
      "Installing collected packages: ucimlrepo\n",
      "Successfully installed ucimlrepo-0.0.7\n",
      "Note: you may need to restart the kernel to use updated packages.\n"
     ]
    }
   ],
   "outputs_reference": "s3:deepnote-cell-outputs-production/babbf51c-ae4d-4764-a0a8-8ec8eaa02572",
   "source": [
    "pip install ucimlrepo"
   ]
  },
  {
   "block_group": "b6071ae1611242308714e7dacc22b9cc",
   "cell_type": "code",
   "content_dependencies": {
    "codeHash": "cdd5239e",
    "definedVariables": [
     "X",
     "car_evaluation",
     "y"
    ],
    "importedModules": [
     "fetch_ucirepo"
    ],
    "usedVariables": [
     "car_evaluation",
     "fetch_ucirepo"
    ]
   },
   "execution_count": 2,
   "metadata": {
    "cell_id": "0749ac49eb5c471d95f0c8673dce98db",
    "deepnote_app_block_visible": true,
    "deepnote_cell_type": "code",
    "deepnote_to_be_reexecuted": false,
    "execution_millis": 1000,
    "execution_start": 1718535562789,
    "source_hash": "cdd5239e"
   },
   "outputs": [
    {
     "name": "stdout",
     "output_type": "stream",
     "text": [
      "{'uci_id': 19, 'name': 'Car Evaluation', 'repository_url': 'https://archive.ics.uci.edu/dataset/19/car+evaluation', 'data_url': 'https://archive.ics.uci.edu/static/public/19/data.csv', 'abstract': 'Derived from simple hierarchical decision model, this database may be useful for testing constructive induction and structure discovery methods.', 'area': 'Other', 'tasks': ['Classification'], 'characteristics': ['Multivariate'], 'num_instances': 1728, 'num_features': 6, 'feature_types': ['Categorical'], 'demographics': [], 'target_col': ['class'], 'index_col': None, 'has_missing_values': 'no', 'missing_values_symbol': None, 'year_of_dataset_creation': 1988, 'last_updated': 'Thu Aug 10 2023', 'dataset_doi': '10.24432/C5JP48', 'creators': ['Marko Bohanec'], 'intro_paper': {'title': 'Knowledge acquisition and explanation for multi-attribute decision making', 'authors': 'M. Bohanec, V. Rajkovič', 'published_in': '8th Intl Workshop on Expert Systems and their Applications, Avignon, France', 'year': 1988, 'url': 'https://www.semanticscholar.org/paper/KNOWLEDGE-ACQUISITION-AND-EXPLANATION-FOR-DECISION-Bohanec-Rajkovi%C4%8D/8bab443ae322ff47c3e609272bd93fd4650555bc', 'doi': None}, 'additional_info': {'summary': 'Car Evaluation Database was derived from a simple hierarchical decision model originally developed for the demonstration of DEX, M. Bohanec, V. Rajkovic: Expert system for decision making. Sistemica 1(1), pp. 145-157, 1990.). The model evaluates cars according to the following concept structure:\\r\\n\\r\\nCAR                      car acceptability\\r\\n. PRICE                  overall price\\r\\n. . buying               buying price\\r\\n. . maint                price of the maintenance\\r\\n. TECH                   technical characteristics\\r\\n. . COMFORT              comfort\\r\\n. . . doors              number of doors\\r\\n. . . persons            capacity in terms of persons to carry\\r\\n. . . lug_boot           the size of luggage boot\\r\\n. . safety               estimated safety of the car\\r\\n\\r\\nInput attributes are printed in lowercase. Besides the target concept (CAR), the model includes three intermediate concepts: PRICE, TECH, COMFORT. Every concept is in the original model related to its lower level descendants by a set of examples (for these examples sets see http://www-ai.ijs.si/BlazZupan/car.html).\\r\\n\\r\\nThe Car Evaluation Database contains examples with the structural information removed, i.e., directly relates CAR to the six input attributes: buying, maint, doors, persons, lug_boot, safety.\\r\\n\\r\\nBecause of known underlying concept structure, this database may be particularly useful for testing constructive induction and structure discovery methods.\\r\\n', 'purpose': None, 'funded_by': None, 'instances_represent': None, 'recommended_data_splits': None, 'sensitive_data': None, 'preprocessing_description': None, 'variable_info': 'buying:   vhigh, high, med, low.\\nmaint:    vhigh, high, med, low.\\ndoors:    2, 3, 4, 5more.\\npersons:  2, 4, more.\\nlug_boot: small, med, big.\\nsafety:   low, med, high.', 'citation': None}}\n",
      "       name     role         type demographic  \\\n",
      "0    buying  Feature  Categorical        None   \n",
      "1     maint  Feature  Categorical        None   \n",
      "2     doors  Feature  Categorical        None   \n",
      "3   persons  Feature  Categorical        None   \n",
      "4  lug_boot  Feature  Categorical        None   \n",
      "5    safety  Feature  Categorical        None   \n",
      "6     class   Target  Categorical        None   \n",
      "\n",
      "                                         description units missing_values  \n",
      "0                                       buying price  None             no  \n",
      "1                           price of the maintenance  None             no  \n",
      "2                                    number of doors  None             no  \n",
      "3              capacity in terms of persons to carry  None             no  \n",
      "4                           the size of luggage boot  None             no  \n",
      "5                        estimated safety of the car  None             no  \n",
      "6  evaulation level (unacceptable, acceptable, go...  None             no  \n"
     ]
    }
   ],
   "outputs_reference": "s3:deepnote-cell-outputs-production/30c9a846-16c4-4526-8d88-fef207ec97f4",
   "source": [
    "from ucimlrepo import fetch_ucirepo \n",
    "  \n",
    "# fetch dataset \n",
    "car_evaluation = fetch_ucirepo(id=19) \n",
    "  \n",
    "# data (as pandas dataframes) \n",
    "X = car_evaluation.data.features \n",
    "y = car_evaluation.data.targets \n",
    "  \n",
    "# metadata \n",
    "print(car_evaluation.metadata) \n",
    "  \n",
    "# variable information \n",
    "print(car_evaluation.variables) "
   ]
  },
  {
   "block_group": "3640a22a634346c4a5d8af004161cd96",
   "cell_type": "markdown",
   "metadata": {
    "cell_id": "b00ea02389a84d45bcad5716065dd1b3",
    "deepnote_app_block_visible": true,
    "deepnote_cell_type": "text-cell-h3",
    "formattedRanges": [],
    "is_collapsed": false
   },
   "source": [
    "### Convert Dataset ke CSV"
   ]
  },
  {
   "block_group": "6febe0f8e81c4086abb8f1c8cc204540",
   "cell_type": "markdown",
   "metadata": {
    "cell_id": "319734ea8201445f9e01cb01f2e5208a",
    "deepnote_app_block_visible": true,
    "deepnote_cell_type": "text-cell-p",
    "formattedRanges": [
     {
      "fromCodePoint": 38,
      "marks": {
       "italic": true
      },
      "toCodePoint": 43,
      "type": "marks"
     }
    ]
   },
   "source": [
    "Setelah melakukan pembacaan data dari step Import data dari Python, dilakukan konversi dataset tersebut ke dalam ekstensi .csv. Hal ini dilakukan agar memudahkan pembacaan data dan melakukan langkah-langkah selanjutnya dengan baik. Code convert dataset ke CSV adalah sebagai berikut."
   ]
  },
  {
   "block_group": "c532fb8020874fac9da77a3da68bb802",
   "cell_type": "code",
   "content_dependencies": {
    "codeHash": "22e5da63",
    "definedVariables": [
     "data_df"
    ],
    "importedModules": [],
    "usedVariables": [
     "car_evaluation",
     "data_df",
     "pd"
    ]
   },
   "execution_count": 3,
   "metadata": {
    "cell_id": "597cd1441d8149699310f9d6bf33c96d",
    "deepnote_app_block_visible": true,
    "deepnote_cell_type": "code",
    "deepnote_to_be_reexecuted": false,
    "execution_millis": 160,
    "execution_start": 1718535563795,
    "source_hash": "bd4ab218"
   },
   "outputs": [
    {
     "name": "stdout",
     "output_type": "stream",
     "text": [
      "Data mobil telah disimpan dalam file 'data_mobil.csv'\n"
     ]
    }
   ],
   "outputs_reference": "dbtable:cell_outputs/b9c29abf-c2aa-401f-91ca-1a92f9f4e5fb",
   "source": [
    "import pandas as pd\n",
    "\n",
    "# Mengubah data ke DataFrame\n",
    "data_df = pd.DataFrame(car_evaluation.data.features)\n",
    "\n",
    "# Menambahkan kolom target\n",
    "data_df['target'] = car_evaluation.data.targets\n",
    "\n",
    "# Menyimpan data ke file .csv\n",
    "data_df.to_csv('data_mobil.csv', index=False)\n",
    "\n",
    "print(\"Data mobil telah disimpan dalam file 'data_mobil.csv'\")"
   ]
  },
  {
   "block_group": "cf73e147c9ac45919408b39796eced74",
   "cell_type": "markdown",
   "metadata": {
    "cell_id": "596cf1a2083e485387519b4b31c8f120",
    "deepnote_app_block_visible": true,
    "deepnote_cell_type": "text-cell-h3",
    "formattedRanges": [],
    "is_collapsed": false
   },
   "source": [
    "### Menarik Data dari MySQL"
   ]
  },
  {
   "block_group": "81a87b0fc80e4f62ac1cd1168e6507a1",
   "cell_type": "markdown",
   "metadata": {
    "cell_id": "b3862c685fa541c8b90efaad22ae5aa9",
    "deepnote_app_block_visible": true,
    "deepnote_cell_type": "text-cell-p",
    "formattedRanges": []
   },
   "source": [
    "Menarik data dari MySQL merujuk pada proses mengambil atau meng-query data yang tersimpan dalam database MySQL menggunakan perangkat lunak atau bahasa pemrograman yang mendukung koneksi ke MySQL"
   ]
  },
  {
   "block_group": "8de4804801eb4224b36b004a463e8c50",
   "cell_type": "markdown",
   "metadata": {
    "cell_id": "81fa80ca2cc2469e8d32747ea2a7665d",
    "deepnote_app_block_visible": true,
    "deepnote_cell_type": "text-cell-p",
    "formattedRanges": []
   },
   "source": [
    "Menarik data dari MySQL adalah langkah penting dalam proses analisis data, pengembangan aplikasi, dan integrasi sistem. Ini memungkinkan Anda untuk mengakses, memanipulasi, dan menganalisis data yang tersimpan dalam database MySQL dengan cara yang efisien dan efektif menggunakan alat dan bahasa pemrograman yang sesuai."
   ]
  },
  {
   "block_group": "ab8a3c0af23c40988497575e76e04d6a",
   "cell_type": "markdown",
   "metadata": {
    "cell_id": "436ac54df9644448bd76772e845ca4ee",
    "deepnote_app_block_visible": true,
    "deepnote_cell_type": "text-cell-p",
    "formattedRanges": [
     {
      "fromCodePoint": 51,
      "marks": {
       "italic": true
      },
      "toCodePoint": 57,
      "type": "marks"
     }
    ]
   },
   "source": [
    "Terdapat penarikan data dari database MySQL dengan query sebagai berikut."
   ]
  },
  {
   "block_group": "3028062f8db3418ba967f80a0605af53",
   "cell_type": "code",
   "content_dependencies": {
    "codeHash": "21931070",
    "definedVariables": [],
    "importedModules": [],
    "usedVariables": []
   },
   "execution_count": 4,
   "metadata": {
    "cell_id": "7f61601dee9846abb2ea447d282627e4",
    "deepnote_app_block_visible": true,
    "deepnote_cell_type": "sql",
    "deepnote_sql_source": "SELECT * FROM `car`.`datamobil`",
    "deepnote_table_loading": false,
    "deepnote_table_state": {
     "filters": [],
     "pageIndex": 0,
     "pageSize": 10,
     "sortBy": []
    },
    "deepnote_to_be_reexecuted": false,
    "deepnote_variable_name": "df_1",
    "execution_millis": 4236,
    "execution_start": 1718535563962,
    "source_hash": "869485c7",
    "sql_integration_id": "69180be6-4514-45e9-a13b-52b1406ef574"
   },
   "outputs": [
    {
     "ename": "NameError",
     "evalue": "name '_deepnote_execute_sql' is not defined",
     "output_type": "error",
     "traceback": [
      "\u001b[1;31m---------------------------------------------------------------------------\u001b[0m",
      "\u001b[1;31mNameError\u001b[0m                                 Traceback (most recent call last)",
      "Cell \u001b[1;32mIn[4], line 1\u001b[0m\n\u001b[1;32m----> 1\u001b[0m df_1 \u001b[38;5;241m=\u001b[39m \u001b[43m_deepnote_execute_sql\u001b[49m(\u001b[38;5;124m'\u001b[39m\u001b[38;5;124mSELECT * FROM `car`.`datamobil`\u001b[39m\u001b[38;5;124m'\u001b[39m, \u001b[38;5;124m'\u001b[39m\u001b[38;5;124mSQL_69180BE6_4514_45E9_A13B_52B1406EF574\u001b[39m\u001b[38;5;124m'\u001b[39m, audit_sql_comment\u001b[38;5;241m=\u001b[39m\u001b[38;5;124m'\u001b[39m\u001b[38;5;124m'\u001b[39m, sql_cache_mode\u001b[38;5;241m=\u001b[39m\u001b[38;5;124m'\u001b[39m\u001b[38;5;124mcache_disabled\u001b[39m\u001b[38;5;124m'\u001b[39m)\n\u001b[0;32m      2\u001b[0m df_1\n",
      "\u001b[1;31mNameError\u001b[0m: name '_deepnote_execute_sql' is not defined"
     ]
    }
   ],
   "outputs_reference": "s3:deepnote-cell-outputs-production/be8170a7-85e1-4d78-a660-ce14a16be282",
   "source": [
    "df_1 = _deepnote_execute_sql('SELECT * FROM `car`.`datamobil`', 'SQL_69180BE6_4514_45E9_A13B_52B1406EF574', audit_sql_comment='', sql_cache_mode='cache_disabled')\n",
    "df_1"
   ]
  },
  {
   "block_group": "b77a214f6dd44542a0026468db4ceb44",
   "cell_type": "markdown",
   "metadata": {
    "cell_id": "1384f4f459c44bfc85054f6363fffdf4",
    "deepnote_app_block_visible": true,
    "deepnote_cell_type": "text-cell-h3",
    "formattedRanges": [],
    "is_collapsed": false
   },
   "source": [
    "### Latar Belakang Dataset"
   ]
  },
  {
   "block_group": "0d1859a16da840df8b70fbb9fa32fea4",
   "cell_type": "markdown",
   "metadata": {
    "cell_id": "dec70c577ac04be5b11f03e4e56f0852",
    "deepnote_app_block_visible": true,
    "deepnote_cell_type": "text-cell-p",
    "formattedRanges": [
     {
      "fromCodePoint": 377,
      "marks": {
       "bold": true
      },
      "toCodePoint": 382,
      "type": "marks"
     },
     {
      "fromCodePoint": 386,
      "marks": {
       "bold": true
      },
      "toCodePoint": 401,
      "type": "marks"
     },
     {
      "fromCodePoint": 401,
      "marks": {
       "bold": true,
       "italic": true
      },
      "toCodePoint": 414,
      "type": "marks"
     },
     {
      "fromCodePoint": 414,
      "marks": {
       "bold": true
      },
      "toCodePoint": 421,
      "type": "marks"
     },
     {
      "fromCodePoint": 426,
      "marks": {
       "bold": true
      },
      "toCodePoint": 433,
      "type": "marks"
     },
     {
      "fromCodePoint": 450,
      "marks": {
       "bold": true
      },
      "toCodePoint": 456,
      "type": "marks"
     },
     {
      "fromCodePoint": 478,
      "marks": {
       "bold": true
      },
      "toCodePoint": 484,
      "type": "marks"
     },
     {
      "fromCodePoint": 503,
      "marks": {
       "bold": true
      },
      "toCodePoint": 511,
      "type": "marks"
     },
     {
      "fromCodePoint": 560,
      "marks": {
       "bold": true
      },
      "toCodePoint": 569,
      "type": "marks"
     },
     {
      "fromCodePoint": 596,
      "marks": {
       "bold": true
      },
      "toCodePoint": 603,
      "type": "marks"
     }
    ]
   },
   "source": [
    "Data yang diambil bersumber pada Car Evalution (UCI Dataset). Data ini merupakan Basis Data Evaluasi Mobil berasal dari model keputusan hirarkis sederhana yang awalnya dikembangkan untuk demonstrasi DEX, M. Bohanec, V. Rajkovic: Sistem Pakar untuk pengambilan keputusan. Sistemica 1(1), pp. 145-157, 1990.). Model ini mengevaluasi mobil sesuai dengan struktur konsep berikut:\r\n",
    "MOBIL -> akseptabilitas(keberterimaan) mobil\r\n",
    "1. buying = harga beli\r\n",
    "2. maint = harga perawatan\r\n",
    "3. doors = jumlah pintu\r\n",
    "4. persons = kapasitas dalam hal orang yang akan dibawa\r\n",
    "5. lug_boot = ukuran bagasi bagasi\r\n",
    "6. safety = perkiraan keamanan mobil"
   ]
  },
  {
   "block_group": "25ac9517bf4b495eb9dc03ac21acb431",
   "cell_type": "markdown",
   "metadata": {
    "cell_id": "1f5d81f9547d4e93a180d59004ae5dfc",
    "deepnote_app_block_visible": true,
    "deepnote_cell_type": "text-cell-p",
    "formattedRanges": [
     {
      "fromCodePoint": 40,
      "marks": {
       "bold": true
      },
      "toCodePoint": 45,
      "type": "marks"
     },
     {
      "fromCodePoint": 50,
      "marks": {
       "bold": true,
       "italic": true
      },
      "toCodePoint": 57,
      "type": "marks"
     },
     {
      "fromCodePoint": 115,
      "marks": {
       "bold": true
      },
      "toCodePoint": 122,
      "type": "marks"
     },
     {
      "fromCodePoint": 159,
      "marks": {
       "bold": true
      },
      "toCodePoint": 168,
      "type": "marks"
     },
     {
      "fromCodePoint": 172,
      "marks": {
       "bold": true
      },
      "toCodePoint": 178,
      "type": "marks"
     },
     {
      "fromCodePoint": 187,
      "marks": {
       "bold": true
      },
      "toCodePoint": 212,
      "type": "marks"
     },
     {
      "fromCodePoint": 216,
      "marks": {
       "bold": true
      },
      "toCodePoint": 222,
      "type": "marks"
     }
    ]
   },
   "source": [
    "Pada dataset ini terdapat data sebanyak 1728 pada 6 fitur. Pada setiap fitur tersebut termasuk ke dalam tipe data 'Ordinal'. Untuk Label nya sendiri, terdapat 4 target atau class, yaitu 'acc',  'unacc', 'vgood', dan 'good'."
   ]
  },
  {
   "block_group": "ba02997f835d465d8e024e320780ce96",
   "cell_type": "code",
   "content_dependencies": {
    "codeHash": "a56e4fdb",
    "definedVariables": [],
    "importedModules": [],
    "usedVariables": []
   },
   "execution_count": 5,
   "metadata": {
    "cell_id": "eb5878cdfd5045ed88ec2d49e7367aca",
    "deepnote_app_block_visible": true,
    "deepnote_cell_type": "sql",
    "deepnote_sql_source": "SELECT *\nFROM 'datamobil.csv'",
    "deepnote_table_loading": false,
    "deepnote_table_state": {
     "filters": [],
     "pageIndex": 0,
     "pageSize": 10,
     "sortBy": []
    },
    "deepnote_to_be_reexecuted": false,
    "deepnote_variable_name": "cardata",
    "execution_millis": 1197,
    "execution_start": 1718535568204,
    "source_hash": "ea54b26a",
    "sql_integration_id": "deepnote-dataframe-sql"
   },
   "outputs": [
    {
     "data": {
      "application/vnd.deepnote.dataframe.v3+json": {
       "column_count": 8,
       "columns": [
        {
         "dtype": "int64",
         "name": "id",
         "stats": {
          "histogram": [
           {
            "bin_end": 173.7,
            "bin_start": 1,
            "count": 173
           },
           {
            "bin_end": 346.4,
            "bin_start": 173.7,
            "count": 173
           },
           {
            "bin_end": 519.0999999999999,
            "bin_start": 346.4,
            "count": 173
           },
           {
            "bin_end": 691.8,
            "bin_start": 519.0999999999999,
            "count": 172
           },
           {
            "bin_end": 864.5,
            "bin_start": 691.8,
            "count": 173
           },
           {
            "bin_end": 1037.1999999999998,
            "bin_start": 864.5,
            "count": 173
           },
           {
            "bin_end": 1209.8999999999999,
            "bin_start": 1037.1999999999998,
            "count": 172
           },
           {
            "bin_end": 1382.6,
            "bin_start": 1209.8999999999999,
            "count": 173
           },
           {
            "bin_end": 1555.3,
            "bin_start": 1382.6,
            "count": 173
           },
           {
            "bin_end": 1728,
            "bin_start": 1555.3,
            "count": 173
           }
          ],
          "max": "1728",
          "min": "1",
          "nan_count": 0,
          "unique_count": 1728
         }
        },
        {
         "dtype": "object",
         "name": "buying",
         "stats": {
          "categories": [
           {
            "count": 432,
            "name": "vhigh"
           },
           {
            "count": 432,
            "name": "high"
           },
           {
            "count": 864,
            "name": "2 others"
           }
          ],
          "nan_count": 0,
          "unique_count": 4
         }
        },
        {
         "dtype": "object",
         "name": "maint",
         "stats": {
          "categories": [
           {
            "count": 432,
            "name": "vhigh"
           },
           {
            "count": 432,
            "name": "high"
           },
           {
            "count": 864,
            "name": "2 others"
           }
          ],
          "nan_count": 0,
          "unique_count": 4
         }
        },
        {
         "dtype": "object",
         "name": "doors",
         "stats": {
          "categories": [
           {
            "count": 432,
            "name": "2"
           },
           {
            "count": 432,
            "name": "3"
           },
           {
            "count": 864,
            "name": "2 others"
           }
          ],
          "nan_count": 0,
          "unique_count": 4
         }
        },
        {
         "dtype": "object",
         "name": "persons",
         "stats": {
          "categories": [
           {
            "count": 576,
            "name": "2"
           },
           {
            "count": 576,
            "name": "4"
           },
           {
            "count": 576,
            "name": "more"
           }
          ],
          "nan_count": 0,
          "unique_count": 3
         }
        },
        {
         "dtype": "object",
         "name": "lug_boot",
         "stats": {
          "categories": [
           {
            "count": 576,
            "name": "small"
           },
           {
            "count": 576,
            "name": "med"
           },
           {
            "count": 576,
            "name": "big"
           }
          ],
          "nan_count": 0,
          "unique_count": 3
         }
        },
        {
         "dtype": "object",
         "name": "safety",
         "stats": {
          "categories": [
           {
            "count": 576,
            "name": "low"
           },
           {
            "count": 576,
            "name": "med"
           },
           {
            "count": 576,
            "name": "high"
           }
          ],
          "nan_count": 0,
          "unique_count": 3
         }
        },
        {
         "dtype": "object",
         "name": "target",
         "stats": {
          "categories": [
           {
            "count": 1210,
            "name": "unacc"
           },
           {
            "count": 384,
            "name": "acc"
           },
           {
            "count": 134,
            "name": "2 others"
           }
          ],
          "nan_count": 0,
          "unique_count": 4
         }
        },
        {
         "dtype": "int64",
         "name": "_deepnote_index_column"
        }
       ],
       "row_count": 1728,
       "rows": [
        {
         "_deepnote_index_column": 0,
         "buying": "vhigh",
         "doors": "2",
         "id": 1,
         "lug_boot": "small",
         "maint": "vhigh",
         "persons": "2",
         "safety": "low",
         "target": "unacc"
        },
        {
         "_deepnote_index_column": 1,
         "buying": "vhigh",
         "doors": "2",
         "id": 2,
         "lug_boot": "small",
         "maint": "vhigh",
         "persons": "2",
         "safety": "med",
         "target": "unacc"
        },
        {
         "_deepnote_index_column": 2,
         "buying": "vhigh",
         "doors": "2",
         "id": 3,
         "lug_boot": "small",
         "maint": "vhigh",
         "persons": "2",
         "safety": "high",
         "target": "unacc"
        },
        {
         "_deepnote_index_column": 3,
         "buying": "vhigh",
         "doors": "2",
         "id": 4,
         "lug_boot": "med",
         "maint": "vhigh",
         "persons": "2",
         "safety": "low",
         "target": "unacc"
        },
        {
         "_deepnote_index_column": 4,
         "buying": "vhigh",
         "doors": "2",
         "id": 5,
         "lug_boot": "med",
         "maint": "vhigh",
         "persons": "2",
         "safety": "med",
         "target": "unacc"
        },
        {
         "_deepnote_index_column": 5,
         "buying": "vhigh",
         "doors": "2",
         "id": 6,
         "lug_boot": "med",
         "maint": "vhigh",
         "persons": "2",
         "safety": "high",
         "target": "unacc"
        },
        {
         "_deepnote_index_column": 6,
         "buying": "vhigh",
         "doors": "2",
         "id": 7,
         "lug_boot": "big",
         "maint": "vhigh",
         "persons": "2",
         "safety": "low",
         "target": "unacc"
        },
        {
         "_deepnote_index_column": 7,
         "buying": "vhigh",
         "doors": "2",
         "id": 8,
         "lug_boot": "big",
         "maint": "vhigh",
         "persons": "2",
         "safety": "med",
         "target": "unacc"
        },
        {
         "_deepnote_index_column": 8,
         "buying": "vhigh",
         "doors": "2",
         "id": 9,
         "lug_boot": "big",
         "maint": "vhigh",
         "persons": "2",
         "safety": "high",
         "target": "unacc"
        },
        {
         "_deepnote_index_column": 9,
         "buying": "vhigh",
         "doors": "2",
         "id": 10,
         "lug_boot": "small",
         "maint": "vhigh",
         "persons": "4",
         "safety": "low",
         "target": "unacc"
        }
       ]
      },
      "text/html": [
       "<div>\n",
       "<style scoped>\n",
       "    .dataframe tbody tr th:only-of-type {\n",
       "        vertical-align: middle;\n",
       "    }\n",
       "\n",
       "    .dataframe tbody tr th {\n",
       "        vertical-align: top;\n",
       "    }\n",
       "\n",
       "    .dataframe thead th {\n",
       "        text-align: right;\n",
       "    }\n",
       "</style>\n",
       "<table border=\"1\" class=\"dataframe\">\n",
       "  <thead>\n",
       "    <tr style=\"text-align: right;\">\n",
       "      <th></th>\n",
       "      <th>id</th>\n",
       "      <th>buying</th>\n",
       "      <th>maint</th>\n",
       "      <th>doors</th>\n",
       "      <th>persons</th>\n",
       "      <th>lug_boot</th>\n",
       "      <th>safety</th>\n",
       "      <th>target</th>\n",
       "    </tr>\n",
       "  </thead>\n",
       "  <tbody>\n",
       "    <tr>\n",
       "      <th>0</th>\n",
       "      <td>1</td>\n",
       "      <td>vhigh</td>\n",
       "      <td>vhigh</td>\n",
       "      <td>2</td>\n",
       "      <td>2</td>\n",
       "      <td>small</td>\n",
       "      <td>low</td>\n",
       "      <td>unacc</td>\n",
       "    </tr>\n",
       "    <tr>\n",
       "      <th>1</th>\n",
       "      <td>2</td>\n",
       "      <td>vhigh</td>\n",
       "      <td>vhigh</td>\n",
       "      <td>2</td>\n",
       "      <td>2</td>\n",
       "      <td>small</td>\n",
       "      <td>med</td>\n",
       "      <td>unacc</td>\n",
       "    </tr>\n",
       "    <tr>\n",
       "      <th>2</th>\n",
       "      <td>3</td>\n",
       "      <td>vhigh</td>\n",
       "      <td>vhigh</td>\n",
       "      <td>2</td>\n",
       "      <td>2</td>\n",
       "      <td>small</td>\n",
       "      <td>high</td>\n",
       "      <td>unacc</td>\n",
       "    </tr>\n",
       "    <tr>\n",
       "      <th>3</th>\n",
       "      <td>4</td>\n",
       "      <td>vhigh</td>\n",
       "      <td>vhigh</td>\n",
       "      <td>2</td>\n",
       "      <td>2</td>\n",
       "      <td>med</td>\n",
       "      <td>low</td>\n",
       "      <td>unacc</td>\n",
       "    </tr>\n",
       "    <tr>\n",
       "      <th>4</th>\n",
       "      <td>5</td>\n",
       "      <td>vhigh</td>\n",
       "      <td>vhigh</td>\n",
       "      <td>2</td>\n",
       "      <td>2</td>\n",
       "      <td>med</td>\n",
       "      <td>med</td>\n",
       "      <td>unacc</td>\n",
       "    </tr>\n",
       "    <tr>\n",
       "      <th>...</th>\n",
       "      <td>...</td>\n",
       "      <td>...</td>\n",
       "      <td>...</td>\n",
       "      <td>...</td>\n",
       "      <td>...</td>\n",
       "      <td>...</td>\n",
       "      <td>...</td>\n",
       "      <td>...</td>\n",
       "    </tr>\n",
       "    <tr>\n",
       "      <th>1723</th>\n",
       "      <td>1724</td>\n",
       "      <td>low</td>\n",
       "      <td>low</td>\n",
       "      <td>5more</td>\n",
       "      <td>more</td>\n",
       "      <td>med</td>\n",
       "      <td>med</td>\n",
       "      <td>good</td>\n",
       "    </tr>\n",
       "    <tr>\n",
       "      <th>1724</th>\n",
       "      <td>1725</td>\n",
       "      <td>low</td>\n",
       "      <td>low</td>\n",
       "      <td>5more</td>\n",
       "      <td>more</td>\n",
       "      <td>med</td>\n",
       "      <td>high</td>\n",
       "      <td>vgood</td>\n",
       "    </tr>\n",
       "    <tr>\n",
       "      <th>1725</th>\n",
       "      <td>1726</td>\n",
       "      <td>low</td>\n",
       "      <td>low</td>\n",
       "      <td>5more</td>\n",
       "      <td>more</td>\n",
       "      <td>big</td>\n",
       "      <td>low</td>\n",
       "      <td>unacc</td>\n",
       "    </tr>\n",
       "    <tr>\n",
       "      <th>1726</th>\n",
       "      <td>1727</td>\n",
       "      <td>low</td>\n",
       "      <td>low</td>\n",
       "      <td>5more</td>\n",
       "      <td>more</td>\n",
       "      <td>big</td>\n",
       "      <td>med</td>\n",
       "      <td>good</td>\n",
       "    </tr>\n",
       "    <tr>\n",
       "      <th>1727</th>\n",
       "      <td>1728</td>\n",
       "      <td>low</td>\n",
       "      <td>low</td>\n",
       "      <td>5more</td>\n",
       "      <td>more</td>\n",
       "      <td>big</td>\n",
       "      <td>high</td>\n",
       "      <td>vgood</td>\n",
       "    </tr>\n",
       "  </tbody>\n",
       "</table>\n",
       "<p>1728 rows × 8 columns</p>\n",
       "</div>"
      ],
      "text/plain": [
       "        id buying  maint  doors persons lug_boot safety target\n",
       "0        1  vhigh  vhigh      2       2    small    low  unacc\n",
       "1        2  vhigh  vhigh      2       2    small    med  unacc\n",
       "2        3  vhigh  vhigh      2       2    small   high  unacc\n",
       "3        4  vhigh  vhigh      2       2      med    low  unacc\n",
       "4        5  vhigh  vhigh      2       2      med    med  unacc\n",
       "...    ...    ...    ...    ...     ...      ...    ...    ...\n",
       "1723  1724    low    low  5more    more      med    med   good\n",
       "1724  1725    low    low  5more    more      med   high  vgood\n",
       "1725  1726    low    low  5more    more      big    low  unacc\n",
       "1726  1727    low    low  5more    more      big    med   good\n",
       "1727  1728    low    low  5more    more      big   high  vgood\n",
       "\n",
       "[1728 rows x 8 columns]"
      ]
     },
     "execution_count": 5,
     "metadata": {},
     "output_type": "execute_result"
    }
   ],
   "outputs_reference": "s3:deepnote-cell-outputs-production/a4ffd09d-27f6-4207-bf33-8a1cfaa69aa9",
   "source": [
    "cardata = _deepnote_execute_sql('SELECT *\\nFROM \\'datamobil.csv\\'', 'SQL_DEEPNOTE_DATAFRAME_SQL', audit_sql_comment='', sql_cache_mode='cache_disabled')\n",
    "cardata"
   ]
  },
  {
   "block_group": "dc72b6f8bbd041f0a1132e11d93dbe1a",
   "cell_type": "code",
   "content_dependencies": {
    "codeHash": "d1013196",
    "definedVariables": [
     "data",
     "col"
    ],
    "importedModules": [
     "pd"
    ],
    "usedVariables": [
     "data",
     "col",
     "pd"
    ]
   },
   "execution_count": 6,
   "metadata": {
    "cell_id": "8a9fa8db63f14cb19e9c36510ab01185",
    "deepnote_app_block_visible": true,
    "deepnote_cell_type": "code",
    "deepnote_to_be_reexecuted": false,
    "execution_millis": 382,
    "execution_start": 1718535569424,
    "source_hash": "d1013196"
   },
   "outputs": [
    {
     "name": "stdout",
     "output_type": "stream",
     "text": [
      "id           int64\n",
      "buying      object\n",
      "maint       object\n",
      "doors       object\n",
      "persons     object\n",
      "lug_boot    object\n",
      "safety      object\n",
      "target      object\n",
      "dtype: object\n",
      "\n",
      "Frekuensi buying:\n",
      "buying\n",
      "vhigh    432\n",
      "high     432\n",
      "med      432\n",
      "low      432\n",
      "Name: count, dtype: int64\n",
      "\n",
      "Frekuensi maint:\n",
      "maint\n",
      "vhigh    432\n",
      "high     432\n",
      "med      432\n",
      "low      432\n",
      "Name: count, dtype: int64\n",
      "\n",
      "Frekuensi doors:\n",
      "doors\n",
      "2        432\n",
      "3        432\n",
      "4        432\n",
      "5more    432\n",
      "Name: count, dtype: int64\n",
      "\n",
      "Frekuensi persons:\n",
      "persons\n",
      "2       576\n",
      "4       576\n",
      "more    576\n",
      "Name: count, dtype: int64\n",
      "\n",
      "Frekuensi lug_boot:\n",
      "lug_boot\n",
      "small    576\n",
      "med      576\n",
      "big      576\n",
      "Name: count, dtype: int64\n",
      "\n",
      "Frekuensi safety:\n",
      "safety\n",
      "low     576\n",
      "med     576\n",
      "high    576\n",
      "Name: count, dtype: int64\n",
      "\n",
      "Frekuensi target:\n",
      "target\n",
      "unacc    1210\n",
      "acc       384\n",
      "good       69\n",
      "vgood      65\n",
      "Name: count, dtype: int64\n"
     ]
    }
   ],
   "outputs_reference": "dbtable:cell_outputs/6d48ce4c-f89e-4e02-85ae-fb49c0f1b1f5",
   "source": [
    "import pandas as pd\n",
    "\n",
    "# Membaca dataset\n",
    "data = pd.read_csv(\"datamobil.csv\")\n",
    "\n",
    "# Analisis tipe data\n",
    "print(data.dtypes)\n",
    "\n",
    "# Frekuensi kategori untuk kolom kategorikal\n",
    "for col in data.select_dtypes(include=[object]):\n",
    "  print(f\"\\nFrekuensi {col}:\")\n",
    "  print(data[col].value_counts())"
   ]
  },
  {
   "block_group": "3dc1649ca6db4d57b590b5bec634e248",
   "cell_type": "markdown",
   "metadata": {
    "cell_id": "23b08d7e5a474e4eac5ec897d88e025a",
    "deepnote_app_block_visible": true,
    "deepnote_cell_type": "text-cell-h3",
    "formattedRanges": [],
    "is_collapsed": false
   },
   "source": [
    "### Visual Data Tiap Fitur Car Evaluation Dataset"
   ]
  },
  {
   "block_group": "4b0d642bd8194875b4e7bcb1c6e7c334",
   "cell_type": "markdown",
   "metadata": {
    "cell_id": "6c70ad92eb544b9b94c041215143b998",
    "deepnote_app_block_visible": true,
    "deepnote_cell_type": "text-cell-p",
    "formattedRanges": []
   },
   "source": [
    "visualisasi data tiap fitur dalam dataset evaluasi mobil membantu dalam memahami karakteristik data, mengidentifikasi pola dan tren, menemukan anomali atau ketidakseimbangan, dan mendukung langkah-langkah pra-pemrosesan data serta pemilihan fitur yang relevan untuk analisis lebih lanjut atau pembangunan model pembelajaran mesin. Visualisasi ini memberikan pandangan yang komprehensif tentang data, memfasilitasi analisis yang lebih mendalam dan pengambilan keputusan yang lebih baik."
   ]
  },
  {
   "block_group": "fcf265f7223b4d36b514b28be5035b89",
   "cell_type": "markdown",
   "metadata": {
    "cell_id": "e86bf5b30b32449bb039eff01090b155",
    "deepnote_app_block_visible": true,
    "deepnote_cell_type": "text-cell-p",
    "formattedRanges": []
   },
   "source": [
    "dataset mobil dari file CSV ini membuat berbagai visualisasi untuk fitur-fitur ordinal dalam dataset. Visualisasi yang dibuat meliputi plot batang dan pie chart untuk menampilkan distribusi frekuensi kategori dalam setiap fitur. Visualisasi ini membantu dalam memahami distribusi data dalam dataset dan memberikan gambaran tentang karakteristik data."
   ]
  },
  {
   "block_group": "451aab9c30df47d68799747ae5025c8b",
   "cell_type": "code",
   "content_dependencies": {
    "codeHash": "615a6f2d",
    "definedVariables": [
     "data"
    ],
    "importedModules": [
     "plt",
     "pd"
    ],
    "usedVariables": [
     "data",
     "plt",
     "pd"
    ]
   },
   "execution_count": 7,
   "metadata": {
    "cell_id": "e9be658a02954cb883c7b7690280fbc0",
    "deepnote_app_block_visible": true,
    "deepnote_cell_type": "code",
    "deepnote_to_be_reexecuted": false,
    "execution_millis": 2035,
    "execution_start": 1718535569469,
    "source_hash": "615a6f2d"
   },
   "outputs": [
    {
     "data": {
      "image/png": "[encoded data removed]",
      "text/plain": [
       "<Figure size 640x480 with 1 Axes>"
      ]
     },
     "metadata": {
      "image/png": {
       "height": 479,
       "width": 571
      }
     },
     "output_type": "display_data"
    },
    {
     "data": {
      "image/png": "[encoded data removed]",
      "text/plain": [
       "<Figure size 640x480 with 1 Axes>"
      ]
     },
     "metadata": {
      "image/png": {
       "height": 436,
       "width": 468
      }
     },
     "output_type": "display_data"
    },
    {
     "data": {
      "image/png": "[encoded data removed]",
      "text/plain": [
       "<Figure size 640x480 with 1 Axes>"
      ]
     },
     "metadata": {
      "image/png": {
       "height": 470,
       "width": 630
      }
     },
     "output_type": "display_data"
    },
    {
     "data": {
      "image/png": "[encoded data removed]",
      "text/plain": [
       "<Figure size 640x480 with 1 Axes>"
      ]
     },
     "metadata": {
      "image/png": {
       "height": 470,
       "width": 630
      }
     },
     "output_type": "display_data"
    },
    {
     "data": {
      "image/png": "[encoded data removed]",
      "text/plain": [
       "<Figure size 640x480 with 1 Axes>"
      ]
     },
     "metadata": {
      "image/png": {
       "height": 470,
       "width": 630
      }
     },
     "output_type": "display_data"
    },
    {
     "data": {
      "image/png": "[encoded data removed]",
      "text/plain": [
       "<Figure size 640x480 with 1 Axes>"
      ]
     },
     "metadata": {
      "image/png": {
       "height": 469,
       "width": 630
      }
     },
     "output_type": "display_data"
    }
   ],
   "outputs_reference": "s3:deepnote-cell-outputs-production/ee089766-4b79-41a8-a08e-98453b36d8a9",
   "source": [
    "import pandas as pd\n",
    "import matplotlib.pyplot as plt\n",
    "\n",
    "# Membaca dataset\n",
    "data = pd.read_csv(\"datamobil.csv\")\n",
    "\n",
    "# Membuat plot batang untuk fitur kategorikal\n",
    "data[\"buying\"].value_counts().plot(kind=\"bar\")\n",
    "plt.xlabel(\"Kategori Buying\")\n",
    "plt.ylabel(\"Frekuensi\")\n",
    "plt.title(\"Frekuensi Kategori Buying pada Dataset Car Evaluation\")\n",
    "plt.show()\n",
    "\n",
    "# Membuat pie chart untuk fitur kategorikal\n",
    "data[\"maint\"].value_counts().plot(kind=\"pie\", autopct=\"%1.1f%%\")\n",
    "plt.xlabel(\"Kategori Maint\")\n",
    "plt.title(\"Frekuensi Kategori Maint pada Dataset Car Evaluation\")\n",
    "plt.show()\n",
    "\n",
    "# Fitur Doors\n",
    "data[\"doors\"].value_counts().plot(kind=\"bar\", colormap=\"tab20\")\n",
    "plt.xlabel(\"Jumlah Pintu\")\n",
    "plt.ylabel(\"Frekuensi\")\n",
    "plt.title(\"Frekuensi Jumlah Pintu pada Dataset Car Evaluation\")\n",
    "plt.xticks(rotation=45)\n",
    "plt.tight_layout()\n",
    "plt.show()\n",
    "\n",
    "# Fitur Persons\n",
    "data[\"persons\"].value_counts().plot(kind=\"bar\", colormap=\"tab20\")\n",
    "plt.xlabel(\"Jumlah Orang\")\n",
    "plt.ylabel(\"Frekuensi\")\n",
    "plt.title(\"Frekuensi Jumlah Orang pada Dataset Car Evaluation\")\n",
    "plt.xticks(rotation=45)\n",
    "plt.tight_layout()\n",
    "plt.show()\n",
    "\n",
    "# Fitur Lug_Boot\n",
    "data[\"lug_boot\"].value_counts().plot(kind=\"bar\", colormap=\"tab20\")\n",
    "plt.xlabel(\"Ukuran Bagasi\")\n",
    "plt.ylabel(\"Frekuensi\")\n",
    "plt.title(\"Frekuensi Ukuran Bagasi pada Dataset Car Evaluation\")\n",
    "plt.xticks(rotation=45)\n",
    "plt.tight_layout()\n",
    "plt.show()\n",
    "\n",
    "# Fitur Safety\n",
    "data[\"safety\"].value_counts().plot(kind=\"pie\", autopct=\"%1.1f%%\", startangle=140, colors=[\"gold\", \"lightskyblue\", \"lightcoral\"])\n",
    "plt.xlabel(\"Tingkat Keamanan\")\n",
    "plt.title(\"Frekuensi Tingkat Keamanan pada Dataset Car Evaluation\")\n",
    "plt.axis(\"equal\")\n",
    "plt.tight_layout()\n",
    "plt.show()"
   ]
  },
  {
   "block_group": "3357558a773c4e2b9c842e2d53f72212",
   "cell_type": "markdown",
   "metadata": {
    "cell_id": "9abfa80033e84a5285038cbbe76cb98a",
    "deepnote_app_block_visible": true,
    "deepnote_cell_type": "text-cell-h2",
    "formattedRanges": []
   },
   "source": [
    "## Preprocessing Dataset"
   ]
  },
  {
   "block_group": "06049327d6f94d9e81b2047af13bcb67",
   "cell_type": "markdown",
   "metadata": {
    "cell_id": "bb335318f24e46c5a78a3447f20afb2a",
    "deepnote_app_block_visible": true,
    "deepnote_cell_type": "text-cell-p",
    "formattedRanges": [
     {
      "fromCodePoint": 8,
      "marks": {
       "bold": true
      },
      "toCodePoint": 21,
      "type": "marks"
     },
     {
      "fromCodePoint": 28,
      "marks": {
       "bold": true
      },
      "toCodePoint": 47,
      "type": "marks"
     }
    ]
   },
   "source": [
    "Apa Itu Preprocessing Data?\n",
    "Preprocessing data adalah serangkaian langkah yang dilakukan pada data mentah sebelum dimasukkan ke dalam model machine learning. Tujuan utamanya adalah untuk mengubah data ke dalam format yang lebih mudah untuk dianalisis atau diproses oleh algoritma pembelajaran mesin."
   ]
  },
  {
   "block_group": "62089db18bd547c79cee11a90dd91a2f",
   "cell_type": "markdown",
   "metadata": {
    "cell_id": "0db0ed1d8b7f42be91093bbe77522f0f",
    "deepnote_app_block_visible": true,
    "deepnote_cell_type": "text-cell-p",
    "formattedRanges": []
   },
   "source": [
    "Beberapa teknik umum dalam preprocessing data yang diimplementasikan dalam dataset ini, meliputi:"
   ]
  },
  {
   "block_group": "def797d25d5c4eeb9afaaf27991624a1",
   "cell_type": "markdown",
   "metadata": {
    "cell_id": "753836af3c3645cab0351b6fde55d236",
    "deepnote_app_block_visible": true,
    "deepnote_cell_type": "text-cell-p",
    "formattedRanges": [
     {
      "fromCodePoint": 1,
      "marks": {
       "bold": true
      },
      "toCodePoint": 24,
      "type": "marks"
     },
     {
      "fromCodePoint": 107,
      "marks": {
       "bold": true
      },
      "toCodePoint": 123,
      "type": "marks"
     },
     {
      "fromCodePoint": 216,
      "marks": {
       "bold": true
      },
      "toCodePoint": 241,
      "type": "marks"
     },
     {
      "fromCodePoint": 343,
      "marks": {
       "bold": true
      },
      "toCodePoint": 359,
      "type": "marks"
     },
     {
      "fromCodePoint": 557,
      "marks": {
       "bold": true
      },
      "toCodePoint": 571,
      "type": "marks"
     },
     {
      "fromCodePoint": 646,
      "marks": {
       "bold": true
      },
      "toCodePoint": 664,
      "type": "marks"
     }
    ],
    "is_collapsed": false
   },
   "source": [
    "-Handling Missing Values: Mengisi nilai yang hilang atau menghapus baris/kolom dengan nilai yang hilang.\r\n",
    "-Handling Outlier: Data yang memiliki nilai ekstrem atau jauh berbeda dari nilai-nilai lain dalam dataset. \r\n",
    "-Encoding Categorical Data: Mengubah data kategorikal menjadi bentuk numerik agar dapat diproses oleh model machine learning.\r\n",
    "-Identifikasi KNN: Menentukan kelas atau nilai dari data baru berdasarkan kelas atau nilai dari data yang paling dekat (tetangga terdekat) di dalam dataset. (Optional/jika tidak missing values di kolom tertentu) \r\n",
    "-Data Splitting: Membagi data menjadi data pelatihan dan data uji untuk evaluasi model.\r\n",
    "-Identifikasi LOF: Proses untuk mengidentifikasi data yang tidak sesuai atau tidak mengikuti pola yang ada dalam dataset."
   ]
  },
  {
   "block_group": "bd7f0ec775ce45d580582f9f63ccf61f",
   "cell_type": "markdown",
   "metadata": {
    "cell_id": "41712f75fa2a46998effe913c2b2d9dd",
    "deepnote_app_block_visible": true,
    "deepnote_cell_type": "text-cell-p",
    "formattedRanges": []
   },
   "source": [
    "Berikut ini merupakan penjelasan beserta implementasinya untuk Car Evaluation Dataset adalah sebagai berikut."
   ]
  },
  {
   "block_group": "5d8b83cb7478432a813acff416ca6ecf",
   "cell_type": "markdown",
   "metadata": {
    "cell_id": "2d485298917a4030b0398328c2637abc",
    "deepnote_app_block_visible": true,
    "deepnote_cell_type": "text-cell-h3",
    "formattedRanges": [],
    "is_collapsed": false
   },
   "source": [
    "### Mengidentifikasi Missing Values"
   ]
  },
  {
   "block_group": "0cb2b49740d24c3fa6334ffe3dfac66d",
   "cell_type": "markdown",
   "metadata": {
    "cell_id": "0f778193680f48feba0fde8361738888",
    "deepnote_app_block_visible": true,
    "deepnote_cell_type": "text-cell-p",
    "formattedRanges": []
   },
   "source": [
    "Missing value, atau nilai yang hilang, adalah istilah yang digunakan dalam analisis data untuk merujuk pada entri yang tidak ada dalam dataset. Hal ini bisa terjadi karena berbagai alasan, seperti kesalahan dalam pengumpulan data, kesalahan pengisian formulir, atau data yang memang tidak tersedia. Missing value dapat berdampak signifikan pada analisis dan hasil model pembelajaran mesin jika tidak ditangani dengan benar."
   ]
  },
  {
   "block_group": "170d7b0dccba4451896072a9dfc03381",
   "cell_type": "markdown",
   "metadata": {
    "cell_id": "2a8311a0ad214cf3a3b09bdd96efdf41",
    "deepnote_app_block_visible": true,
    "deepnote_cell_type": "text-cell-p",
    "formattedRanges": [
     {
      "fromCodePoint": 50,
      "marks": {
       "bold": true
      },
      "toCodePoint": 66,
      "type": "marks"
     },
     {
      "fromCodePoint": 249,
      "marks": {
       "bold": true
      },
      "toCodePoint": 262,
      "type": "marks"
     },
     {
      "fromCodePoint": 629,
      "marks": {
       "bold": true
      },
      "toCodePoint": 648,
      "type": "marks"
     },
     {
      "fromCodePoint": 782,
      "marks": {
       "bold": true
      },
      "toCodePoint": 809,
      "type": "marks"
     }
    ]
   },
   "source": [
    "Metode Penanganan Missing Value, di antaranya:\r\n",
    "- Penghapusan Data:\r\n",
    "       Listwise Deletion: Menghapus seluruh baris data yang mengandung nilai yang hilang.\r\n",
    "       Pairwise Deletion: Menggunakan subset data yang lengkap untuk setiap analisis.\r\n",
    "- Imputasi Data:\r\n",
    "\tMean/Median/Mode Imputation: Menggantikan nilai yang hilang dengan mean, median, atau mode dari variabel tersebut.\r\n",
    "\tRegression Imputation: Menggunakan regresi untuk memprediksi dan mengganti nilai yang hilang.\r\n",
    "\tK-Nearest Neighbors (KNN) Imputation: Menggantikan nilai yang hilang dengan nilai rata-rata dari k tetangga terdekat.\r\n",
    "\tPenggunaan Model Kompleks:\r\n",
    "- Multiple Imputation: Menggunakan beberapa imputasi untuk menghasilkan beberapa set lengkap data, menganalisis setiap set, dan menggabungkan hasilnya.\r\n",
    "- Machine Learning Algorithms: Menggunakan algoritma pembelajaran mesin untuk memprediksi nilai yang hilang."
   ]
  },
  {
   "block_group": "af576ee48a49486b9c861eb31aad2edf",
   "cell_type": "code",
   "content_dependencies": {
    "codeHash": "aba40e71",
    "definedVariables": [],
    "importedModules": [],
    "usedVariables": []
   },
   "execution_count": 8,
   "metadata": {
    "cell_id": "2af1ba68d8894a18ac8f4d10f2312ee1",
    "deepnote_app_block_visible": true,
    "deepnote_cell_type": "sql",
    "deepnote_sql_source": "SELECT *\nFROM `car`.`datamobil`\nWHERE `buying` IS NULL\n    AND `maint` IS NULL\n    AND `doors` IS NULL\n    AND `persons` IS NULL\n    AND `lug_boot` IS NULL\n    AND `safety` IS NULL;",
    "deepnote_to_be_reexecuted": false,
    "deepnote_variable_name": "df_2",
    "execution_millis": 3141,
    "execution_start": 1718535571509,
    "source_hash": "6ffa861a",
    "sql_integration_id": "69180be6-4514-45e9-a13b-52b1406ef574"
   },
   "outputs": [
    {
     "data": {
      "application/vnd.deepnote.sql-output-metadata+json": {
       "size_in_bytes": 124,
       "status": "success_no_cache"
      }
     },
     "metadata": {},
     "output_type": "display_data"
    },
    {
     "data": {
      "application/vnd.deepnote.dataframe.v3+json": {
       "column_count": 8,
       "columns": [
        {
         "dtype": "object",
         "name": "id",
         "stats": {
          "categories": [],
          "nan_count": 0,
          "unique_count": 0
         }
        },
        {
         "dtype": "object",
         "name": "buying",
         "stats": {
          "categories": [],
          "nan_count": 0,
          "unique_count": 0
         }
        },
        {
         "dtype": "object",
         "name": "maint",
         "stats": {
          "categories": [],
          "nan_count": 0,
          "unique_count": 0
         }
        },
        {
         "dtype": "object",
         "name": "doors",
         "stats": {
          "categories": [],
          "nan_count": 0,
          "unique_count": 0
         }
        },
        {
         "dtype": "object",
         "name": "persons",
         "stats": {
          "categories": [],
          "nan_count": 0,
          "unique_count": 0
         }
        },
        {
         "dtype": "object",
         "name": "lug_boot",
         "stats": {
          "categories": [],
          "nan_count": 0,
          "unique_count": 0
         }
        },
        {
         "dtype": "object",
         "name": "safety",
         "stats": {
          "categories": [],
          "nan_count": 0,
          "unique_count": 0
         }
        },
        {
         "dtype": "object",
         "name": "target",
         "stats": {
          "categories": [],
          "nan_count": 0,
          "unique_count": 0
         }
        },
        {
         "dtype": "int64",
         "name": "_deepnote_index_column"
        }
       ],
       "row_count": 0,
       "rows": []
      },
      "text/html": [
       "<div>\n",
       "<style scoped>\n",
       "    .dataframe tbody tr th:only-of-type {\n",
       "        vertical-align: middle;\n",
       "    }\n",
       "\n",
       "    .dataframe tbody tr th {\n",
       "        vertical-align: top;\n",
       "    }\n",
       "\n",
       "    .dataframe thead th {\n",
       "        text-align: right;\n",
       "    }\n",
       "</style>\n",
       "<table border=\"1\" class=\"dataframe\">\n",
       "  <thead>\n",
       "    <tr style=\"text-align: right;\">\n",
       "      <th></th>\n",
       "      <th>id</th>\n",
       "      <th>buying</th>\n",
       "      <th>maint</th>\n",
       "      <th>doors</th>\n",
       "      <th>persons</th>\n",
       "      <th>lug_boot</th>\n",
       "      <th>safety</th>\n",
       "      <th>target</th>\n",
       "    </tr>\n",
       "  </thead>\n",
       "  <tbody>\n",
       "  </tbody>\n",
       "</table>\n",
       "</div>"
      ],
      "text/plain": [
       "Empty DataFrame\n",
       "Columns: [id, buying, maint, doors, persons, lug_boot, safety, target]\n",
       "Index: []"
      ]
     },
     "execution_count": 8,
     "metadata": {},
     "output_type": "execute_result"
    }
   ],
   "outputs_reference": "s3:deepnote-cell-outputs-production/fda6f88c-2f5a-44e6-8fa8-99075914b591",
   "source": [
    "df_2 = _deepnote_execute_sql('SELECT *\\nFROM `car`.`datamobil`\\nWHERE `buying` IS NULL\\n    AND `maint` IS NULL\\n    AND `doors` IS NULL\\n    AND `persons` IS NULL\\n    AND `lug_boot` IS NULL\\n    AND `safety` IS NULL;', 'SQL_69180BE6_4514_45E9_A13B_52B1406EF574', audit_sql_comment='', sql_cache_mode='cache_disabled')\n",
    "df_2"
   ]
  },
  {
   "block_group": "2eca06d5b797445d8d4bcf78efa8148e",
   "cell_type": "code",
   "content_dependencies": {
    "codeHash": "c7f2fce3",
    "definedVariables": [],
    "importedModules": [],
    "usedVariables": [
     "cardata"
    ]
   },
   "execution_count": 9,
   "metadata": {
    "cell_id": "92390916843e45d7bb1fba1e89796758",
    "deepnote_app_block_visible": true,
    "deepnote_cell_type": "code",
    "deepnote_to_be_reexecuted": false,
    "execution_millis": 188,
    "execution_start": 1718535574669,
    "source_hash": "c7f2fce3"
   },
   "outputs": [
    {
     "data": {
      "application/vnd.deepnote.dataframe.v3+json": {
       "column_count": 8,
       "columns": [
        {
         "dtype": "bool",
         "name": "id",
         "stats": {
          "categories": [
           {
            "count": 1728,
            "name": "False"
           }
          ],
          "nan_count": 0,
          "unique_count": 1
         }
        },
        {
         "dtype": "bool",
         "name": "buying",
         "stats": {
          "categories": [
           {
            "count": 1728,
            "name": "False"
           }
          ],
          "nan_count": 0,
          "unique_count": 1
         }
        },
        {
         "dtype": "bool",
         "name": "maint",
         "stats": {
          "categories": [
           {
            "count": 1728,
            "name": "False"
           }
          ],
          "nan_count": 0,
          "unique_count": 1
         }
        },
        {
         "dtype": "bool",
         "name": "doors",
         "stats": {
          "categories": [
           {
            "count": 1728,
            "name": "False"
           }
          ],
          "nan_count": 0,
          "unique_count": 1
         }
        },
        {
         "dtype": "bool",
         "name": "persons",
         "stats": {
          "categories": [
           {
            "count": 1728,
            "name": "False"
           }
          ],
          "nan_count": 0,
          "unique_count": 1
         }
        },
        {
         "dtype": "bool",
         "name": "lug_boot",
         "stats": {
          "categories": [
           {
            "count": 1728,
            "name": "False"
           }
          ],
          "nan_count": 0,
          "unique_count": 1
         }
        },
        {
         "dtype": "bool",
         "name": "safety",
         "stats": {
          "categories": [
           {
            "count": 1728,
            "name": "False"
           }
          ],
          "nan_count": 0,
          "unique_count": 1
         }
        },
        {
         "dtype": "bool",
         "name": "target",
         "stats": {
          "categories": [
           {
            "count": 1728,
            "name": "False"
           }
          ],
          "nan_count": 0,
          "unique_count": 1
         }
        },
        {
         "dtype": "int64",
         "name": "_deepnote_index_column"
        }
       ],
       "row_count": 1728,
       "rows": [
        {
         "_deepnote_index_column": 0,
         "buying": "False",
         "doors": "False",
         "id": "False",
         "lug_boot": "False",
         "maint": "False",
         "persons": "False",
         "safety": "False",
         "target": "False"
        },
        {
         "_deepnote_index_column": 1,
         "buying": "False",
         "doors": "False",
         "id": "False",
         "lug_boot": "False",
         "maint": "False",
         "persons": "False",
         "safety": "False",
         "target": "False"
        },
        {
         "_deepnote_index_column": 2,
         "buying": "False",
         "doors": "False",
         "id": "False",
         "lug_boot": "False",
         "maint": "False",
         "persons": "False",
         "safety": "False",
         "target": "False"
        },
        {
         "_deepnote_index_column": 3,
         "buying": "False",
         "doors": "False",
         "id": "False",
         "lug_boot": "False",
         "maint": "False",
         "persons": "False",
         "safety": "False",
         "target": "False"
        },
        {
         "_deepnote_index_column": 4,
         "buying": "False",
         "doors": "False",
         "id": "False",
         "lug_boot": "False",
         "maint": "False",
         "persons": "False",
         "safety": "False",
         "target": "False"
        },
        {
         "_deepnote_index_column": 5,
         "buying": "False",
         "doors": "False",
         "id": "False",
         "lug_boot": "False",
         "maint": "False",
         "persons": "False",
         "safety": "False",
         "target": "False"
        },
        {
         "_deepnote_index_column": 6,
         "buying": "False",
         "doors": "False",
         "id": "False",
         "lug_boot": "False",
         "maint": "False",
         "persons": "False",
         "safety": "False",
         "target": "False"
        },
        {
         "_deepnote_index_column": 7,
         "buying": "False",
         "doors": "False",
         "id": "False",
         "lug_boot": "False",
         "maint": "False",
         "persons": "False",
         "safety": "False",
         "target": "False"
        },
        {
         "_deepnote_index_column": 8,
         "buying": "False",
         "doors": "False",
         "id": "False",
         "lug_boot": "False",
         "maint": "False",
         "persons": "False",
         "safety": "False",
         "target": "False"
        },
        {
         "_deepnote_index_column": 9,
         "buying": "False",
         "doors": "False",
         "id": "False",
         "lug_boot": "False",
         "maint": "False",
         "persons": "False",
         "safety": "False",
         "target": "False"
        }
       ]
      },
      "text/html": [
       "<div>\n",
       "<style scoped>\n",
       "    .dataframe tbody tr th:only-of-type {\n",
       "        vertical-align: middle;\n",
       "    }\n",
       "\n",
       "    .dataframe tbody tr th {\n",
       "        vertical-align: top;\n",
       "    }\n",
       "\n",
       "    .dataframe thead th {\n",
       "        text-align: right;\n",
       "    }\n",
       "</style>\n",
       "<table border=\"1\" class=\"dataframe\">\n",
       "  <thead>\n",
       "    <tr style=\"text-align: right;\">\n",
       "      <th></th>\n",
       "      <th>id</th>\n",
       "      <th>buying</th>\n",
       "      <th>maint</th>\n",
       "      <th>doors</th>\n",
       "      <th>persons</th>\n",
       "      <th>lug_boot</th>\n",
       "      <th>safety</th>\n",
       "      <th>target</th>\n",
       "    </tr>\n",
       "  </thead>\n",
       "  <tbody>\n",
       "    <tr>\n",
       "      <th>0</th>\n",
       "      <td>False</td>\n",
       "      <td>False</td>\n",
       "      <td>False</td>\n",
       "      <td>False</td>\n",
       "      <td>False</td>\n",
       "      <td>False</td>\n",
       "      <td>False</td>\n",
       "      <td>False</td>\n",
       "    </tr>\n",
       "    <tr>\n",
       "      <th>1</th>\n",
       "      <td>False</td>\n",
       "      <td>False</td>\n",
       "      <td>False</td>\n",
       "      <td>False</td>\n",
       "      <td>False</td>\n",
       "      <td>False</td>\n",
       "      <td>False</td>\n",
       "      <td>False</td>\n",
       "    </tr>\n",
       "    <tr>\n",
       "      <th>2</th>\n",
       "      <td>False</td>\n",
       "      <td>False</td>\n",
       "      <td>False</td>\n",
       "      <td>False</td>\n",
       "      <td>False</td>\n",
       "      <td>False</td>\n",
       "      <td>False</td>\n",
       "      <td>False</td>\n",
       "    </tr>\n",
       "    <tr>\n",
       "      <th>3</th>\n",
       "      <td>False</td>\n",
       "      <td>False</td>\n",
       "      <td>False</td>\n",
       "      <td>False</td>\n",
       "      <td>False</td>\n",
       "      <td>False</td>\n",
       "      <td>False</td>\n",
       "      <td>False</td>\n",
       "    </tr>\n",
       "    <tr>\n",
       "      <th>4</th>\n",
       "      <td>False</td>\n",
       "      <td>False</td>\n",
       "      <td>False</td>\n",
       "      <td>False</td>\n",
       "      <td>False</td>\n",
       "      <td>False</td>\n",
       "      <td>False</td>\n",
       "      <td>False</td>\n",
       "    </tr>\n",
       "    <tr>\n",
       "      <th>...</th>\n",
       "      <td>...</td>\n",
       "      <td>...</td>\n",
       "      <td>...</td>\n",
       "      <td>...</td>\n",
       "      <td>...</td>\n",
       "      <td>...</td>\n",
       "      <td>...</td>\n",
       "      <td>...</td>\n",
       "    </tr>\n",
       "    <tr>\n",
       "      <th>1723</th>\n",
       "      <td>False</td>\n",
       "      <td>False</td>\n",
       "      <td>False</td>\n",
       "      <td>False</td>\n",
       "      <td>False</td>\n",
       "      <td>False</td>\n",
       "      <td>False</td>\n",
       "      <td>False</td>\n",
       "    </tr>\n",
       "    <tr>\n",
       "      <th>1724</th>\n",
       "      <td>False</td>\n",
       "      <td>False</td>\n",
       "      <td>False</td>\n",
       "      <td>False</td>\n",
       "      <td>False</td>\n",
       "      <td>False</td>\n",
       "      <td>False</td>\n",
       "      <td>False</td>\n",
       "    </tr>\n",
       "    <tr>\n",
       "      <th>1725</th>\n",
       "      <td>False</td>\n",
       "      <td>False</td>\n",
       "      <td>False</td>\n",
       "      <td>False</td>\n",
       "      <td>False</td>\n",
       "      <td>False</td>\n",
       "      <td>False</td>\n",
       "      <td>False</td>\n",
       "    </tr>\n",
       "    <tr>\n",
       "      <th>1726</th>\n",
       "      <td>False</td>\n",
       "      <td>False</td>\n",
       "      <td>False</td>\n",
       "      <td>False</td>\n",
       "      <td>False</td>\n",
       "      <td>False</td>\n",
       "      <td>False</td>\n",
       "      <td>False</td>\n",
       "    </tr>\n",
       "    <tr>\n",
       "      <th>1727</th>\n",
       "      <td>False</td>\n",
       "      <td>False</td>\n",
       "      <td>False</td>\n",
       "      <td>False</td>\n",
       "      <td>False</td>\n",
       "      <td>False</td>\n",
       "      <td>False</td>\n",
       "      <td>False</td>\n",
       "    </tr>\n",
       "  </tbody>\n",
       "</table>\n",
       "<p>1728 rows × 8 columns</p>\n",
       "</div>"
      ],
      "text/plain": [
       "         id  buying  maint  doors  persons  lug_boot  safety  target\n",
       "0     False   False  False  False    False     False   False   False\n",
       "1     False   False  False  False    False     False   False   False\n",
       "2     False   False  False  False    False     False   False   False\n",
       "3     False   False  False  False    False     False   False   False\n",
       "4     False   False  False  False    False     False   False   False\n",
       "...     ...     ...    ...    ...      ...       ...     ...     ...\n",
       "1723  False   False  False  False    False     False   False   False\n",
       "1724  False   False  False  False    False     False   False   False\n",
       "1725  False   False  False  False    False     False   False   False\n",
       "1726  False   False  False  False    False     False   False   False\n",
       "1727  False   False  False  False    False     False   False   False\n",
       "\n",
       "[1728 rows x 8 columns]"
      ]
     },
     "execution_count": 9,
     "metadata": {},
     "output_type": "execute_result"
    }
   ],
   "outputs_reference": "s3:deepnote-cell-outputs-production/3480c020-0fff-4d6f-ba01-7c080df3e78f",
   "source": [
    "cardata.isnull()"
   ]
  },
  {
   "block_group": "d11b54a61b034b5186b8d3ebc0bd4abb",
   "cell_type": "markdown",
   "metadata": {
    "cell_id": "2d6c91519cd54528b6e8c4f8148d1353",
    "deepnote_app_block_visible": true,
    "deepnote_cell_type": "text-cell-p",
    "formattedRanges": [
     {
      "fromCodePoint": 80,
      "marks": {
       "bold": true,
       "italic": true
      },
      "toCodePoint": 95,
      "type": "marks"
     },
     {
      "fromCodePoint": 138,
      "marks": {
       "bold": true
      },
      "toCodePoint": 161,
      "type": "marks"
     },
     {
      "fromCodePoint": 183,
      "marks": {
       "bold": true
      },
      "toCodePoint": 198,
      "type": "marks"
     }
    ]
   },
   "source": [
    "Dari hasil yang dilakukan pada Query di atas, dapat disimpulkan bahwa tidak ada Missing Values pada dataset Car Evaluation di atas. Jadi, Dataset Car Evaluation dengan ketidakhadiran Missing Values menjadikan sumber data yang ideal untuk tugas klasifikasi. Hal ini memungkinkan model untuk dilatih dengan data yang lengkap dan akurat, menghasilkan prediksi yang lebih andal dan analisis data yang lebih mudah."
   ]
  },
  {
   "block_group": "4495450d698545e59d5b79e824a0673b",
   "cell_type": "markdown",
   "metadata": {
    "cell_id": "04f75261108244c2911dc71da7b4520f",
    "deepnote_app_block_visible": true,
    "deepnote_cell_type": "text-cell-h3",
    "formattedRanges": [],
    "is_collapsed": false
   },
   "source": [
    "### Mengidentifikasi Outlier"
   ]
  },
  {
   "block_group": "2afc4c298dc24db7bae7b3b3510aa7da",
   "cell_type": "markdown",
   "metadata": {
    "cell_id": "61139aca3e2d4c4a9d7f9f7943fc9724",
    "deepnote_app_block_visible": true,
    "deepnote_cell_type": "text-cell-p",
    "formattedRanges": []
   },
   "source": [
    "Identifikasi outlier adalah proses untuk mengidentifikasi data yang tidak sesuai atau tidak mengikuti pola yang ada dalam dataset. Outlier dapat mempengaruhi analisis data dan hasil yang didapatkan, sehingga penting untuk mendeteksi dan menanganinya dengan benar. Ada berbagai metode untuk mengidentifikasi outlier, termasuk metode statistik dan visualisasi data. "
   ]
  },
  {
   "block_group": "574ccf421e9842f1bc5e1dcb167871d1",
   "cell_type": "code",
   "content_dependencies": {
    "codeHash": "f66d0ca3",
    "definedVariables": [
     "col",
     "df",
     "data",
     "ordinal_columns"
    ],
    "importedModules": [
     "plt",
     "pd"
    ],
    "usedVariables": [
     "df",
     "plt",
     "data",
     "col",
     "ordinal_columns",
     "cardata"
    ]
   },
   "execution_count": 10,
   "metadata": {
    "cell_id": "cd32a782caac444ea28edbcf0aaece7c",
    "deepnote_app_block_visible": true,
    "deepnote_cell_type": "code",
    "deepnote_to_be_reexecuted": false,
    "execution_millis": 1226,
    "execution_start": 1718535574710,
    "source_hash": "f66d0ca3"
   },
   "outputs": [
    {
     "name": "stdout",
     "output_type": "stream",
     "text": [
      "Kolom ordinal: buying\n",
      "\n",
      "Frekuensi kategori buying:\n",
      "buying\n",
      "vhigh    432\n",
      "high     432\n",
      "med      432\n",
      "low      432\n",
      "Name: count, dtype: int64\n"
     ]
    },
    {
     "data": {
      "image/png": "[encoded data removed]",
      "text/plain": [
       "<Figure size 640x480 with 1 Axes>"
      ]
     },
     "metadata": {
      "image/png": {
       "height": 435,
       "width": 552
      }
     },
     "output_type": "display_data"
    },
    {
     "name": "stdout",
     "output_type": "stream",
     "text": [
      "Kolom ordinal: maint\n",
      "\n",
      "Frekuensi kategori maint:\n",
      "maint\n",
      "vhigh    432\n",
      "high     432\n",
      "med      432\n",
      "low      432\n",
      "Name: count, dtype: int64\n"
     ]
    },
    {
     "data": {
      "image/png": "[encoded data removed]",
      "text/plain": [
       "<Figure size 640x480 with 1 Axes>"
      ]
     },
     "metadata": {
      "image/png": {
       "height": 435,
       "width": 552
      }
     },
     "output_type": "display_data"
    },
    {
     "name": "stdout",
     "output_type": "stream",
     "text": [
      "Kolom ordinal: doors\n",
      "\n",
      "Frekuensi kategori doors:\n",
      "doors\n",
      "2        432\n",
      "3        432\n",
      "4        432\n",
      "5more    432\n",
      "Name: count, dtype: int64\n"
     ]
    },
    {
     "data": {
      "image/png": "[encoded data removed]",
      "text/plain": [
       "<Figure size 640x480 with 1 Axes>"
      ]
     },
     "metadata": {
      "image/png": {
       "height": 435,
       "width": 552
      }
     },
     "output_type": "display_data"
    },
    {
     "name": "stdout",
     "output_type": "stream",
     "text": [
      "Kolom ordinal: persons\n",
      "\n",
      "Frekuensi kategori persons:\n",
      "persons\n",
      "2       576\n",
      "4       576\n",
      "more    576\n",
      "Name: count, dtype: int64\n"
     ]
    },
    {
     "data": {
      "image/png": "[encoded data removed]",
      "text/plain": [
       "<Figure size 640x480 with 1 Axes>"
      ]
     },
     "metadata": {
      "image/png": {
       "height": 435,
       "width": 552
      }
     },
     "output_type": "display_data"
    },
    {
     "name": "stdout",
     "output_type": "stream",
     "text": [
      "Kolom ordinal: lug_boot\n",
      "\n",
      "Frekuensi kategori lug_boot:\n",
      "lug_boot\n",
      "small    576\n",
      "med      576\n",
      "big      576\n",
      "Name: count, dtype: int64\n"
     ]
    },
    {
     "data": {
      "image/png": "[encoded data removed]",
      "text/plain": [
       "<Figure size 640x480 with 1 Axes>"
      ]
     },
     "metadata": {
      "image/png": {
       "height": 435,
       "width": 552
      }
     },
     "output_type": "display_data"
    },
    {
     "name": "stdout",
     "output_type": "stream",
     "text": [
      "Kolom ordinal: safety\n",
      "\n",
      "Frekuensi kategori safety:\n",
      "safety\n",
      "low     576\n",
      "med     576\n",
      "high    576\n",
      "Name: count, dtype: int64\n"
     ]
    },
    {
     "data": {
      "image/png": "[encoded data removed]",
      "text/plain": [
       "<Figure size 640x480 with 1 Axes>"
      ]
     },
     "metadata": {
      "image/png": {
       "height": 435,
       "width": 552
      }
     },
     "output_type": "display_data"
    }
   ],
   "outputs_reference": "s3:deepnote-cell-outputs-production/4a8120f1-02c1-4234-ba93-908b1bce7fdb",
   "source": [
    "import pandas as pd\n",
    "import matplotlib.pyplot as plt\n",
    "\n",
    "# Membaca dataset\n",
    "data = cardata\n",
    "\n",
    "# DataFrame diubah alias ke 'df'\n",
    "df = data\n",
    "\n",
    "# Identifikasi kolom type ordinal\n",
    "ordinal_columns = df.select_dtypes(include=['object']).columns\n",
    "ordinal_columns = [col for col in ordinal_columns if col != 'target']\n",
    "\n",
    "# Analisis outlier untuk setiap kolom ordinal\n",
    "for col in ordinal_columns:\n",
    "  if df[col].nunique() > 2:\n",
    "    print(f\"Kolom ordinal: {col}\")\n",
    "\n",
    "    # Hitung frekuensi kategori\n",
    "    print(f\"\\nFrekuensi kategori {col}:\")\n",
    "    print(df[col].value_counts())\n",
    "\n",
    "    # Visualisasi distribusi kategori\n",
    "    plt.hist(df[col])\n",
    "    plt.title(f\"Distribusi kategori: {col}\")\n",
    "    plt.show()"
   ]
  },
  {
   "block_group": "34ad21a890f248e2b7754b1cb6d0b195",
   "cell_type": "markdown",
   "metadata": {
    "cell_id": "6fa7e1f5ea454323b0bf06683f21cbec",
    "deepnote_app_block_visible": true,
    "deepnote_cell_type": "text-cell-p",
    "formattedRanges": []
   },
   "source": [
    "Berdasarkan analisis outlier yang dilakukan terhadap enam fitur ordinal (buying, maint, doors, persons, lug_boot, safety), tidak ditemukan adanya outlier yang signifikan pada dataset."
   ]
  },
  {
   "block_group": "f7645c09b5874434a569138d55a5b026",
   "cell_type": "markdown",
   "metadata": {
    "cell_id": "ac9f73d940494010ad2d19a3411110c9",
    "deepnote_app_block_visible": true,
    "deepnote_cell_type": "text-cell-p",
    "formattedRanges": [
     {
      "fromCodePoint": 55,
      "marks": {
       "bold": true
      },
      "toCodePoint": 77,
      "type": "marks"
     },
     {
      "fromCodePoint": 293,
      "marks": {
       "bold": true
      },
      "toCodePoint": 294,
      "type": "marks"
     },
     {
      "fromCodePoint": 295,
      "marks": {
       "bold": true
      },
      "toCodePoint": 317,
      "type": "marks"
     }
    ]
   },
   "source": [
    "Hal ini dapat disimpulkan dari beberapa poin berikut:\r\n",
    "- Distribusi Kategori: Frekuensi kategori untuk setiap fitur menunjukkan distribusi yang wajar dan tidak ada kenaikan melonjak pada kategori individu. Ini menunjukkan bahwa tidak ada data yang jauh melampaui nilai-nilai yang diharapkan.\r\n",
    "- Visualisasi Distribusi: Histogram untuk setiap fitur menampilkan distribusi data yang relatif normal tanpa adanya suatu data yang menonjol."
   ]
  },
  {
   "block_group": "38b6bce9f72c466c89b0a7c34f73749d",
   "cell_type": "markdown",
   "metadata": {
    "cell_id": "9e83b9b252304942ad139f3d00691f6d",
    "deepnote_app_block_visible": true,
    "deepnote_cell_type": "text-cell-p",
    "formattedRanges": [
     {
      "fromCodePoint": 49,
      "marks": {
       "bold": true
      },
      "toCodePoint": 73,
      "type": "marks"
     }
    ]
   },
   "source": [
    "Oleh karena itu, dapat disimpulkan bahwa dataset tidak mengandung outlier pada fitur ordinal dalam dataset Car Evaluation. Hal ini memungkinkan untuk melanjutkan analisis data tanpa perlu melakukan koreksi atau pemindahan outlier."
   ]
  },
  {
   "block_group": "1b8b7d26b74c4aa798e9c419513a4ab6",
   "cell_type": "markdown",
   "metadata": {
    "cell_id": "3457d76ab5b94f2db405d6ef22dedd34",
    "deepnote_app_block_visible": true,
    "deepnote_cell_type": "text-cell-h3",
    "formattedRanges": [],
    "is_collapsed": false
   },
   "source": [
    "### Encoding Data"
   ]
  },
  {
   "block_group": "7156b11788a84dbeac8762283ae3965d",
   "cell_type": "markdown",
   "metadata": {
    "cell_id": "aa3287aa9f82415d9c28817fb310acca",
    "deepnote_app_block_visible": true,
    "deepnote_cell_type": "text-cell-p",
    "formattedRanges": [
     {
      "fromCodePoint": 77,
      "marks": {
       "italic": true
      },
      "toCodePoint": 100,
      "type": "marks"
     }
    ]
   },
   "source": [
    "Untuk split dataset yang digunakan proyek ini, terdapat dalam sub-bab bagian Mengidentifikasi KNN . Hal ini dilakukan karena tahap tersebut berkaitan dengan split dataset. Jadinya, peletakan code implementasi ini tidak disampaikan pada bagian ini."
   ]
  },
  {
   "block_group": "9e6e593a1d0d4eaba68552fb753ee961",
   "cell_type": "markdown",
   "metadata": {
    "cell_id": "7ce84098123d4ab280ac50d55db8396f",
    "deepnote_app_block_visible": true,
    "deepnote_cell_type": "text-cell-p",
    "formattedRanges": [
     {
      "fromCodePoint": 79,
      "marks": {
       "bold": true,
       "italic": true
      },
      "toCodePoint": 91,
      "type": "marks"
     }
    ]
   },
   "source": [
    "Dalam kode dibawah menjelaskan preprocessing data dilakukan dengan menggunakan LabelEncoder untuk mengubah fitur kategorikal menjadi nilai numerik. Hal ini mempersiapkan data untuk analisis lebih lanjut atau untuk dimasukkan ke dalam model pembelajaran mesin. Pra-pemrosesan data yang baik adalah langkah penting dalam memastikan bahwa model yang dibangun dari data tersebut dapat memberikan hasil yang akurat dan bermakna."
   ]
  },
  {
   "block_group": "22280fc35eb44686999a58244924c01d",
   "cell_type": "code",
   "content_dependencies": null,
   "execution_count": 11,
   "metadata": {
    "cell_id": "360770b49db042c0bb9132c0b6f580e8",
    "deepnote_app_block_visible": true,
    "deepnote_cell_type": "code",
    "deepnote_to_be_reexecuted": false,
    "execution_millis": 390,
    "execution_start": 1718535575986,
    "source_hash": "49a94389"
   },
   "outputs": [],
   "outputs_reference": null,
   "source": [
    "import pandas as pd\n",
    "from sklearn.preprocessing import LabelEncoder\n",
    "\n",
    "# Preprocess data\n",
    "# Convert ordinal attributes to numerical values using LabelEncoder\n",
    "le_buying = LabelEncoder()\n",
    "le_maint = LabelEncoder()\n",
    "le_doors = LabelEncoder()\n",
    "le_persons = LabelEncoder()\n",
    "le_lug_boot = LabelEncoder()\n",
    "le_safety = LabelEncoder()\n",
    "le_target = LabelEncoder()\n",
    "\n",
    "df[\"buying\"] = le_buying.fit_transform(df[\"buying\"])\n",
    "df[\"maint\"] = le_maint.fit_transform(df[\"maint\"])\n",
    "df[\"doors\"] = le_doors.fit_transform(df[\"doors\"])\n",
    "df[\"persons\"] = le_persons.fit_transform(df[\"persons\"])\n",
    "df[\"lug_boot\"] = le_lug_boot.fit_transform(df[\"lug_boot\"])\n",
    "df[\"safety\"] = le_safety.fit_transform(df[\"safety\"])\n",
    "df[\"target\"] = le_target.fit_transform(df[\"target\"])"
   ]
  },
  {
   "block_group": "864b5f040b2744209f23e2954a090626",
   "cell_type": "code",
   "content_dependencies": null,
   "execution_count": 12,
   "metadata": {
    "cell_id": "bd0045c8923f41bda8b951f17371d162",
    "deepnote_app_block_visible": true,
    "deepnote_cell_type": "code",
    "deepnote_to_be_reexecuted": false,
    "execution_millis": 193,
    "execution_start": 1718535576379,
    "source_hash": "db5f413d"
   },
   "outputs": [
    {
     "name": "stdout",
     "output_type": "stream",
     "text": [
      "0       3\n",
      "1       3\n",
      "2       3\n",
      "3       3\n",
      "4       3\n",
      "       ..\n",
      "1723    1\n",
      "1724    1\n",
      "1725    1\n",
      "1726    1\n",
      "1727    1\n",
      "Name: buying, Length: 1728, dtype: int64 0       3\n",
      "1       3\n",
      "2       3\n",
      "3       3\n",
      "4       3\n",
      "       ..\n",
      "1723    1\n",
      "1724    1\n",
      "1725    1\n",
      "1726    1\n",
      "1727    1\n",
      "Name: maint, Length: 1728, dtype: int64 0       0\n",
      "1       0\n",
      "2       0\n",
      "3       0\n",
      "4       0\n",
      "       ..\n",
      "1723    3\n",
      "1724    3\n",
      "1725    3\n",
      "1726    3\n",
      "1727    3\n",
      "Name: doors, Length: 1728, dtype: int64 0       0\n",
      "1       0\n",
      "2       0\n",
      "3       0\n",
      "4       0\n",
      "       ..\n",
      "1723    2\n",
      "1724    2\n",
      "1725    2\n",
      "1726    2\n",
      "1727    2\n",
      "Name: persons, Length: 1728, dtype: int64 0       2\n",
      "1       2\n",
      "2       2\n",
      "3       1\n",
      "4       1\n",
      "       ..\n",
      "1723    1\n",
      "1724    1\n",
      "1725    0\n",
      "1726    0\n",
      "1727    0\n",
      "Name: lug_boot, Length: 1728, dtype: int64 0       1\n",
      "1       2\n",
      "2       0\n",
      "3       1\n",
      "4       2\n",
      "       ..\n",
      "1723    2\n",
      "1724    0\n",
      "1725    1\n",
      "1726    2\n",
      "1727    0\n",
      "Name: safety, Length: 1728, dtype: int64 0       2\n",
      "1       2\n",
      "2       2\n",
      "3       2\n",
      "4       2\n",
      "       ..\n",
      "1723    1\n",
      "1724    3\n",
      "1725    2\n",
      "1726    1\n",
      "1727    3\n",
      "Name: target, Length: 1728, dtype: int64\n"
     ]
    }
   ],
   "outputs_reference": "s3:deepnote-cell-outputs-production/b7d4ffbf-559e-4d8f-8104-33c8099e4801",
   "source": [
    "print(df[\"buying\"], df[\"maint\"], df[\"doors\"], df[\"persons\"], df[\"lug_boot\"], df[\"safety\"], df[\"target\"])"
   ]
  },
  {
   "block_group": "1cee75e4de7d471090d69216a83d2127",
   "cell_type": "code",
   "content_dependencies": null,
   "execution_count": 13,
   "metadata": {
    "cell_id": "eca39aa492b54add9aa7c43fbaf535c0",
    "deepnote_app_block_visible": true,
    "deepnote_cell_type": "code",
    "deepnote_to_be_reexecuted": false,
    "execution_millis": 314,
    "execution_start": 1718535576396,
    "source_hash": "26455a60"
   },
   "outputs": [
    {
     "name": "stdout",
     "output_type": "stream",
     "text": [
      "Encoded data saved to: datamobil-encoded.csv\n"
     ]
    }
   ],
   "outputs_reference": "dbtable:cell_outputs/22a19b10-c5af-4186-ad1b-0643787e8057",
   "source": [
    "import pandas as pd\n",
    "from sklearn.preprocessing import LabelEncoder\n",
    "\n",
    "# Load data\n",
    "df = pd.read_csv(\"datamobil.csv\")\n",
    "\n",
    "# Create LabelEncoders for ordinal attributes\n",
    "le_buying = LabelEncoder()\n",
    "le_maint = LabelEncoder()\n",
    "le_doors = LabelEncoder()\n",
    "le_persons = LabelEncoder()\n",
    "le_lug_boot = LabelEncoder()\n",
    "le_safety = LabelEncoder()\n",
    "le_target = LabelEncoder()\n",
    "\n",
    "# Encode data\n",
    "df[\"buying\"] = le_buying.fit_transform(df[\"buying\"])\n",
    "df[\"maint\"] = le_maint.fit_transform(df[\"maint\"])\n",
    "df[\"doors\"] = le_doors.fit_transform(df[\"doors\"])\n",
    "df[\"persons\"] = le_persons.fit_transform(df[\"persons\"])\n",
    "df[\"lug_boot\"] = le_lug_boot.fit_transform(df[\"lug_boot\"])\n",
    "df[\"safety\"] = le_safety.fit_transform(df[\"safety\"])\n",
    "df[\"target\"] = le_target.fit_transform(df[\"target\"])\n",
    "\n",
    "# Save encoded data to a new CSV file\n",
    "encoded_filename = \"datamobil-encoded.csv\"\n",
    "df.to_csv(encoded_filename, index=False)  # Save without index\n",
    "\n",
    "print(f\"Encoded data saved to: {encoded_filename}\")"
   ]
  },
  {
   "block_group": "8e1bb0d39506420cae95883036555059",
   "cell_type": "markdown",
   "metadata": {
    "cell_id": "0b09edf8891c4ca7a1f6d9aa8a1051fc",
    "deepnote_app_block_visible": true,
    "deepnote_cell_type": "text-cell-h3",
    "formattedRanges": [],
    "is_collapsed": false
   },
   "source": [
    "### Mengidentifikasi KNN"
   ]
  },
  {
   "block_group": "e3d5249763ec414298a6a2b9e6a0a26c",
   "cell_type": "markdown",
   "metadata": {
    "cell_id": "2023b5060f6444278395f338888d5088",
    "deepnote_app_block_visible": true,
    "deepnote_cell_type": "text-cell-p",
    "formattedRanges": []
   },
   "source": [
    "Algoritma KNN adalah salah satu algoritma yang digunakan dalam pembelajaran mesin untuk masalah klasifikasi dan regresi. Ide dasar di balik algoritma ini adalah bahwa sebuah objek akan lebih cenderung memiliki label yang sama dengan tetangga terdekatnya dalam ruang fitur."
   ]
  },
  {
   "block_group": "3c0a33d4b0894810aef8c4cdc2c7dfa5",
   "cell_type": "markdown",
   "metadata": {
    "cell_id": "ac762bd35e364160bb19d96d23ede632",
    "deepnote_app_block_visible": true,
    "deepnote_cell_type": "text-cell-p",
    "formattedRanges": []
   },
   "source": [
    "Algoritma KNN membutuhkan penyimpanan seluruh dataset dalam memprediksi label objek baru, sehingga dapat membutuhkan banyak memori terutama untuk dataset besar. Selain itu, penggunaan K yang tidak tepat dapat mempengaruhi kinerja algoritma, karena nilai K yang terlalu kecil dapat membuat model menjadi terlalu sensitif terhadap noise, sementara nilai K yang terlalu besar dapat menyebabkan model menjadi terlalu kasar.\r"
   ]
  },
  {
   "block_group": "51f8936da3dc4ffab6c0aab151d2c220",
   "cell_type": "markdown",
   "metadata": {
    "cell_id": "4b435356e8854f93b5f5436342a24778",
    "deepnote_app_block_visible": true,
    "deepnote_cell_type": "text-cell-p",
    "formattedRanges": [
     {
      "fromCodePoint": 53,
      "marks": {
       "bold": true
      },
      "toCodePoint": 60,
      "type": "marks"
     }
    ]
   },
   "source": [
    "Pembahasan teori atau fundamental terkait type data \"Ordinal\" dan diimplementasi untuk mengidentifikasi KNN ini dapat diakses juga lewat link berikut ini."
   ]
  },
  {
   "block_group": "d50b6e653db543a4897a2f403e493708",
   "cell_type": "markdown",
   "metadata": {
    "cell_id": "9c71af8e1d71471194e58ec5bafbf734",
    "deepnote_app_block_visible": true,
    "deepnote_cell_type": "text-cell-p",
    "formattedRanges": [
     {
      "fromCodePoint": 0,
      "ranges": [],
      "toCodePoint": 60,
      "type": "link",
      "url": "https://github.com/msaifulhuda/carevaluation/tree/main/Notes"
     }
    ]
   },
   "source": [
    "https://github.com/msaifulhuda/carevaluation/tree/main/Notes"
   ]
  },
  {
   "block_group": "9ad2d51448ef4dbbad66158a210aca23",
   "cell_type": "code",
   "content_dependencies": {
    "codeHash": "8e30a13e",
    "definedVariables": [
     "y_pred",
     "le_lug_boot",
     "df",
     "knn",
     "y",
     "le_persons",
     "le_buying",
     "conn",
     "le_safety",
     "accuracy",
     "y_train",
     "y_test",
     "le_target",
     "precision",
     "col_names",
     "X",
     "le_maint",
     "query",
     "f1",
     "X_test",
     "new_predictions",
     "X_train",
     "recall",
     "le_doors",
     "new_data"
    ],
    "importedModules": [
     "mysql.connector",
     "train_test_split",
     "recall_score",
     "accuracy_score",
     "f1_score",
     "LabelEncoder",
     "precision_score",
     "KNeighborsClassifier",
     "pd"
    ],
    "usedVariables": [
     "y_pred",
     "le_lug_boot",
     "df",
     "train_test_split",
     "recall_score",
     "knn",
     "recall",
     "y",
     "f1_score",
     "LabelEncoder",
     "KNeighborsClassifier",
     "le_persons",
     "le_buying",
     "accuracy_score",
     "conn",
     "le_safety",
     "precision_score",
     "accuracy",
     "y_train",
     "y_test",
     "le_target",
     "precision",
     "col_names",
     "X",
     "le_maint",
     "query",
     "f1",
     "X_test",
     "new_predictions",
     "X_train",
     "mysql",
     "le_doors",
     "new_data",
     "pd"
    ]
   },
   "execution_count": 14,
   "metadata": {
    "cell_id": "592fdfb1653e4bdaa5afccd0c443f80a",
    "deepnote_app_block_visible": true,
    "deepnote_cell_type": "code",
    "deepnote_to_be_reexecuted": false,
    "execution_millis": 6299,
    "execution_start": 1718535576728,
    "source_hash": "decbd5b4"
   },
   "outputs": [
    {
     "name": "stdout",
     "output_type": "stream",
     "text": [
      "Collecting mysql-connector-python\n",
      "  Downloading mysql_connector_python-8.4.0-cp39-cp39-manylinux_2_17_x86_64.whl (19.4 MB)\n",
      "\u001b[2K     \u001b[90m━━━━━━━━━━━━━━━━━━━━━━━━━━━━━━━━━━━━━━━━\u001b[0m \u001b[32m19.4/19.4 MB\u001b[0m \u001b[31m89.5 MB/s\u001b[0m eta \u001b[36m0:00:00\u001b[0m\n",
      "\u001b[?25hInstalling collected packages: mysql-connector-python\n",
      "Successfully installed mysql-connector-python-8.4.0\n",
      "\n",
      "\u001b[1m[\u001b[0m\u001b[34;49mnotice\u001b[0m\u001b[1;39;49m]\u001b[0m\u001b[39;49m A new release of pip is available: \u001b[0m\u001b[31;49m23.0.1\u001b[0m\u001b[39;49m -> \u001b[0m\u001b[32;49m24.0\u001b[0m\n",
      "\u001b[1m[\u001b[0m\u001b[34;49mnotice\u001b[0m\u001b[1;39;49m]\u001b[0m\u001b[39;49m To update, run: \u001b[0m\u001b[32;49mpip install --upgrade pip\u001b[0m\n",
      "/tmp/ipykernel_82/3243848181.py:20: UserWarning: pandas only supports SQLAlchemy connectable (engine/connection) or database string URI or sqlite3 DBAPI2 connection. Other DBAPI2 objects are not tested. Please consider using SQLAlchemy.\n",
      "  df = pd.read_sql(query, conn)\n",
      "================== DATA X_train ==================\n",
      "      buying  maint  doors  persons  lug_boot  safety\n",
      "107        3      3      3        2         0       0\n",
      "901        2      3      1        1         2       2\n",
      "1709       1      1      3        0         0       0\n",
      "706        0      2      2        0         1       2\n",
      "678        0      2      1        0         1       1\n",
      "...      ...    ...    ...      ...       ...     ...\n",
      "1130       2      2      1        2         1       0\n",
      "1294       2      1      3        2         0       2\n",
      "860        0      1      3        2         1       0\n",
      "1459       1      0      2        0         2       2\n",
      "1126       2      2      1        2         2       2\n",
      "\n",
      "[1382 rows x 6 columns]\n",
      "================== DATA Y_train ==================\n",
      "107     2\n",
      "901     2\n",
      "1709    2\n",
      "706     2\n",
      "678     2\n",
      "       ..\n",
      "1130    3\n",
      "1294    1\n",
      "860     0\n",
      "1459    2\n",
      "1126    0\n",
      "Name: target, Length: 1382, dtype: int64\n",
      "Accuracy: 0.8786127167630058\n",
      "Precision: 0.8786127167630058\n",
      "Recall: 0.8786127167630058\n",
      "F1 Score: 0.8786127167630058\n",
      "Prediksi untuk data baru: [2 2 3]\n"
     ]
    }
   ],
   "outputs_reference": "s3:deepnote-cell-outputs-production/23c416fa-72fd-44e4-82c7-db808f7e2d8b",
   "source": [
    "!pip install mysql-connector-python\n",
    "import pandas as pd\n",
    "from sklearn.preprocessing import LabelEncoder\n",
    "from sklearn.model_selection import train_test_split\n",
    "from sklearn.neighbors import KNeighborsClassifier\n",
    "from sklearn.metrics import accuracy_score, precision_score, recall_score, f1_score\n",
    "import mysql.connector\n",
    "\n",
    "# Membuat koneksi ke database MySQL\n",
    "conn = mysql.connector.connect(\n",
    "    host='mysql-2f906079-zahfiabdillah02-c31a.a.aivencloud.com',\n",
    "    port=24909,\n",
    "    user='avnadmin',\n",
    "    password='AVNS_sSgCr4UEqJ1X4HHzilN',\n",
    "    database='DBzahfi'\n",
    ")\n",
    "\n",
    "# Membaca data dari database menggunakan Pandas\n",
    "query = \"SELECT * FROM data_mobil\"\n",
    "df = pd.read_sql(query, conn)\n",
    "\n",
    "# Menutup koneksi ke database\n",
    "conn.close()\n",
    "\n",
    "# Define column names\n",
    "col_names = [\"id\", \"buying\", \"maint\", \"doors\", \"persons\", \"lug_boot\", \"safety\", \"target\"]\n",
    "df.columns = col_names\n",
    "\n",
    "# Preprocess data\n",
    "# Convert ordinal attributes to numerical values using LabelEncoder\n",
    "le_buying = LabelEncoder()\n",
    "le_maint = LabelEncoder()\n",
    "le_doors = LabelEncoder()\n",
    "le_persons = LabelEncoder()\n",
    "le_lug_boot = LabelEncoder()\n",
    "le_safety = LabelEncoder()\n",
    "le_target = LabelEncoder()\n",
    "\n",
    "df[\"buying\"] = le_buying.fit_transform(df[\"buying\"])\n",
    "df[\"maint\"] = le_maint.fit_transform(df[\"maint\"])\n",
    "df[\"doors\"] = le_doors.fit_transform(df[\"doors\"])\n",
    "df[\"persons\"] = le_persons.fit_transform(df[\"persons\"])\n",
    "df[\"lug_boot\"] = le_lug_boot.fit_transform(df[\"lug_boot\"])\n",
    "df[\"safety\"] = le_safety.fit_transform(df[\"safety\"])\n",
    "df[\"target\"] = le_target.fit_transform(df[\"target\"])\n",
    "\n",
    "# Separate features (X) and target variable (y)\n",
    "X = df[col_names[1:7]]  # Exclude \"id\" and \"target\" columns\n",
    "y = df[\"target\"]\n",
    "\n",
    "# Split data into training and testing sets\n",
    "X_train, X_test, y_train, y_test = train_test_split(X, y, test_size=0.2, random_state=42)\n",
    "\n",
    "print(\"================== DATA X_train ==================\")\n",
    "print(X_train)\n",
    "print(\"================== DATA Y_train ==================\")\n",
    "print(y_train)\n",
    "\n",
    "# Create and train the KNN classifier\n",
    "knn = KNeighborsClassifier(n_neighbors=5)  # Set the number of neighbors (k)\n",
    "knn.fit(X_train, y_train)\n",
    "\n",
    "# Make predictions on the test set\n",
    "y_pred = knn.predict(X_test)\n",
    "\n",
    "# Evaluate the performance of the classifier\n",
    "accuracy = accuracy_score(y_test, y_pred)\n",
    "precision = precision_score(y_test, y_pred, average='micro')  # Set average='micro'\n",
    "recall = recall_score(y_test, y_pred, average='micro')  # Set average='micro'\n",
    "f1 = f1_score(y_test, y_pred, average='micro')  # Set average='micro'\n",
    "\n",
    "print(\"Accuracy:\", accuracy)\n",
    "print(\"Precision:\", precision)\n",
    "print(\"Recall:\", recall)\n",
    "print(\"F1 Score:\", f1)\n",
    "\n",
    "# Data baru untuk prediksi\n",
    "new_data = pd.DataFrame([\n",
    "    [1, \"vhigh\", \"vhigh\", \"2\", \"2\", \"small\", \"low\"],\n",
    "    [1, \"high\", \"high\", \"3\", \"4\", \"med\", \"med\"],\n",
    "    [1, \"med\", \"med\", \"4\", \"more\", \"big\", \"high\"]\n",
    "], columns=[\"id\", \"buying\", \"maint\", \"doors\", \"persons\", \"lug_boot\", \"safety\"])\n",
    "\n",
    "# Preprocessing data baru\n",
    "new_data[\"buying\"] = le_buying.transform(new_data[\"buying\"])\n",
    "new_data[\"maint\"] = le_maint.transform(new_data[\"maint\"])\n",
    "new_data[\"doors\"] = le_doors.transform(new_data[\"doors\"])\n",
    "new_data[\"persons\"] = le_persons.transform(new_data[\"persons\"])\n",
    "new_data[\"lug_boot\"] = le_lug_boot.transform(new_data[\"lug_boot\"])\n",
    "new_data[\"safety\"] = le_safety.transform(new_data[\"safety\"])\n",
    "\n",
    "# Prediksi menggunakan model yang sudah dilatih\n",
    "new_predictions = knn.predict(new_data[X.columns])\n",
    "\n",
    "print(\"Prediksi untuk data baru:\", new_predictions)\n"
   ]
  },
  {
   "block_group": "4d5be3b3ddc3441e9650ba0d144e7dd0",
   "cell_type": "markdown",
   "metadata": {
    "cell_id": "f65f62dedf624daf9b63d34060008337",
    "deepnote_app_block_visible": true,
    "deepnote_cell_type": "text-cell-bullet",
    "formattedRanges": [
     {
      "fromCodePoint": 0,
      "marks": {
       "bold": true
      },
      "toCodePoint": 13,
      "type": "marks"
     }
    ],
    "is_collapsed": false
   },
   "source": [
    "- Split Dataset"
   ]
  },
  {
   "block_group": "f356034fb8b44bf39aa3824d29dee393",
   "cell_type": "markdown",
   "metadata": {
    "cell_id": "513ac096ac06443cab738c4a3eeb56f7",
    "deepnote_app_block_visible": true,
    "deepnote_cell_type": "text-cell-p",
    "formattedRanges": []
   },
   "source": [
    "Split dataset adalah proses membagi dataset menjadi beberapa subset yang berbeda untuk tujuan pelatihan, validasi, dan pengujian model pembelajaran mesin. Tujuan utama dari split dataset adalah untuk mengevaluasi kinerja model dengan data yang tidak terlihat selama pelatihan, sehingga memberikan indikasi seberapa baik model tersebut akan bekerja pada data baru yang belum pernah dilihat sebelumnya."
   ]
  },
  {
   "block_group": "3684e25b3be249828021b97cbe1d77d2",
   "cell_type": "markdown",
   "metadata": {
    "cell_id": "e962b9e6dfa144898c5a14aef35c2333",
    "deepnote_app_block_visible": true,
    "deepnote_cell_type": "text-cell-p",
    "formattedRanges": [
     {
      "fromCodePoint": 78,
      "marks": {
       "bold": true
      },
      "toCodePoint": 111,
      "type": "marks"
     },
     {
      "fromCodePoint": 121,
      "marks": {
       "bold": true
      },
      "toCodePoint": 150,
      "type": "marks"
     }
    ]
   },
   "source": [
    "Berikut ini merupakan implementasi untuk split dataset guna digunakan sebagai Data Training (X train, y train) sekaligus Data Testing (X test, y test)"
   ]
  },
  {
   "block_group": "07905ee16b6943fc8ca2a862b39e3a62",
   "cell_type": "code",
   "content_dependencies": {
    "codeHash": "7400037f",
    "definedVariables": [],
    "importedModules": [],
    "usedVariables": [
     "Y_train",
     "X_train"
    ]
   },
   "execution_count": 15,
   "metadata": {
    "cell_id": "67109a284260426b9593da3d44b60fa1",
    "deepnote_app_block_visible": true,
    "deepnote_cell_type": "code",
    "deepnote_to_be_reexecuted": false,
    "execution_millis": 335,
    "execution_start": 1718535583030,
    "source_hash": "a4205568"
   },
   "outputs": [],
   "outputs_reference": null,
   "source": [
    "\n",
    "X_train.to_csv('car-training.csv',index=False)\n",
    "y_train.to_csv('car-training-target.csv',index=False)\n"
   ]
  },
  {
   "block_group": "1fcf2b4fbc5c42ca833cb3e13d47fa60",
   "cell_type": "code",
   "content_dependencies": {
    "codeHash": "759b3dee",
    "definedVariables": [],
    "importedModules": [],
    "usedVariables": [
     "y_test",
     "X_test"
    ]
   },
   "execution_count": 16,
   "metadata": {
    "cell_id": "fe3bc46ec32a4cd5aee12f2d32745999",
    "deepnote_app_block_visible": true,
    "deepnote_cell_type": "code",
    "deepnote_to_be_reexecuted": false,
    "execution_millis": 351,
    "execution_start": 1718535583369,
    "source_hash": "759b3dee"
   },
   "outputs": [],
   "outputs_reference": null,
   "source": [
    "X_test.to_csv('car-training-test.csv',index=False)\n",
    "y_test.to_csv('car-training-target-test.csv',index=False)\n"
   ]
  },
  {
   "block_group": "6b466c9ee9f6463d9d07ecc1c0efe240",
   "cell_type": "markdown",
   "metadata": {
    "cell_id": "396ba411024b4f44a43587eb46fd8f01",
    "deepnote_app_block_visible": true,
    "deepnote_cell_type": "text-cell-h3",
    "formattedRanges": [],
    "is_collapsed": false
   },
   "source": [
    "### Mengidentifikasi LOF"
   ]
  },
  {
   "block_group": "0981e5d8492c447b85c8ea34c7b76449",
   "cell_type": "markdown",
   "metadata": {
    "cell_id": "01849a7d9485460db77c24d82dd148be",
    "deepnote_app_block_visible": true,
    "deepnote_cell_type": "text-cell-p",
    "formattedRanges": [],
    "is_collapsed": false
   },
   "source": [
    "LRD tiap titik digunakan untuk membandingkan dengan rata-rata LRD K tetangganya. LOF adalah perbandingan rata-rata LRD K tetangga A terhadap LRD A."
   ]
  },
  {
   "block_group": "c916167938d64e9985ace4c689c4f54d",
   "cell_type": "markdown",
   "metadata": {
    "cell_id": "393e431917f94fb79ed334df636685cc",
    "deepnote_app_block_visible": true,
    "deepnote_cell_type": "text-cell-p",
    "formattedRanges": [],
    "is_collapsed": false
   },
   "source": [
    "Jika suatu titik bukan merupakan pencilan (inlier), rasio rata-rata LRD tetangganya kira-kira sama dengan LRD suatu titik (karena kepadatan suatu titik dan tetangganya kira-kira sama). Dalam hal ini, LOF hampir sama dengan 1. Sebaliknya, jika suatu titik merupakan outlier, LRD suatu titik lebih kecil dari rata-rata LRD tetangganya. Maka nilai LOF akan tinggi."
   ]
  },
  {
   "block_group": "2671a75e5ede49679be4e5c027dbf2a9",
   "cell_type": "markdown",
   "metadata": {
    "cell_id": "d3ac3224eef342108bf7260613d441d4",
    "deepnote_app_block_visible": true,
    "deepnote_cell_type": "text-cell-p",
    "formattedRanges": [],
    "is_collapsed": false
   },
   "source": [
    "Umumnya jika LOF > 1 maka dianggap outlier, namun hal tersebut tidak selalu benar. Katakanlah kita mengetahui bahwa kita hanya memiliki satu outlier dalam data, lalu kita ambil nilai LOF maksimum di antara semua nilai LOF, dan titik yang sesuai dengan nilai LOF maksimum akan dianggap sebagai outlier."
   ]
  },
  {
   "block_group": "88753b5fc1dc4d5aacef148fe999c26f",
   "cell_type": "markdown",
   "metadata": {
    "cell_id": "b0350f3c76ba44e5879454d87d1e0551",
    "deepnote_app_block_visible": true,
    "deepnote_cell_type": "text-cell-p",
    "formattedRanges": [
     {
      "fromCodePoint": 53,
      "marks": {
       "bold": true
      },
      "toCodePoint": 60,
      "type": "marks"
     }
    ]
   },
   "source": [
    "Pembahasan teori atau fundamental terkait type data \"Ordinal\" dan diimplementasi untuk mengidentifikasi LOF juga dapat diakses melalui link berikut ini (sama halnya link di atas)."
   ]
  },
  {
   "block_group": "b28b77824b014ff0b77673fdca049b3a",
   "cell_type": "markdown",
   "metadata": {
    "cell_id": "e4a800e8e60e4beaab926455520b494f",
    "deepnote_app_block_visible": true,
    "deepnote_cell_type": "text-cell-p",
    "formattedRanges": [
     {
      "fromCodePoint": 0,
      "ranges": [],
      "toCodePoint": 60,
      "type": "link",
      "url": "https://github.com/msaifulhuda/carevaluation/tree/main/Notes"
     }
    ]
   },
   "source": [
    "https://github.com/msaifulhuda/carevaluation/tree/main/Notes"
   ]
  },
  {
   "block_group": "07895ed70760449bbdf97dab336a7162",
   "cell_type": "code",
   "content_dependencies": {
    "codeHash": "38c87469",
    "definedVariables": [
     "y_pred",
     "cursor",
     "i",
     "database",
     "username",
     "lof",
     "label",
     "values",
     "hostname",
     "port",
     "j",
     "rows",
     "conn",
     "encoder",
     "x",
     "outlier_indices",
     "point",
     "query",
     "password",
     "row"
    ],
    "importedModules": [
     "LabelEncoder",
     "mysql.connector",
     "LocalOutlierFactor",
     "plt"
    ],
    "usedVariables": [
     "y_pred",
     "cursor",
     "i",
     "database",
     "plt",
     "username",
     "lof",
     "label",
     "LocalOutlierFactor",
     "values",
     "hostname",
     "port",
     "mysql",
     "j",
     "rows",
     "LabelEncoder",
     "conn",
     "encoder",
     "x",
     "outlier_indices",
     "point",
     "query",
     "password",
     "row"
    ]
   },
   "execution_count": 17,
   "metadata": {
    "cell_id": "92d9382d936a4f288ab4bda4f3eb04c9",
    "deepnote_app_block_visible": true,
    "deepnote_cell_type": "code",
    "deepnote_to_be_reexecuted": false,
    "execution_millis": 3419,
    "execution_start": 1718535583727,
    "source_hash": "38c87469"
   },
   "outputs": [
    {
     "data": {
      "image/png": "[encoded data removed]",
      "text/plain": [
       "<Figure size 640x480 with 1 Axes>"
      ]
     },
     "metadata": {
      "image/png": {
       "height": 413,
       "width": 548
      }
     },
     "output_type": "display_data"
    }
   ],
   "outputs_reference": "s3:deepnote-cell-outputs-production/a15079dc-21ee-4b4f-af0f-58a8cbd15183",
   "source": [
    "import mysql.connector\n",
    "import matplotlib.pyplot as plt\n",
    "from sklearn.neighbors import LocalOutlierFactor\n",
    "from sklearn.preprocessing import LabelEncoder\n",
    "\n",
    "# Informasi koneksi ke database MySQL di cloud aiven\n",
    "hostname = 'mysql-3ceb66c2-ranggantengblass1927-6589.a.aivencloud.com'\n",
    "port = 13130\n",
    "username = 'avnadmin'\n",
    "password = 'AVNS_syJhhSRPMSgefPBGp2M'\n",
    "database = 'defaultdb'\n",
    "\n",
    "# Membuat koneksi ke database MySQL\n",
    "conn = mysql.connector.connect(\n",
    "    host=hostname,\n",
    "    port=port,\n",
    "    user=username,\n",
    "    password=password,\n",
    "    database=database\n",
    ")\n",
    "\n",
    "# Membaca data dari database menggunakan Pandas\n",
    "query = \"SELECT * FROM data_mobil\"\n",
    "cursor = conn.cursor()\n",
    "cursor.execute(query)\n",
    "rows = cursor.fetchall()\n",
    "\n",
    "# Menutup koneksi ke database\n",
    "conn.close()\n",
    "\n",
    "# Membuat list untuk menampung data\n",
    "x = []\n",
    "for row in rows:\n",
    "    x.append(list(row))\n",
    "\n",
    "# Menggunakan LabelEncoder untuk mengkodekan kolom non-numerik\n",
    "encoder = LabelEncoder()\n",
    "for i in range(len(x[0])):\n",
    "    if isinstance(x[0][i], str):  # Memeriksa apakah tipe data kolom adalah string\n",
    "        encoder.fit([row[i] for row in x])\n",
    "        for j in range(len(x)):\n",
    "            x[j][i] = encoder.transform([x[j][i]])[0]\n",
    "\n",
    "# Membuat model LOF\n",
    "lof = LocalOutlierFactor(n_neighbors=13, contamination=0.03)\n",
    "\n",
    "# Melakukan prediksi outlier\n",
    "y_pred = lof.fit_predict(x)\n",
    "\n",
    "# Menampilkan data dengan outlier yang diidentifikasi\n",
    "outlier_indices = [i for i, label in enumerate(y_pred) if label == -1]\n",
    "values = [x[i] for i in outlier_indices]\n",
    "\n",
    "plt.scatter([point[0] for point in x], [point[1] for point in x])\n",
    "plt.scatter([point[0] for point in values], [point[1] for point in values], color='r')\n",
    "plt.show()\n"
   ]
  },
  {
   "block_group": "65744356c93c481787b00ee228742962",
   "cell_type": "markdown",
   "metadata": {
    "cell_id": "1c9dc4d98efa406d93125b529d2ca719",
    "deepnote_app_block_visible": true,
    "deepnote_cell_type": "text-cell-h2",
    "formattedRanges": []
   },
   "source": [
    "## Klasifikasi Naive Bayes"
   ]
  },
  {
   "block_group": "1485ec49dfc04723a2cdcccfb839fbc2",
   "cell_type": "markdown",
   "metadata": {
    "cell_id": "3fcfe92ed463489797ebb1fe7a67be4c",
    "deepnote_app_block_visible": true,
    "deepnote_cell_type": "text-cell-p",
    "formattedRanges": []
   },
   "source": [
    "Klasifikasi naive bayes adalah metode pengklasifikasian probabilistik yang menggunakan teorema bayes untuk memprediksi kelas atau label data yang diberikan . metode ini menggunakan probabilitas untuk memodelkan distribusi masukan dalam kelas atau kategori tertentu"
   ]
  },
  {
   "block_group": "f08d30bfcd3b44c4aa26041e76577d27",
   "cell_type": "markdown",
   "metadata": {
    "cell_id": "4773141a788a4b5eaa8158c7dd8b4f82",
    "deepnote_app_block_visible": true,
    "deepnote_cell_type": "text-cell-p",
    "formattedRanges": []
   },
   "source": [
    "data yang kita riset menggunakan atau bertipe string dan untuk klasifikasi naive bayes kita rubah menjadi numerik dengan cara menggunakan LabelEncoder untuk mengubah string menjadi numerik."
   ]
  },
  {
   "block_group": "be0188159a0d438ba0c1d77b31a60263",
   "cell_type": "markdown",
   "metadata": {
    "cell_id": "0fc7cb1ed53a48ca9b0cd750abd74c4b",
    "deepnote_app_block_visible": true,
    "deepnote_cell_type": "text-cell-p",
    "formattedRanges": []
   },
   "source": [
    "data yang kita riset mempunyai 1728 baris dan 7 kolom  kita akan bagi lagi menjadi bagian x train menjadi 1382 baris dan 7 kolom "
   ]
  },
  {
   "block_group": "1b23c715d18141d29e17b27f064505f0",
   "cell_type": "markdown",
   "metadata": {
    "cell_id": "08e155dd256b4ef180d5ceb261c3310f",
    "deepnote_app_block_visible": true,
    "deepnote_cell_type": "text-cell-p",
    "formattedRanges": []
   },
   "source": [
    "digunakannya gaussian naive bayes pada kode dibawah untuk menghitung probabilitas posterior  dari setiap kelas."
   ]
  },
  {
   "block_group": "87b979e8ec1a4d578b07e322b50d3cc1",
   "cell_type": "code",
   "content_dependencies": {
    "codeHash": "5e47e10c",
    "definedVariables": [
     "i",
     "predictions",
     "database",
     "Y_train",
     "username",
     "hostname",
     "port",
     "clf",
     "predicted_class",
     "conn",
     "encoder",
     "Y",
     "accuracy",
     "col",
     "X",
     "Y_test",
     "query",
     "password",
     "X_test",
     "predicted_classes",
     "X_train",
     "dataset",
     "new_data"
    ],
    "importedModules": [
     "GaussianNB",
     "mysql.connector",
     "train_test_split",
     "accuracy_score",
     "LabelEncoder",
     "pd"
    ],
    "usedVariables": [
     "GaussianNB",
     "train_test_split",
     "i",
     "predictions",
     "database",
     "Y_train",
     "username",
     "hostname",
     "port",
     "clf",
     "LabelEncoder",
     "predicted_class",
     "accuracy_score",
     "conn",
     "encoder",
     "Y",
     "dataset",
     "accuracy",
     "col",
     "X",
     "Y_test",
     "query",
     "password",
     "X_test",
     "predicted_classes",
     "X_train",
     "mysql",
     "new_data",
     "pd"
    ]
   },
   "execution_count": 18,
   "metadata": {
    "cell_id": "86b70adb853d4f7696a2ac4125e2b7d3",
    "deepnote_app_block_visible": true,
    "deepnote_cell_type": "code",
    "deepnote_to_be_reexecuted": false,
    "execution_millis": 2637,
    "execution_start": 1718535587159,
    "source_hash": "5e47e10c"
   },
   "outputs": [
    {
     "name": "stderr",
     "output_type": "stream",
     "text": [
      "/tmp/ipykernel_82/1000660711.py:26: UserWarning: pandas only supports SQLAlchemy connectable (engine/connection) or database string URI or sqlite3 DBAPI2 connection. Other DBAPI2 objects are not tested. Please consider using SQLAlchemy.\n",
      "  dataset = pd.read_sql(query, conn)\n",
      "================== DATA X_train ==================\n",
      "        Id  buying  maint  doors  persons  lug_boot  safety\n",
      "107    108       3      3      3        2         0       0\n",
      "901    902       2      3      1        1         2       2\n",
      "1709  1710       1      1      3        0         0       0\n",
      "706    707       0      2      2        0         1       2\n",
      "678    679       0      2      1        0         1       1\n",
      "...    ...     ...    ...    ...      ...       ...     ...\n",
      "1130  1131       2      2      1        2         1       0\n",
      "1294  1295       2      1      3        2         0       2\n",
      "860    861       0      1      3        2         1       0\n",
      "1459  1460       1      0      2        0         2       2\n",
      "1126  1127       2      2      1        2         2       2\n",
      "\n",
      "[1382 rows x 7 columns]\n",
      "================== DATA X_test ==================\n",
      "        Id  buying  maint  doors  persons  lug_boot  safety\n",
      "599    600       0      0      2        0         1       0\n",
      "1201  1202       2      1      0        1         1       2\n",
      "628    629       0      0      3        0         0       2\n",
      "1498  1499       1      0      3        1         1       2\n",
      "1263  1264       2      1      2        2         1       1\n",
      "...    ...     ...    ...    ...      ...       ...     ...\n",
      "100    101       3      3      3        2         2       2\n",
      "274    275       3      2      2        0         1       2\n",
      "1206  1207       2      1      0        2         2       1\n",
      "101    102       3      3      3        2         2       0\n",
      "1084  1085       2      2      0        0         1       2\n",
      "\n",
      "[346 rows x 7 columns]\n",
      "================== DATA Y_train ==================\n",
      "107     2\n",
      "901     2\n",
      "1709    2\n",
      "706     2\n",
      "678     2\n",
      "       ..\n",
      "1130    3\n",
      "1294    1\n",
      "860     0\n",
      "1459    2\n",
      "1126    0\n",
      "Name: target, Length: 1382, dtype: int64\n",
      "================== DATA Y_test ==================\n",
      "        Id  buying  maint  doors  persons  lug_boot  safety\n",
      "599    600       0      0      2        0         1       0\n",
      "1201  1202       2      1      0        1         1       2\n",
      "628    629       0      0      3        0         0       2\n",
      "1498  1499       1      0      3        1         1       2\n",
      "1263  1264       2      1      2        2         1       1\n",
      "...    ...     ...    ...    ...      ...       ...     ...\n",
      "100    101       3      3      3        2         2       2\n",
      "274    275       3      2      2        0         1       2\n",
      "1206  1207       2      1      0        2         2       1\n",
      "101    102       3      3      3        2         2       0\n",
      "1084  1085       2      2      0        0         1       2\n",
      "\n",
      "[346 rows x 7 columns]\n",
      "Akurasi: 0.7485549132947977\n",
      "Data baru ke- 1 kelas yang diprediksi: 2\n",
      "Data baru ke- 2 kelas yang diprediksi: 2\n",
      "Data baru ke- 3 kelas yang diprediksi: 0\n"
     ]
    }
   ],
   "outputs_reference": "s3:deepnote-cell-outputs-production/428f4c27-4256-4d3c-bae9-cd9e6a8ed21d",
   "source": [
    "import mysql.connector\n",
    "import pandas as pd\n",
    "from sklearn.model_selection import train_test_split\n",
    "from sklearn.naive_bayes import GaussianNB\n",
    "from sklearn.metrics import accuracy_score\n",
    "from sklearn.preprocessing import LabelEncoder\n",
    "\n",
    "# Informasi koneksi ke database MySQL di cloud aiven\n",
    "hostname = 'mysql-3ceb66c2-ranggantengblass1927-6589.a.aivencloud.com'\n",
    "port = 13130\n",
    "username = 'avnadmin'\n",
    "password = 'AVNS_syJhhSRPMSgefPBGp2M'\n",
    "database = 'defaultdb'\n",
    "\n",
    "# Membuat koneksi ke database MySQL\n",
    "conn = mysql.connector.connect(\n",
    "    host=hostname,\n",
    "    port=port,\n",
    "    user=username,\n",
    "    password=password,\n",
    "    database=database\n",
    ")\n",
    "\n",
    "# Membaca data dari database menggunakan Pandas\n",
    "query = \"SELECT * FROM data_mobil\"\n",
    "dataset = pd.read_sql(query, conn)\n",
    "\n",
    "# Menutup koneksi ke database\n",
    "conn.close()\n",
    "\n",
    "# Menggunakan LabelEncoder untuk mengkodekan fitur-fitur kategorikal\n",
    "encoder = LabelEncoder()\n",
    "for col in dataset.columns:\n",
    "    if dataset[col].dtype == 'object':  # Memeriksa apakah tipe data kolom adalah objek (string)\n",
    "        dataset[col] = encoder.fit_transform(dataset[col])  # Menggunakan LabelEncoder untuk mengubahnya menjadi numerik\n",
    "\n",
    "# Memisahkan fitur dan target\n",
    "X = dataset.drop(columns=['target'])  # Fitur\n",
    "Y = dataset['target']  # Target\n",
    "\n",
    "# Membagi data menjadi data latih dan data uji\n",
    "X_train, X_test, Y_train, Y_test = train_test_split(X, Y, test_size=0.2, random_state=42)\n",
    "\n",
    "print(\"================== DATA X_train ==================\")\n",
    "print(X_train)\n",
    "print(\"================== DATA X_test ==================\")\n",
    "print(X_test)\n",
    "print(\"================== DATA Y_train ==================\") \n",
    "print(Y_train)\n",
    "print(\"================== DATA Y_test ==================\")\n",
    "print(X_test)\n",
    "\n",
    "# Inisialisasi dan melatih model klasifikasi Naive Bayes\n",
    "clf = GaussianNB()\n",
    "clf.fit(X_train, Y_train)\n",
    "\n",
    "# Melakukan prediksi pada data uji\n",
    "predictions = clf.predict(X_test)\n",
    "\n",
    "# Menampilkan akurasi model\n",
    "accuracy = accuracy_score(predictions, Y_test)\n",
    "print(\"Akurasi:\", accuracy)\n",
    "\n",
    "# Data baru tanpa label kelas\n",
    "new_data = pd.DataFrame([[1, 5.1, 3.5, 2.7, 1.5, 2.5, 1], [1, 7, 3.2, 4.7, 1.4, 1.4, 4], [1, 7.2, 3.6, 6.1, 2.5, 4.5, 5.5]], columns=X.columns)\n",
    "\n",
    "# Menggunakan LabelEncoder untuk mengkodekan data baru\n",
    "for col in new_data.columns:\n",
    "    if new_data[col].dtype == 'object':\n",
    "        new_data[col] = encoder.transform(new_data[col])\n",
    "\n",
    "# Melakukan prediksi pada data baru\n",
    "predicted_classes = clf.predict(new_data)\n",
    "\n",
    "# Menampilkan hasil prediksi\n",
    "for i, predicted_class in enumerate(predicted_classes):\n",
    "    print(\"Data baru ke-\", i+1, \"kelas yang diprediksi:\", predicted_class)\n"
   ]
  },
  {
   "block_group": "ad1e92e0ed704b45aa90fa7b5fc374be",
   "cell_type": "markdown",
   "metadata": {
    "cell_id": "dc070e6aebf141b5966e063fe26c3dbb",
    "deepnote_app_block_visible": true,
    "deepnote_cell_type": "text-cell-h2",
    "formattedRanges": []
   },
   "source": [
    "## Modeling Dataset"
   ]
  },
  {
   "block_group": "c1d19453ad3a4ca0811ae45472ab3fc7",
   "cell_type": "markdown",
   "metadata": {
    "cell_id": "f9f292154c1f4438ae07f1643568ed2b",
    "deepnote_app_block_visible": true,
    "deepnote_cell_type": "text-cell-p",
    "formattedRanges": []
   },
   "source": [
    "Modeling dataset adalah proses membangun model matematika atau komputasi untuk memahami dan membuat prediksi berdasarkan data. Dalam konteks pembelajaran mesin dan analisis data, modeling dataset melibatkan berbagai langkah, mulai dari pemahaman data, prapemrosesan data, pemilihan model, pelatihan model, hingga evaluasi kinerja model. "
   ]
  },
  {
   "block_group": "7bc5f7a65f004d29a31e604c14b3c332",
   "cell_type": "markdown",
   "metadata": {
    "cell_id": "238a89d54bfe48b3b5ef5be72588e7ed",
    "deepnote_app_block_visible": true,
    "deepnote_cell_type": "text-cell-h3",
    "formattedRanges": [],
    "is_collapsed": false
   },
   "source": [
    "### Ensemble Learning - Stacking"
   ]
  },
  {
   "block_group": "cba10ab4b05b4371a660adc441f8316c",
   "cell_type": "markdown",
   "metadata": {
    "cell_id": "5a435247d6ff40ceb48cd97d2917cd26",
    "deepnote_app_block_visible": true,
    "deepnote_cell_type": "text-cell-p",
    "formattedRanges": []
   },
   "source": [
    "Metode stacking adalah teknik ensemble yang melibatkan penggunaan model meta-learner yang digunakan untuk menggabungkan hasil prediksi dari berbagai model-machine learning yang berbeda. Prosesnya adalah sebagai berikut:"
   ]
  },
  {
   "block_group": "7dd6df8d1ffe46a6ac346339a781a807",
   "cell_type": "markdown",
   "metadata": {
    "cell_id": "7488380aee55406f892ac31014131469",
    "deepnote_app_block_visible": true,
    "deepnote_cell_type": "text-cell-p",
    "formattedRanges": []
   },
   "source": [
    "Kamu memiliki beberapa model pembelajaran mesin yang berbeda, seperti Classifier A, Classifier B, dan Classifier C."
   ]
  },
  {
   "block_group": "8f13dddd574842ea8591df908fe2a0f4",
   "cell_type": "markdown",
   "metadata": {
    "cell_id": "79d8a97131bc46a9b107f01d6a77abe6",
    "deepnote_app_block_visible": true,
    "deepnote_cell_type": "text-cell-p",
    "formattedRanges": []
   },
   "source": [
    "Setiap model ini memberikan prediksi mereka terhadap data yang sama."
   ]
  },
  {
   "block_group": "abfaaca1cf784bd6bcde7a437358c005",
   "cell_type": "markdown",
   "metadata": {
    "cell_id": "bf4c62db0848414b808c628323972679",
    "deepnote_app_block_visible": true,
    "deepnote_cell_type": "text-cell-p",
    "formattedRanges": []
   },
   "source": [
    "Hasil prediksi dari masing-masing model digunakan sebagai fitur atau input untuk model \"meta-learner.\""
   ]
  },
  {
   "block_group": "eef5b23b42ca48ab888ac526fab70925",
   "cell_type": "markdown",
   "metadata": {
    "cell_id": "0d30cb2f17f3489083e080ceab7c3367",
    "deepnote_app_block_visible": true,
    "deepnote_cell_type": "text-cell-p",
    "formattedRanges": []
   },
   "source": [
    "Model meta-learner ini kemudian dilatih untuk menghasilkan prediksi akhir berdasarkan hasil prediksi dari model-model awal sebagai input."
   ]
  },
  {
   "block_group": "9a01d517a7be44b88228deecae224b38",
   "cell_type": "markdown",
   "metadata": {
    "cell_id": "066ddb16cff048d19569d6762ed863e7",
    "deepnote_app_block_visible": true,
    "deepnote_cell_type": "text-cell-p",
    "formattedRanges": []
   },
   "source": [
    "Metode stacking membantu menggabungkan kekuatan berbagai model-machine learning dengan menggunakan model tambahan berupa meta-learner yang memutuskan hasil akhir berdasarkan apa yang dikatakan oleh model-model awal."
   ]
  },
  {
   "block_group": "5d21e9b142be430285525ded656d9e87",
   "cell_type": "markdown",
   "metadata": {
    "cell_id": "2508518745a946728f82fd7cfbd65123",
    "deepnote_app_block_visible": true,
    "deepnote_cell_type": "text-cell-p",
    "formattedRanges": []
   },
   "source": [
    "Berikut ini merupakan implementasi dari Ensamble Learning - Stacking untuk Car Evaluation Dataset adalah sebagai berikut."
   ]
  },
  {
   "block_group": "933ba58614f049d897c562a24d7b34c9",
   "cell_type": "code",
   "content_dependencies": {
    "codeHash": "56ea680",
    "definedVariables": [
     "X",
     "y"
    ],
    "importedModules": [
     "pd"
    ],
    "usedVariables": [
     "pd"
    ]
   },
   "execution_count": 20,
   "metadata": {
    "cell_id": "c1c4332170314a1aab137f0ae9c0f56b",
    "deepnote_app_block_visible": true,
    "deepnote_cell_type": "code",
    "deepnote_to_be_reexecuted": false,
    "execution_millis": 238,
    "execution_start": 1718535590164,
    "source_hash": "56ea680"
   },
   "outputs": [],
   "outputs_reference": null,
   "source": [
    "import pandas as pd\n",
    "\n",
    "# Load features (X) from 'car-training.csv'\n",
    "X = pd.read_csv(\"car-training.csv\")\n",
    "\n",
    "# Load target variable (y) from 'car-training-target.csv'\n",
    "y = pd.read_csv(\"car-training-target.csv\")[\"target\"]\n"
   ]
  },
  {
   "block_group": "c9aa1f17f59d4810b392d26abbc1fdba",
   "cell_type": "code",
   "content_dependencies": null,
   "execution_count": 21,
   "metadata": {
    "cell_id": "1d75fccddc5b41c6ac8ae1b8329041e6",
    "deepnote_app_block_visible": true,
    "deepnote_cell_type": "code",
    "deepnote_to_be_reexecuted": false,
    "execution_millis": 2951,
    "execution_start": 1718535590406,
    "source_hash": "127fa318"
   },
   "outputs": [
    {
     "name": "stdout",
     "output_type": "stream",
     "text": [
      "Collecting mlxtend\n",
      "  Downloading mlxtend-0.23.1-py3-none-any.whl (1.4 MB)\n",
      "\u001b[2K     \u001b[90m━━━━━━━━━━━━━━━━━━━━━━━━━━━━━━━━━━━━━━━━\u001b[0m \u001b[32m1.4/1.4 MB\u001b[0m \u001b[31m85.4 MB/s\u001b[0m eta \u001b[36m0:00:00\u001b[0m\n",
      "\u001b[?25hRequirement already satisfied: scipy>=1.2.1 in /shared-libs/python3.9/py/lib/python3.9/site-packages (from mlxtend) (1.9.3)\n",
      "Requirement already satisfied: pandas>=0.24.2 in /shared-libs/python3.9/py/lib/python3.9/site-packages (from mlxtend) (2.1.4)\n",
      "Requirement already satisfied: numpy>=1.16.2 in /shared-libs/python3.9/py/lib/python3.9/site-packages (from mlxtend) (1.23.4)\n",
      "Requirement already satisfied: joblib>=0.13.2 in /shared-libs/python3.9/py/lib/python3.9/site-packages (from mlxtend) (1.2.0)\n",
      "Requirement already satisfied: matplotlib>=3.0.0 in /shared-libs/python3.9/py/lib/python3.9/site-packages (from mlxtend) (3.6.0)\n",
      "Requirement already satisfied: scikit-learn>=1.0.2 in /shared-libs/python3.9/py/lib/python3.9/site-packages (from mlxtend) (1.1.2)\n",
      "Requirement already satisfied: packaging>=20.0 in /shared-libs/python3.9/py-core/lib/python3.9/site-packages (from matplotlib>=3.0.0->mlxtend) (21.3)\n",
      "Requirement already satisfied: contourpy>=1.0.1 in /shared-libs/python3.9/py/lib/python3.9/site-packages (from matplotlib>=3.0.0->mlxtend) (1.0.5)\n",
      "Requirement already satisfied: pyparsing>=2.2.1 in /shared-libs/python3.9/py-core/lib/python3.9/site-packages (from matplotlib>=3.0.0->mlxtend) (3.0.9)\n",
      "Requirement already satisfied: fonttools>=4.22.0 in /shared-libs/python3.9/py/lib/python3.9/site-packages (from matplotlib>=3.0.0->mlxtend) (4.37.4)\n",
      "Requirement already satisfied: python-dateutil>=2.7 in /shared-libs/python3.9/py-core/lib/python3.9/site-packages (from matplotlib>=3.0.0->mlxtend) (2.8.2)\n",
      "Requirement already satisfied: cycler>=0.10 in /shared-libs/python3.9/py/lib/python3.9/site-packages (from matplotlib>=3.0.0->mlxtend) (0.11.0)\n",
      "Requirement already satisfied: pillow>=6.2.0 in /shared-libs/python3.9/py/lib/python3.9/site-packages (from matplotlib>=3.0.0->mlxtend) (9.2.0)\n",
      "Requirement already satisfied: kiwisolver>=1.0.1 in /shared-libs/python3.9/py/lib/python3.9/site-packages (from matplotlib>=3.0.0->mlxtend) (1.4.4)\n",
      "Requirement already satisfied: pytz>=2020.1 in /shared-libs/python3.9/py/lib/python3.9/site-packages (from pandas>=0.24.2->mlxtend) (2022.5)\n",
      "Requirement already satisfied: tzdata>=2022.1 in /shared-libs/python3.9/py/lib/python3.9/site-packages (from pandas>=0.24.2->mlxtend) (2022.5)\n",
      "Requirement already satisfied: threadpoolctl>=2.0.0 in /shared-libs/python3.9/py/lib/python3.9/site-packages (from scikit-learn>=1.0.2->mlxtend) (3.1.0)\n",
      "Requirement already satisfied: six>=1.5 in /shared-libs/python3.9/py-core/lib/python3.9/site-packages (from python-dateutil>=2.7->matplotlib>=3.0.0->mlxtend) (1.16.0)\n",
      "Installing collected packages: mlxtend\n",
      "Successfully installed mlxtend-0.23.1\n",
      "\n",
      "\u001b[1m[\u001b[0m\u001b[34;49mnotice\u001b[0m\u001b[1;39;49m]\u001b[0m\u001b[39;49m A new release of pip is available: \u001b[0m\u001b[31;49m23.0.1\u001b[0m\u001b[39;49m -> \u001b[0m\u001b[32;49m24.0\u001b[0m\n",
      "\u001b[1m[\u001b[0m\u001b[34;49mnotice\u001b[0m\u001b[1;39;49m]\u001b[0m\u001b[39;49m To update, run: \u001b[0m\u001b[32;49mpip install --upgrade pip\u001b[0m\n"
     ]
    }
   ],
   "outputs_reference": "s3:deepnote-cell-outputs-production/6a72577e-c2ab-4aa5-978f-e398392e5a59",
   "source": [
    "!pip install mlxtend"
   ]
  },
  {
   "block_group": "949f89883bb4459096c15af91712e300",
   "cell_type": "markdown",
   "metadata": {
    "cell_id": "4bed9538c03b4e1b9300e29a60786c90",
    "deepnote_app_block_visible": true,
    "deepnote_cell_type": "text-cell-bullet",
    "formattedRanges": [
     {
      "fromCodePoint": 6,
      "marks": {
       "italic": true
      },
      "toCodePoint": 18,
      "type": "marks"
     },
     {
      "fromCodePoint": 18,
      "marks": {
       "bold": true
      },
      "toCodePoint": 34,
      "type": "marks"
     },
     {
      "fromCodePoint": 39,
      "marks": {
       "bold": true
      },
      "toCodePoint": 51,
      "type": "marks"
     }
    ]
   },
   "source": [
    "- Untuk Classifiers KNN k = 3 (clf1) dan k = 5 (clf2)"
   ]
  },
  {
   "block_group": "adc2368cd2c641ca9bc3bd2ab0f7fcdd",
   "cell_type": "code",
   "content_dependencies": {
    "codeHash": "c38b9b5",
    "definedVariables": [
     "clf2",
     "sclf",
     "clf",
     "clf1",
     "lr",
     "label",
     "scores"
    ],
    "importedModules": [
     "GaussianNB",
     "model_selection",
     "np",
     "StackingClassifier",
     "warnings",
     "KNeighborsClassifier"
    ],
    "usedVariables": [
     "GaussianNB",
     "y",
     "model_selection",
     "X",
     "clf2",
     "StackingClassifier",
     "warnings",
     "sclf",
     "clf",
     "clf1",
     "lr",
     "label",
     "KNeighborsClassifier",
     "scores"
    ]
   },
   "execution_count": 22,
   "metadata": {
    "cell_id": "19e22480cbc948b4bd835e268a6103be",
    "deepnote_app_block_visible": true,
    "deepnote_cell_type": "code",
    "deepnote_to_be_reexecuted": false,
    "execution_millis": 356,
    "execution_start": 1718535593360,
    "source_hash": "c38b9b5"
   },
   "outputs": [
    {
     "name": "stdout",
     "output_type": "stream",
     "text": [
      "Accuracy: 0.87 (+/- 0.01) [KNN [k=3]]\n",
      "Accuracy: 0.90 (+/- 0.01) [KNN [k=5]]\n",
      "Accuracy: 0.88 (+/- 0.01) [StackingClassifier]\n"
     ]
    }
   ],
   "outputs_reference": "dbtable:cell_outputs/c7543335-27c8-4254-8f4d-ee852b87e689",
   "source": [
    "from sklearn import model_selection\n",
    "from sklearn.neighbors import KNeighborsClassifier\n",
    "from sklearn.naive_bayes import GaussianNB \n",
    "from mlxtend.classifier import StackingClassifier\n",
    "import numpy as np\n",
    "import warnings\n",
    "\n",
    "warnings.simplefilter('ignore')\n",
    "\n",
    "clf1 = KNeighborsClassifier(n_neighbors=3)\n",
    "clf2 = KNeighborsClassifier(n_neighbors=5)\n",
    "lr = GaussianNB()\n",
    "sclf = StackingClassifier(classifiers=[clf1, clf2], meta_classifier=lr)\n",
    "\n",
    "for clf, label in zip([clf1, clf2, sclf], \n",
    "                      ['KNN [k=3]', \n",
    "                       'KNN [k=5]', \n",
    "                       'StackingClassifier']):\n",
    "\n",
    "    scores = model_selection.cross_val_score(clf, X, y, \n",
    "                                              cv=3, scoring='accuracy')\n",
    "    print(\"Accuracy: %0.2f (+/- %0.2f) [%s]\" \n",
    "          % (scores.mean(), scores.std(), label))"
   ]
  },
  {
   "block_group": "eaf957a786174f128efa83ab3d81c2ec",
   "cell_type": "markdown",
   "metadata": {
    "cell_id": "6cc6473d64da4f838115c3f1e4d896ec",
    "deepnote_app_block_visible": true,
    "deepnote_cell_type": "text-cell-bullet",
    "formattedRanges": [
     {
      "fromCodePoint": 6,
      "marks": {
       "italic": true
      },
      "toCodePoint": 18,
      "type": "marks"
     },
     {
      "fromCodePoint": 18,
      "marks": {
       "bold": true
      },
      "toCodePoint": 34,
      "type": "marks"
     },
     {
      "fromCodePoint": 39,
      "marks": {
       "bold": true
      },
      "toCodePoint": 57,
      "type": "marks"
     }
    ]
   },
   "source": [
    "- Untuk Classifiers KNN k = 3 (clf1) dan Naive Bayes (clf2)"
   ]
  },
  {
   "block_group": "8a2d01d905df49269980c8b97e838ee7",
   "cell_type": "code",
   "content_dependencies": null,
   "execution_count": 23,
   "metadata": {
    "cell_id": "7fbca8cf65f745e2a6089236f6c5df75",
    "deepnote_app_block_visible": true,
    "deepnote_cell_type": "code",
    "deepnote_to_be_reexecuted": false,
    "execution_millis": 210,
    "execution_start": 1718535593722,
    "source_hash": "1fe2020b"
   },
   "outputs": [
    {
     "name": "stdout",
     "output_type": "stream",
     "text": [
      "Accuracy: 0.87 (+/- 0.01) [KNN [k=3]]\n",
      "Accuracy: 0.64 (+/- 0.02) [Naive Bayes]\n",
      "Accuracy: 0.70 (+/- 0.06) [StackingClassifier]\n"
     ]
    }
   ],
   "outputs_reference": "dbtable:cell_outputs/1f65142d-47bb-4673-b6ac-a0b1abaccd45",
   "source": [
    "from sklearn import model_selection\n",
    "from sklearn.neighbors import KNeighborsClassifier\n",
    "from sklearn.naive_bayes import GaussianNB \n",
    "from mlxtend.classifier import StackingClassifier\n",
    "import numpy as np\n",
    "import warnings\n",
    "\n",
    "warnings.simplefilter('ignore')\n",
    "\n",
    "clf1 = KNeighborsClassifier(n_neighbors=3)\n",
    "clf2 = GaussianNB()\n",
    "lr = GaussianNB()\n",
    "sclf = StackingClassifier(classifiers=[clf1, clf2], meta_classifier=lr)\n",
    "\n",
    "for clf, label in zip([clf1, clf2, sclf], \n",
    "                      ['KNN [k=3]', \n",
    "                       'Naive Bayes', \n",
    "                       'StackingClassifier']):\n",
    "\n",
    "    scores = model_selection.cross_val_score(clf, X, y, \n",
    "                                              cv=3, scoring='accuracy')\n",
    "    print(\"Accuracy: %0.2f (+/- %0.2f) [%s]\" \n",
    "          % (scores.mean(), scores.std(), label))"
   ]
  },
  {
   "block_group": "397ef5b4e5b94c2d86f5c2af68f122ba",
   "cell_type": "markdown",
   "metadata": {
    "cell_id": "15353b43535149748832656e627a6913",
    "deepnote_app_block_visible": true,
    "deepnote_cell_type": "text-cell-bullet",
    "formattedRanges": [
     {
      "fromCodePoint": 0,
      "marks": {
       "bold": true
      },
      "toCodePoint": 15,
      "type": "marks"
     }
    ],
    "is_collapsed": false
   },
   "source": [
    "- Base Classifier"
   ]
  },
  {
   "block_group": "287af9fa2af04c2dbafa8f773d7a64f8",
   "cell_type": "markdown",
   "metadata": {
    "cell_id": "32f8dabca0444efa8a7bf854832d77e7",
    "deepnote_app_block_visible": true,
    "deepnote_cell_type": "text-cell-p",
    "formattedRanges": []
   },
   "source": [
    "Base classifier adalah model pembelajaran mesin dasar yang digunakan sebagai komponen individu dalam metode ensemble, seperti bagging, boosting, atau stacking. Metode ensemble ini menggabungkan beberapa base classifier untuk meningkatkan kinerja prediktif keseluruhan."
   ]
  },
  {
   "block_group": "1e7cdb23a9b54e6692cef43829094684",
   "cell_type": "markdown",
   "metadata": {
    "cell_id": "a184225687ad4a198d57fe953c0b43ec",
    "deepnote_app_block_visible": true,
    "deepnote_cell_type": "text-cell-p",
    "formattedRanges": []
   },
   "source": [
    "Base classifier adalah komponen penting dalam teknik ensemble yang membantu meningkatkan kinerja model pembelajaran mesin dengan menggabungkan kekuatan beberapa model sederhana. Meskipun kemampuan individualnya terbatas, ketika digabungkan, base classifier dapat menghasilkan model yang lebih kuat dan akurat."
   ]
  },
  {
   "block_group": "4c537e93fb124ef0a6224f8025b15ef8",
   "cell_type": "markdown",
   "metadata": {
    "cell_id": "77fa400095fe4f408581dd1a93b6669c",
    "deepnote_app_block_visible": true,
    "deepnote_cell_type": "text-cell-p",
    "formattedRanges": []
   },
   "source": [
    "Base classifier dalam kode ini adalah model KNN dengan jumlah tetangga berbeda (3 dan 5). Stacking classifier menggabungkan dua base classifier ini dan menggunakan model Naive Bayes sebagai meta-classifier untuk membuat prediksi akhir yang diharapkan lebih akurat. Validasi silang digunakan untuk mengevaluasi kinerja masing-masing model, dan hasilnya disimpan ke file CSV."
   ]
  },
  {
   "block_group": "21910b5974a7428e8e8cf25d346b8f03",
   "cell_type": "code",
   "content_dependencies": {
    "codeHash": "c1049dcc",
    "definedVariables": [
     "model_name",
     "clf2",
     "sclf",
     "clf",
     "model_names",
     "clf1",
     "models",
     "lr",
     "results_df",
     "accuracy",
     "scores",
     "std"
    ],
    "importedModules": [
     "GaussianNB",
     "model_selection",
     "np",
     "StackingClassifier",
     "warnings",
     "KNeighborsClassifier",
     "pd"
    ],
    "usedVariables": [
     "GaussianNB",
     "model_selection",
     "std",
     "y",
     "model_name",
     "warnings",
     "clf",
     "clf1",
     "KNeighborsClassifier",
     "scores",
     "clf2",
     "StackingClassifier",
     "sclf",
     "model_names",
     "models",
     "results_df",
     "accuracy",
     "X",
     "lr",
     "pd"
    ]
   },
   "execution_count": 24,
   "metadata": {
    "cell_id": "1e3478ab65d9400b9c3da654a0b02f4b",
    "deepnote_app_block_visible": true,
    "deepnote_cell_type": "code",
    "deepnote_to_be_reexecuted": false,
    "execution_millis": 843,
    "execution_start": 1718535593944,
    "source_hash": "c1049dcc"
   },
   "outputs": [
    {
     "name": "stdout",
     "output_type": "stream",
     "text": [
      "Accuracy: 0.87 (+/- 0.01) [KNN (n_neighbors=3)]\n",
      "Accuracy: 0.90 (+/- 0.01) [KNN (n_neighbors=5)]\n",
      "Accuracy: 0.88 (+/- 0.01) [StackingClassifier]\n"
     ]
    }
   ],
   "outputs_reference": "dbtable:cell_outputs/daf223c4-44f0-4d30-b6ab-6966f5b11a8b",
   "source": [
    "import pandas as pd\n",
    "from sklearn import model_selection\n",
    "from sklearn.neighbors import KNeighborsClassifier\n",
    "from sklearn.naive_bayes import GaussianNB \n",
    "from mlxtend.classifier import StackingClassifier\n",
    "import numpy as np\n",
    "import warnings\n",
    "\n",
    "warnings.simplefilter('ignore')\n",
    "clf1 = KNeighborsClassifier(n_neighbors=3)\n",
    "clf2 = KNeighborsClassifier(n_neighbors=5)\n",
    "lr = GaussianNB()\n",
    "sclf = StackingClassifier(classifiers=[clf1, clf2], meta_classifier=lr)\n",
    "\n",
    "models = [clf1, clf2, sclf]\n",
    "model_names = ['KNN (n_neighbors=3)', 'KNN (n_neighbors=5)', 'StackingClassifier']\n",
    "\n",
    "for clf, model_name in zip(models, model_names):\n",
    "  # Melakukan validasi silang dan menghitung akurasi\n",
    "  scores = model_selection.cross_val_score(clf, X, y, cv=3, scoring='accuracy')\n",
    "  accuracy = scores.mean()\n",
    "  std = scores.std()\n",
    "\n",
    "  # Menyimpan hasilnya ke .csv\n",
    "  results_df = pd.DataFrame({'Model': [model_name], 'Accuracy': [accuracy], 'Std': [std]})\n",
    "  results_df.to_csv(f'{model_name}_results.csv', index=False)\n",
    "\n",
    "  # Mencetak hasil untuk referensi\n",
    "  print(f\"Accuracy: {accuracy:.2f} (+/- {std:.2f}) [{model_name}]\")\n"
   ]
  },
  {
   "block_group": "149dce4df4c941b584f74a2e71a946ae",
   "cell_type": "markdown",
   "metadata": {
    "cell_id": "33d88714ec614c759981f99e8f487ba4",
    "deepnote_app_block_visible": true,
    "deepnote_cell_type": "text-cell-bullet",
    "formattedRanges": [
     {
      "fromCodePoint": 0,
      "marks": {
       "bold": true
      },
      "toCodePoint": 22,
      "type": "marks"
     }
    ],
    "is_collapsed": false
   },
   "source": [
    "- Output Base Classifier"
   ]
  },
  {
   "block_group": "bc263d03a89c4b8991ba510e091b269a",
   "cell_type": "markdown",
   "metadata": {
    "cell_id": "8d15f83897974af3949d63b4da0b5104",
    "deepnote_app_block_visible": true,
    "deepnote_cell_type": "text-cell-p",
    "formattedRanges": []
   },
   "source": [
    "Output dari sebuah base classifier (klasifikasi dasar) adalah prediksi kelas atau probabilitas untuk setiap kelas yang dihasilkan oleh model machine learning yang sederhana atau mendasar. Base classifier biasanya digunakan sebagai komponen dalam metode ensemble learning, seperti bagging, boosting, atau stacking, di mana mereka digabungkan untuk membentuk model yang lebih kuat dan akurat. "
   ]
  },
  {
   "block_group": "884c8c9dd1af4cd09d01643a75410022",
   "cell_type": "markdown",
   "metadata": {
    "cell_id": "75cdf368fd9e4108af2a15afb449ebe1",
    "deepnote_app_block_visible": true,
    "deepnote_cell_type": "text-cell-p",
    "formattedRanges": []
   },
   "source": [
    "dalam data ini, kami menggunakan ensemble learning berupa bagging dan stacking. dan metode yang kami gunakan menggunakan metode KNN dan Naive Bayes."
   ]
  },
  {
   "block_group": "0f3a597d9a5e40178c59a6f4f7b40e6b",
   "cell_type": "code",
   "content_dependencies": {
    "codeHash": "27e5305f",
    "definedVariables": [
     "y_pred",
     "y",
     "model_name",
     "X",
     "clf2",
     "sclf",
     "clf",
     "model_names",
     "clf1",
     "models",
     "lr",
     "results_df"
    ],
    "importedModules": [
     "GaussianNB",
     "model_selection",
     "np",
     "StackingClassifier",
     "warnings",
     "KNeighborsClassifier",
     "pd"
    ],
    "usedVariables": [
     "GaussianNB",
     "y",
     "y_pred",
     "model_name",
     "X",
     "clf2",
     "StackingClassifier",
     "warnings",
     "sclf",
     "clf",
     "model_names",
     "clf1",
     "models",
     "lr",
     "results_df",
     "KNeighborsClassifier",
     "pd"
    ]
   },
   "execution_count": 25,
   "metadata": {
    "cell_id": "b4fd7456b60e40c2b598f32e87453c0f",
    "deepnote_app_block_visible": true,
    "deepnote_cell_type": "code",
    "deepnote_to_be_reexecuted": false,
    "execution_millis": 913,
    "execution_start": 1718535594795,
    "source_hash": "27e5305f"
   },
   "outputs": [
    {
     "name": "stdout",
     "output_type": "stream",
     "text": [
      "Predictions saved for KNN (n_neighbors=3) to KNN (n_neighbors=3)_predictions.csv\n",
      "Predictions saved for KNN (n_neighbors=5) to KNN (n_neighbors=5)_predictions.csv\n",
      "Predictions saved for StackingClassifier to StackingClassifier_predictions.csv\n"
     ]
    }
   ],
   "outputs_reference": "dbtable:cell_outputs/fc07bffe-bed7-400b-b6ad-3ee3debb7f16",
   "source": [
    "import pandas as pd\n",
    "from sklearn import model_selection\n",
    "from sklearn.neighbors import KNeighborsClassifier\n",
    "from sklearn.naive_bayes import GaussianNB \n",
    "from mlxtend.classifier import StackingClassifier\n",
    "import numpy as np\n",
    "import warnings\n",
    "\n",
    "warnings.simplefilter('ignore')\n",
    "\n",
    "# Membaca fitur (X) dari 'car-training.csv' & target variable (y) dari 'car-training-target.csv'\n",
    "X = pd.read_csv(\"car-training.csv\")\n",
    "y = pd.read_csv(\"car-training-target.csv\")[\"target\"]\n",
    "\n",
    "# Inisialisasi base classifiers and meta-classifier\n",
    "clf1 = KNeighborsClassifier(n_neighbors=3)\n",
    "clf2 = KNeighborsClassifier(n_neighbors=5)\n",
    "lr = GaussianNB()\n",
    "sclf = StackingClassifier(classifiers=[clf1, clf2], meta_classifier=lr)\n",
    "\n",
    "# Inisialisasi models untuk prediksi\n",
    "models = [clf1, clf2, sclf]\n",
    "model_names = ['KNN (n_neighbors=3)', 'KNN (n_neighbors=5)', 'StackingClassifier']\n",
    "\n",
    "# Iterasi antar models\n",
    "for clf, model_name in zip(models, model_names):\n",
    "  # Train model\n",
    "  clf.fit(X, y)\n",
    "\n",
    "  # Memprediksi variabel target untuk setiap titik data\n",
    "  y_pred = clf.predict(X)\n",
    "\n",
    "  # Membuat DataFrame dengan variabel target prediksi\n",
    "  results_df = pd.DataFrame({'Data Index': X.index, 'Predicted Target': y_pred})\n",
    "\n",
    "  # Menyimpan hasil ke CSV\n",
    "  results_df.to_csv(f'{model_name}_predictions.csv', index=False)\n",
    "\n",
    "  print(f\"Predictions saved for {model_name} to {model_name}_predictions.csv\")"
   ]
  },
  {
   "block_group": "bcdcaefa963b400f91b256ccf6e7fc02",
   "cell_type": "markdown",
   "metadata": {
    "cell_id": "0bacd5da581643758b4842912daf392a",
    "deepnote_app_block_visible": true,
    "deepnote_cell_type": "text-cell-bullet",
    "formattedRanges": [
     {
      "fromCodePoint": 0,
      "marks": {
       "bold": true
      },
      "toCodePoint": 15,
      "type": "marks"
     }
    ],
    "is_collapsed": false
   },
   "source": [
    "- Meta Classifier"
   ]
  },
  {
   "block_group": "0feb0abb43f24d319539bab299268dd1",
   "cell_type": "markdown",
   "metadata": {
    "cell_id": "ffdc7d78500c48fe903e91ede8a2cc12",
    "deepnote_app_block_visible": true,
    "deepnote_cell_type": "text-cell-p",
    "formattedRanges": []
   },
   "source": [
    "Meta classifier adalah model pembelajaran mesin yang digunakan untuk menggabungkan atau mengonsolidasi prediksi dari beberapa base classifier dalam metode ensemble learning. Meta classifier bekerja pada tingkat yang lebih tinggi daripada base classifier, mengambil hasil prediksi dari beberapa base classifier dan menggabungkannya untuk menghasilkan prediksi akhir yang lebih akurat."
   ]
  },
  {
   "block_group": "bc56db2c934245f9a429ac9a8395e3da",
   "cell_type": "markdown",
   "metadata": {
    "cell_id": "530b39e231ca46f2b248e8246947a982",
    "deepnote_app_block_visible": true,
    "deepnote_cell_type": "text-cell-p",
    "formattedRanges": []
   },
   "source": [
    "Meta classifier adalah model penting dalam teknik ensemble yang menggabungkan prediksi dari beberapa base classifier untuk menghasilkan hasil akhir yang lebih akurat dan andal. Dengan belajar dari kekuatan dan kelemahan base classifier, meta classifier membantu meningkatkan kinerja keseluruhan sistem pembelajaran mesin."
   ]
  },
  {
   "block_group": "a24cca4a79454a1d88c9c475e8198af5",
   "cell_type": "markdown",
   "metadata": {
    "cell_id": "3e058afc0c4f44a7bc56c3136bd286fc",
    "deepnote_app_block_visible": true,
    "deepnote_cell_type": "text-cell-p",
    "formattedRanges": []
   },
   "source": [
    "Implementasi saat menggunakan perhitungan manual beserta visualisasi confusion matrix:"
   ]
  },
  {
   "block_group": "7e408cddd186426d824fed18272f13f4",
   "cell_type": "code",
   "content_dependencies": {
    "codeHash": "b6197558",
    "definedVariables": [
     "y",
     "y_test",
     "X",
     "clf2",
     "sclf",
     "clf1",
     "X_stacking",
     "X_test",
     "lr",
     "accuracy",
     "scores",
     "std"
    ],
    "importedModules": [
     "GaussianNB",
     "model_selection",
     "np",
     "StackingClassifier",
     "warnings",
     "sns",
     "KNeighborsClassifier",
     "pd"
    ],
    "usedVariables": [
     "GaussianNB",
     "y",
     "y_test",
     "model_selection",
     "X",
     "clf2",
     "StackingClassifier",
     "warnings",
     "sclf",
     "clf1",
     "X_stacking",
     "X_test",
     "lr",
     "accuracy",
     "KNeighborsClassifier",
     "scores",
     "std",
     "pd"
    ]
   },
   "execution_count": 26,
   "metadata": {
    "cell_id": "956e429d40cc4699829f26b7f5c4e455",
    "deepnote_app_block_visible": true,
    "deepnote_cell_type": "code",
    "deepnote_to_be_reexecuted": false,
    "execution_millis": 375,
    "execution_start": 1718535595717,
    "source_hash": "e769919a"
   },
   "outputs": [
    {
     "name": "stdout",
     "output_type": "stream",
     "text": [
      "StackingClassifier Accuracy on Test Data: 0.61 (+/- 0.04)\n"
     ]
    }
   ],
   "outputs_reference": "dbtable:cell_outputs/bdcb297b-91c6-4f88-b428-0d9d70211829",
   "source": [
    "import pandas as pd\n",
    "from sklearn import model_selection\n",
    "from sklearn.neighbors import KNeighborsClassifier\n",
    "from sklearn.naive_bayes import GaussianNB\n",
    "from mlxtend.classifier import StackingClassifier  # Import from mlxtend\n",
    "import numpy as np\n",
    "import warnings\n",
    "\n",
    "warnings.simplefilter('ignore')\n",
    "\n",
    "# Load training data (X, y)\n",
    "try:\n",
    "  X = pd.read_csv(\"car-training.csv\")\n",
    "  y = pd.read_csv(\"car-training-target.csv\")[\"target\"]  # Assuming target column name\n",
    "except FileNotFoundError:\n",
    "  print(\"Error: Training data files not found. Please check file paths.\")\n",
    "  exit()\n",
    "\n",
    "# Mendefinisikan base classifiers\n",
    "clf1 = KNeighborsClassifier(n_neighbors=3)\n",
    "clf2 = KNeighborsClassifier(n_neighbors=5)\n",
    "\n",
    "# Train base classifiers dalam training data (X, y)\n",
    "clf1.fit(X, y)\n",
    "clf2.fit(X, y)\n",
    "\n",
    "# Load test data (X_test, y_test)\n",
    "try:\n",
    "  X_test = pd.read_csv(\"car-training-test-input.csv\")\n",
    "  y_test = pd.read_csv(\"car-training-target-test.csv\")[\"target\"]  # Assuming target column name\n",
    "except FileNotFoundError:\n",
    "  print(\"Error: Test data files not found. Please check file paths.\")\n",
    "  exit()\n",
    "\n",
    "# Mempersiapkan fitur untuk StackingClassifier (Skenario 1)\n",
    "if \"knn_k3\" and \"knn_k5\" in X_test.columns:\n",
    "  X_stacking = X_test[[\"knn_k3\", \"knn_k5\"]]  # Select columns if they exist\n",
    "else:\n",
    "  # Mempersiapkan fitur berdasarkan prediksi dari base classifiers (Skenario 2)\n",
    "  X_stacking = pd.DataFrame({'knn_k3': clf1.predict(X_test), 'knn_k5': clf2.predict(X_test)})\n",
    "\n",
    "# Mendefinisikan meta-classifier\n",
    "lr = GaussianNB()\n",
    "\n",
    "# Train StackingClassifier pada fitur yang telah disiapkan dan variabel target (y_test)\n",
    "sclf = StackingClassifier(classifiers=[clf1, clf2], meta_classifier=lr)  # Use `classifiers` argument\n",
    "clf = [X, y]\n",
    "lr.fit(X_stacking, y_test)\n",
    "\n",
    "# Mengevaluasi kinerja StackingClassifier pada data test\n",
    "scores = model_selection.cross_val_score(sclf, X_stacking, y_test, cv=3, scoring='accuracy')\n",
    "accuracy = scores.mean()\n",
    "std = scores.std()\n",
    "\n",
    "print(f\"StackingClassifier Accuracy on Test Data: {accuracy:.2f} (+/- {std:.2f})\")"
   ]
  },
  {
   "block_group": "98be6f8cd0df4094b002a66851641864",
   "cell_type": "code",
   "content_dependencies": {
    "codeHash": "965a58a0",
    "definedVariables": [
     "y_pred",
     "cm",
     "ax"
    ],
    "importedModules": [
     "sns"
    ],
    "usedVariables": [
     "y_pred",
     "y_test",
     "cm",
     "ax",
     "plt",
     "sclf",
     "X_stacking",
     "sns",
     "confusion_matrix"
    ]
   },
   "execution_count": 27,
   "metadata": {
    "cell_id": "63581c71b694448f8fbbc31c073a4ed7",
    "deepnote_app_block_visible": true,
    "deepnote_cell_type": "code",
    "deepnote_to_be_reexecuted": false,
    "execution_millis": 396,
    "execution_start": 1718535596101,
    "source_hash": "23a9fce0"
   },
   "outputs": [
    {
     "data": {
      "image/png": "[encoded data removed]",
      "text/plain": [
       "<Figure size 800x600 with 2 Axes>"
      ]
     },
     "metadata": {
      "image/png": {
       "height": 590,
       "width": 707
      }
     },
     "output_type": "display_data"
    }
   ],
   "outputs_reference": "s3:deepnote-cell-outputs-production/7ad30567-8d92-40e3-be69-75be7ef7adc1",
   "source": [
    "from sklearn.metrics import confusion_matrix\n",
    "import matplotlib.pyplot as plt  # Import seaborn untuk visualisasi data\n",
    "\n",
    "# Perhitungan confusion matrix\n",
    "sclf.fit(X_stacking, y_test)\n",
    "y_pred = sclf.predict(X_stacking)\n",
    "cm = confusion_matrix(y_test, y_pred)\n",
    "\n",
    "# Visualisasi confusion matrix dengan Matplotlib\n",
    "plt.figure(figsize=(8, 6))  # Sesuaikan ukuran gambar jika diperlukan\n",
    "plt.imshow(cm, interpolation='nearest')  # Buatkan heatmap\n",
    "plt.colorbar()  # Tambahkan colorbar untuk visualisasi value warna mapping\n",
    "plt.title('Confusion Matrix')  # Set the title\n",
    "plt.xlabel('Predicted Label')  # Label the x-axis\n",
    "plt.ylabel('True Label')  # Label the y-axis\n",
    "\n",
    "# Menambahkan label untuk setiap sel dalam matriks\n",
    "for i in range(len(cm)):\n",
    "    for j in range(len(cm)):\n",
    "        plt.text(j, i, cm[i, j], ha='center', va='center')  # Sesuaikan posisi teks jika diperlukan\n",
    "\n",
    "plt.xticks([i for i in range(len(cm[0]))], ['Predicted {}'.format(i) for i in range(len(cm[0]))])  # Set x-axis labels\n",
    "plt.yticks([i for i in range(len(cm))] , ['Actual {}'.format(i) for i in range(len(cm))])  # Set y-axis labels\n",
    "\n",
    "plt.tight_layout()  # Sesuaikan layout untuk menghindari element yang saling tumpang tindih\n",
    "plt.show()  # Menampilkan hasil confusion matrix"
   ]
  },
  {
   "block_group": "ff27bd956030425ba74c09f15bb3156c",
   "cell_type": "markdown",
   "metadata": {
    "cell_id": "32f26193f0f347cda19aa5f86e44f1e3",
    "deepnote_app_block_visible": true,
    "deepnote_cell_type": "text-cell-p",
    "formattedRanges": []
   },
   "source": [
    "Implementasi menggunakan Library Scikit Learn:"
   ]
  },
  {
   "block_group": "566ae457d6634b0da24af31d4e733106",
   "cell_type": "code",
   "content_dependencies": null,
   "execution_count": 28,
   "metadata": {
    "cell_id": "13a9a9a8aeff4444a9c214228931550b",
    "deepnote_app_block_visible": true,
    "deepnote_cell_type": "code",
    "deepnote_to_be_reexecuted": false,
    "execution_millis": 399,
    "execution_start": 1718535596508,
    "source_hash": "a57191f9"
   },
   "outputs": [
    {
     "name": "stdout",
     "output_type": "stream",
     "text": [
      "Predictions: [2 2 2 0 2 2 2 0 2 2 3 1 0 2 2 2 2 2 2 0 2 0 0 2 0 2 2 2 2 2 0 2 2 2 0 0 0\n",
      " 2 2 2 2 2 0 0 1 0 2 2 2 2 2 2 0 2 2 2 2 2 2 1 2 2 2 2 0 3 2 0 0 2 2 2 2 2\n",
      " 1 1 2 2 2 2 3 2 2 2 3 0 2 0 0 0 2 0 2 2 2 0 2 2 2 0 0 2 2 2 3 0 2 2 2 0 2\n",
      " 2 2 2 2 0 0 2 2 0 2 1 2 0 0 2 2 2 2 2 2 2 0 2 2 0 2 3 2 2 2 0 2 0 2 2 2 2\n",
      " 2 2 0 3 2 2 2 2 2 2 2 2 2 0 2 2 2 2 0 2 0 3 0 2 0 2 2 0 2 2 2 2 0 2 2 2 0\n",
      " 0 2 2 0 2 2 2 0 2 3 2 2 0 2 2 2 2 2 1 2 2 2 1 2 0 2 2 2 2 2 0 2 2 2 3 3 2\n",
      " 2 0 2 2 2 2 0 2 2 2 0 2 0 2 2 2 2 2 2 2 2 2 2 2 2 2 2 2 2 2 2 2 2 2 0 2 0\n",
      " 2 0 2 2 2 0 2 0 0 2 2 2 2 2 2 0 2 2 0 2 2 0 2 0 0 2 2 2 1 3 0 0 2 2 2 0 3\n",
      " 0 0 2 2 2 2 0 2 2 2 2 2 2 2 3 0 0 2 2 0 0 0 2 0 0 2 2 2 2 2 0 0 2 2 2 2 0\n",
      " 2 2 2 2 0 2 2 2 2 2 2 2 2]\n",
      "Confusion Matrix:\n",
      " [[ 65   3  13   2]\n",
      " [  6   5   0   0]\n",
      " [  8   0 226   1]\n",
      " [  5   1   0  11]]\n",
      "Accuracy on Test Set: 0.89\n"
     ]
    }
   ],
   "outputs_reference": "dbtable:cell_outputs/68d13e29-4912-4b22-a300-adc7b32446b5",
   "source": [
    "import pandas as pd\n",
    "from sklearn.metrics import confusion_matrix, accuracy_score\n",
    "\n",
    "# Membaca Dataset\n",
    "try:\n",
    "    # Data training\n",
    "    X_train = pd.read_csv(\"car-training.csv\")\n",
    "    y_train = pd.read_csv(\"car-training-target.csv\")[\"target\"]\n",
    "\n",
    "    # Data testing\n",
    "    X_test = pd.read_csv(\"car-training-test.csv\")\n",
    "    y_test = pd.read_csv(\"car-training-target-test.csv\")[\"target\"]\n",
    "except FileNotFoundError:\n",
    "    print(\"Error: Training or test data files not found. Please check file paths.\")\n",
    "    exit()\n",
    "\n",
    "# Base Classifiers (K-Nearest Neighbors)\n",
    "clf1 = KNeighborsClassifier(n_neighbors=3)\n",
    "clf2 = KNeighborsClassifier(n_neighbors=5)\n",
    "\n",
    "# Meta-classifier (Gaussian Naive Bayes)\n",
    "lr = GaussianNB()\n",
    "\n",
    "# StackingClassifier for Ensemble Learning\n",
    "sclf = StackingClassifier(classifiers=[clf1, clf2], meta_classifier=lr)\n",
    "\n",
    "sclf.fit(X_train, y_train)\n",
    "\n",
    "y_pred = sclf.predict(X_test)\n",
    "print(\"Predictions:\", y_pred)\n",
    "\n",
    "cm = confusion_matrix(y_test, y_pred)\n",
    "print(\"Confusion Matrix:\\n\", cm)\n",
    "\n",
    "accuracy = accuracy_score(y_test, y_pred)\n",
    "print(f\"Accuracy on Test Set: {accuracy:.2f}\")"
   ]
  },
  {
   "block_group": "befc38293d0342ec8140f6cd2d71a0d2",
   "cell_type": "markdown",
   "metadata": {
    "cell_id": "eddb5bbafa774766a954540468fb29f0",
    "deepnote_app_block_visible": true,
    "deepnote_cell_type": "text-cell-h3",
    "formattedRanges": [],
    "is_collapsed": false
   },
   "source": [
    "### Ensemble Learning - Bagging"
   ]
  },
  {
   "block_group": "64e3d325c3a44deaa4156c373260da82",
   "cell_type": "markdown",
   "metadata": {
    "cell_id": "6d701585c0404cf5ae374c6c9dd88440",
    "deepnote_app_block_visible": true,
    "deepnote_cell_type": "text-cell-p",
    "formattedRanges": []
   },
   "source": [
    "Penjelasan konsep bagging adalah metaestimator ansambel yang menyesuaikan pengklasifikasi dasar masing-masing pada subset acak dari kumpulan data asli dan kemusian menggabungkan prediksi individualnya."
   ]
  },
  {
   "block_group": "3f512dd6da8c452ca92ed3564538341c",
   "cell_type": "markdown",
   "metadata": {
    "cell_id": "0dbc727997454f0a9ce9bcf8dd8131e4",
    "deepnote_app_block_visible": true,
    "deepnote_cell_type": "text-cell-p",
    "formattedRanges": []
   },
   "source": [
    "Penerapan bagging melibatkan langkah, berikut gambaran umumnya:"
   ]
  },
  {
   "block_group": "25fc512608384b5abaeae15fbd2204c9",
   "cell_type": "markdown",
   "metadata": {
    "cell_id": "f8a59027563c467db04dc255d4c9c12f",
    "deepnote_app_block_visible": true,
    "deepnote_cell_type": "text-cell-p",
    "formattedRanges": [
     {
      "fromCodePoint": 0,
      "marks": {
       "bold": true
      },
      "toCodePoint": 27,
      "type": "marks"
     }
    ]
   },
   "source": [
    "1. Persiapan kumpulan data: siapkan kumpulan data anda, pastikan kumpulan data tersebut dibersihkan dan diproses sebelumnya dengan benar, bagi menjadi set pelatihan dan set pengujian "
   ]
  },
  {
   "block_group": "8dc915ca03064677ae119ade9a3fdbb8",
   "cell_type": "markdown",
   "metadata": {
    "cell_id": "4e1390a95c7549f5a8a0ce34055ddabd",
    "deepnote_app_block_visible": true,
    "deepnote_cell_type": "text-cell-p",
    "formattedRanges": [
     {
      "fromCodePoint": 0,
      "marks": {
       "bold": true
      },
      "toCodePoint": 31,
      "type": "marks"
     }
    ]
   },
   "source": [
    "2. Pengambilan Sampel Bootstrap: Sampel acak dari kumpulan data pelatihan dengan penggantian untuk membuat beberapa sampel bootstrap. Setiap sampel bootstrap biasanya harus memiliki ukuran yang sama dengan kumpulan data asli, namun beberapa titik data mungkin diulang sementara yang lain mungkin dihilangkan."
   ]
  },
  {
   "block_group": "254c66fed7a64e3aa231fd591d87a7a8",
   "cell_type": "markdown",
   "metadata": {
    "cell_id": "277920b731c64cf4b601f0ecb3be7ef8",
    "deepnote_app_block_visible": true,
    "deepnote_cell_type": "text-cell-p",
    "formattedRanges": [
     {
      "fromCodePoint": 0,
      "marks": {
       "bold": true
      },
      "toCodePoint": 20,
      "type": "marks"
     },
     {
      "fromCodePoint": 50,
      "marks": {
       "bold": true
      },
      "toCodePoint": 51,
      "type": "marks"
     }
    ]
   },
   "source": [
    "3. Pelatihan Model: Melatih model dasar (misalnya, pohon keputusan, jaringan saraf, dll.) pada setiap sampel bootstrap. Setiap model harus dilatih secara independen satu sama lain."
   ]
  },
  {
   "block_group": "d5bf93d1aa23417ca56fbb31ebf9c68b",
   "cell_type": "markdown",
   "metadata": {
    "cell_id": "018a3879ee3f41d3bb607fc94e8352c7",
    "deepnote_app_block_visible": true,
    "deepnote_cell_type": "text-cell-p",
    "formattedRanges": [
     {
      "fromCodePoint": 0,
      "marks": {
       "bold": true
      },
      "toCodePoint": 22,
      "type": "marks"
     }
    ]
   },
   "source": [
    "4. Pembuatan Prediksi: Gunakan setiap model yang dilatih untuk memprediksi kumpulan data pengujian."
   ]
  },
  {
   "block_group": "6dcc5cde04d9448f8004e7caed2deead",
   "cell_type": "markdown",
   "metadata": {
    "cell_id": "f3a2dd6930f74a73ba7b093fb597a3f3",
    "deepnote_app_block_visible": true,
    "deepnote_cell_type": "text-cell-p",
    "formattedRanges": [
     {
      "fromCodePoint": 0,
      "marks": {
       "bold": true
      },
      "toCodePoint": 27,
      "type": "marks"
     }
    ]
   },
   "source": [
    "5. Menggabungkan Prediksi: Menggabungkan prediksi dari semua model. Anda dapat menggunakan pemungutan suara mayoritas untuk menentukan prediksi kelas akhir untuk tugas klasifikasi. Untuk tugas regresi , Anda dapat membuat rata-rata prediksi."
   ]
  },
  {
   "block_group": "39ec7226df9348e6a12d2c3494d08463",
   "cell_type": "markdown",
   "metadata": {
    "cell_id": "9fb99c30de2a49a7ae60cee9719e527d",
    "deepnote_app_block_visible": true,
    "deepnote_cell_type": "text-cell-p",
    "formattedRanges": [
     {
      "fromCodePoint": 0,
      "marks": {
       "bold": true
      },
      "toCodePoint": 13,
      "type": "marks"
     }
    ]
   },
   "source": [
    "6. Evaluasi: Evaluasi kinerja ansambel bagging pada kumpulan data pengujian menggunakan metrik yang sesuai (misalnya, akurasi, skor F1, kesalahan kuadrat rata-rata, dll.)."
   ]
  },
  {
   "block_group": "ed7cf8a3bcc348b4bddec25d0da0c250",
   "cell_type": "markdown",
   "metadata": {
    "cell_id": "6e562f267e834970bd78b298f1d551cc",
    "deepnote_app_block_visible": true,
    "deepnote_cell_type": "text-cell-p",
    "formattedRanges": [
     {
      "fromCodePoint": 0,
      "marks": {
       "bold": true
      },
      "toCodePoint": 29,
      "type": "marks"
     }
    ]
   },
   "source": [
    "7. Penyetelan Hyperparameter: Jika perlu, sesuaikan hyperparameter model dasar atau ansambel bagging itu sendiri menggunakan teknik seperti validasi silang."
   ]
  },
  {
   "block_group": "62ed953928df48ef94a21278499a9d93",
   "cell_type": "markdown",
   "metadata": {
    "cell_id": "64bc18cceb8a46a7af4ad9e6470609dc",
    "deepnote_app_block_visible": true,
    "deepnote_cell_type": "text-cell-p",
    "formattedRanges": [
     {
      "fromCodePoint": 0,
      "marks": {
       "bold": true
      },
      "toCodePoint": 13,
      "type": "marks"
     }
    ]
   },
   "source": [
    "8. Penerapan: Setelah Anda puas dengan kinerja ansambel bagging, terapkan untuk membuat prediksi pada data baru yang tidak terlihat."
   ]
  },
  {
   "block_group": "5b3dd4dc022e4444b1fbe6e2d989876b",
   "cell_type": "markdown",
   "metadata": {
    "cell_id": "4cc1379377524f9aaf4dd336ba83028e",
    "deepnote_app_block_visible": true,
    "deepnote_cell_type": "text-cell-p",
    "formattedRanges": [
     {
      "fromCodePoint": 52,
      "marks": {
       "bold": true
      },
      "toCodePoint": 62,
      "type": "marks"
     }
    ]
   },
   "source": [
    "Berikut contoh penggunaan Bagging Classifier dengan data dummy:"
   ]
  },
  {
   "block_group": "62766ae03a9040fdbcb6f25a9abd68f7",
   "cell_type": "code",
   "content_dependencies": null,
   "execution_count": 29,
   "metadata": {
    "cell_id": "6ac0515a90604a12a772a8735054710f",
    "deepnote_app_block_visible": true,
    "deepnote_cell_type": "code",
    "deepnote_to_be_reexecuted": false,
    "execution_millis": 829,
    "execution_start": 1718535596946,
    "source_hash": "d94bbc27"
   },
   "outputs": [
    {
     "name": "stdout",
     "output_type": "stream",
     "text": [
      "Accuracy on Training Set: 0.95\n"
     ]
    }
   ],
   "outputs_reference": "dbtable:cell_outputs/9a6bdb4f-d541-4b70-b7f0-365f7b84ebe1",
   "source": [
    "import pandas as pd\n",
    "from sklearn.svm import SVC\n",
    "from sklearn.ensemble import BaggingClassifier\n",
    "from sklearn.model_selection import train_test_split\n",
    "\n",
    "# Data Training\n",
    "X_train = pd.read_csv(\"car-training.csv\")\n",
    "y_train = pd.read_csv(\"car-training-target.csv\")[\"target\"]\n",
    "\n",
    "# Data Testing\n",
    "X_test = pd.read_csv(\"car-training-test-input.csv\")\n",
    "y_test = pd.read_csv(\"car-training-target-test.csv\")[\"target\"]\n",
    "\n",
    "# Create a Bagging Classifier using an SVC base estimator (corrected)\n",
    "clf = BaggingClassifier(base_estimator=SVC(), n_estimators=10, random_state=0)\n",
    "\n",
    "# Train the Bagging Classifier on the training data\n",
    "clf.fit(X_train, y_train)\n",
    "\n",
    "y_pred = clf.predict(X_train)\n",
    "\n",
    "# Evaluate the Bagging Classifier's performance (optional)\n",
    "from sklearn.metrics import accuracy_score\n",
    "\n",
    "accuracy = accuracy_score(y_train, y_pred)\n",
    "print(f\"Accuracy on Training Set: {accuracy:.2f}\")"
   ]
  },
  {
   "block_group": "49daf89702d74f91a937aa6f24abc93f",
   "cell_type": "markdown",
   "metadata": {
    "cell_id": "2c19f6e0ec674c77a210c9e4fbd0d3d2",
    "deepnote_app_block_visible": true,
    "deepnote_cell_type": "text-cell-p",
    "formattedRanges": []
   },
   "source": [
    "Sedangkan, berikut ini merupakan implementasi Bagging Classifier ini dengan dataset yang ada (Car Evaluation):"
   ]
  },
  {
   "block_group": "135f822ae614407b854a85913f2b5e4a",
   "cell_type": "code",
   "content_dependencies": null,
   "execution_count": 30,
   "metadata": {
    "cell_id": "dc7f530ef6fa4fa0b8719a64fca37d6b",
    "deepnote_app_block_visible": true,
    "deepnote_cell_type": "code",
    "deepnote_to_be_reexecuted": false,
    "execution_millis": 295,
    "execution_start": 1718535597779,
    "source_hash": "f4cf87e"
   },
   "outputs": [
    {
     "name": "stdout",
     "output_type": "stream",
     "text": [
      "Accuracy (n_estimators=3): 0.66\n",
      "Accuracy (n_estimators=4): 0.65\n",
      "Accuracy (n_estimators=5): 0.65\n",
      "Accuracy (n_estimators=7): 0.65\n",
      "Accuracy (n_estimators=10): 0.65\n"
     ]
    }
   ],
   "outputs_reference": "dbtable:cell_outputs/a8fb2fbe-1dc2-47dc-834a-b15abe39ec4c",
   "source": [
    "import pandas as pd\n",
    "from sklearn.naive_bayes import GaussianNB\n",
    "from sklearn.ensemble import BaggingClassifier\n",
    "from sklearn.model_selection import train_test_split\n",
    "from sklearn.metrics import accuracy_score\n",
    "\n",
    "X_train = pd.read_csv(\"car-training.csv\")\n",
    "y_train = pd.read_csv(\"car-training-target.csv\")[\"target\"]\n",
    "\n",
    "# Menentukan Pengklasifikasi Bagging dengan nilai n_estimator yang berbeda\n",
    "estimators = [3, 4, 5, 7, 10]\n",
    "classifiers = []\n",
    "for n in estimators:\n",
    "    clf = BaggingClassifier(base_estimator=GaussianNB(), n_estimators=n, random_state=0)\n",
    "    classifiers.append(clf)\n",
    "\n",
    "# Mengevaluasi setiap Pengklasifikasi Bagging dengan n_estimator yang berbeda\n",
    "for i, clf in enumerate(classifiers):\n",
    "    clf.fit(X_train, y_train)\n",
    "    y_pred = clf.predict(X_train)\n",
    "    accuracy = accuracy_score(y_train, y_pred)\n",
    "    print(f\"Accuracy (n_estimators={estimators[i]}): {accuracy:.2f}\")"
   ]
  },
  {
   "block_group": "3f693292429b425d9b4459dd340dd47a",
   "cell_type": "markdown",
   "metadata": {
    "cell_id": "9dd888b494424f5dbb68ac10f0d39b9e",
    "deepnote_app_block_visible": true,
    "deepnote_cell_type": "text-cell-bullet",
    "formattedRanges": [
     {
      "fromCodePoint": 12,
      "marks": {
       "italic": true
      },
      "toCodePoint": 20,
      "type": "marks"
     },
     {
      "fromCodePoint": 26,
      "marks": {
       "bold": true
      },
      "toCodePoint": 42,
      "type": "marks"
     },
     {
      "fromCodePoint": 124,
      "marks": {
       "italic": true
      },
      "toCodePoint": 135,
      "type": "marks"
     }
    ]
   },
   "source": [
    "- Klasifikasi Bagging dengan n_estimator = 3 (accurary terbaik dalam hasil uji sebelumnya) sekaligus menyimpan hasil model ke pickle file:"
   ]
  },
  {
   "block_group": "4563f69eb61c479ba21783a6b37fff43",
   "cell_type": "code",
   "content_dependencies": null,
   "execution_count": 31,
   "metadata": {
    "cell_id": "f34e6e7ed9c54556b16841725a5315b2",
    "deepnote_app_block_visible": true,
    "deepnote_cell_type": "code",
    "deepnote_to_be_reexecuted": false,
    "execution_millis": 473,
    "execution_start": 1718535598080,
    "source_hash": "e38bce38"
   },
   "outputs": [
    {
     "name": "stdout",
     "output_type": "stream",
     "text": [
      "Accuracy (n_estimators=3): 0.66\n",
      "Model saved to file: models/BaggingClassifier_n_estimators_3.pkl\n"
     ]
    }
   ],
   "outputs_reference": "dbtable:cell_outputs/d790ab60-73a2-437b-b178-2381c09c2518",
   "source": [
    "import pandas as pd\n",
    "from sklearn.naive_bayes import GaussianNB\n",
    "from sklearn.ensemble import BaggingClassifier\n",
    "from sklearn.model_selection import train_test_split\n",
    "from sklearn.metrics import accuracy_score\n",
    "import pickle  # Import pickle for saving models\n",
    "\n",
    "X_train = pd.read_csv(\"car-training.csv\")\n",
    "y_train = pd.read_csv(\"car-training-target.csv\")[\"target\"]\n",
    "\n",
    "# Tentukan Pengklasifikasi Bagging dengan n_estimator = 3 (fokus pada konfigurasi ini)\n",
    "n_estimators = 3\n",
    "clf = BaggingClassifier(base_estimator=GaussianNB(), n_estimators=n_estimators, random_state=0)\n",
    "\n",
    "# Train and evaluate the Bagging Classifier\n",
    "clf.fit(X_train, y_train)\n",
    "y_pred = clf.predict(X_train)  # Assuming training set for evaluation\n",
    "accuracy = accuracy_score(y_train, y_pred)\n",
    "print(f\"Accuracy (n_estimators={n_estimators}): {accuracy:.2f}\")\n",
    "\n",
    "# Save the model to a pickle file\n",
    "models_dir = \"models\"  # Directory to save pickle file (modify as needed)\n",
    "model_filename = f\"{models_dir}/BaggingClassifier_n_estimators_{n_estimators}.pkl\"\n",
    "with open(model_filename, 'wb') as f:\n",
    "    pickle.dump(clf, f)\n",
    "\n",
    "print(f\"Model saved to file: {model_filename}\")\n"
   ]
  },
  {
   "block_group": "37e496b6568c40508730c144e023bb4a",
   "cell_type": "markdown",
   "metadata": {
    "cell_id": "5382eda67e554ad796d6e1046cdb9ad6",
    "deepnote_app_block_visible": true,
    "deepnote_cell_type": "text-cell-bullet",
    "formattedRanges": [
     {
      "fromCodePoint": 31,
      "marks": {
       "italic": true
      },
      "toCodePoint": 37,
      "type": "marks"
     }
    ]
   },
   "source": [
    "- Uji coba load model dari hasil pickle: (load berhasil/tanpa error):"
   ]
  },
  {
   "block_group": "7f738865c08e4a9f8a479e470d0fae32",
   "cell_type": "code",
   "content_dependencies": null,
   "execution_count": 32,
   "metadata": {
    "cell_id": "aba23394819647a3bd3e892c6168157d",
    "deepnote_app_block_visible": true,
    "deepnote_cell_type": "code",
    "deepnote_to_be_reexecuted": false,
    "execution_millis": 78,
    "execution_start": 1718535598556,
    "source_hash": "b0811d79"
   },
   "outputs": [],
   "outputs_reference": null,
   "source": [
    "import pickle\n",
    "\n",
    "filename = \"models/BaggingClassifier_n_estimators_3.pkl\"\n",
    "\n",
    "#load\n",
    "loaded_model = pickle.load(open(filename, \"rb\"))"
   ]
  },
  {
   "block_group": "e094bb79890b4f8885ffdcae1ab00fa5",
   "cell_type": "markdown",
   "metadata": {
    "cell_id": "c09923355a82448db25ad0a1cb72fc0a",
    "deepnote_app_block_visible": true,
    "deepnote_cell_type": "text-cell-h2",
    "formattedRanges": []
   },
   "source": [
    "## Evaluasi Dataset"
   ]
  },
  {
   "block_group": "a444ca19b30b4a9b8934272b9fe14004",
   "cell_type": "markdown",
   "metadata": {
    "cell_id": "4d6825f1cede4a999ab21318d85b5955",
    "deepnote_app_block_visible": true,
    "deepnote_cell_type": "text-cell-p",
    "formattedRanges": []
   },
   "source": [
    "Berdasarkan analisis yang telah dilakukan terhadap dataset Car Evaluation, berikut adalah beberapa poin penting untuk evaluasi dataset:"
   ]
  },
  {
   "block_group": "3c93390f26a54282b40320b5af0127cd",
   "cell_type": "markdown",
   "metadata": {
    "cell_id": "ddd20ebbd2d444259026f75a20084ddd",
    "deepnote_app_block_visible": true,
    "deepnote_cell_type": "text-cell-p",
    "formattedRanges": [
     {
      "fromCodePoint": 0,
      "marks": {
       "bold": true
      },
      "toCodePoint": 16,
      "type": "marks"
     }
    ]
   },
   "source": [
    "1. Kualitas Data:\r\n",
    "Dataset ini umumnya memiliki kualitas yang baik dengan informasi yang lengkap dan terstruktur.\r\n",
    "Jumlah data yang cukup besar memungkinkan analisis yang lebih mendalam dan pengambilan kesimpulan yang lebih akurat.\r\n",
    "Tidak ada missing values yang diperoleh, maka tidak berdampak pada proses analisis."
   ]
  },
  {
   "block_group": "9589d09000eb4597a0ca5a9871b80224",
   "cell_type": "markdown",
   "metadata": {
    "cell_id": "be33cdc97b5d445e81eb4d905c56cd1b",
    "deepnote_app_block_visible": true,
    "deepnote_cell_type": "text-cell-p",
    "formattedRanges": [
     {
      "fromCodePoint": 0,
      "marks": {
       "bold": true
      },
      "toCodePoint": 16,
      "type": "marks"
     }
    ]
   },
   "source": [
    "2. Kegunaan Data:\r\n",
    "- Dataset ini sangat berguna untuk memahami faktor-faktor yang memengaruhi keputusan pembelian mobil.\r\n",
    "- Data ini dapat digunakan untuk mengembangkan model prediksi dan rekomendasi mobil yang akurat.\r\n",
    "- Data ini juga bermanfaat untuk menganalisis tren pasar mobil dan melakukan penelitian akademik."
   ]
  },
  {
   "block_group": "b3fcb35c24bb4492988fc5ddf4ab3cd5",
   "cell_type": "markdown",
   "metadata": {
    "cell_id": "24e3bfc96d7f436384231b386ba17c2c",
    "deepnote_app_block_visible": true,
    "deepnote_cell_type": "text-cell-p",
    "formattedRanges": [
     {
      "fromCodePoint": 0,
      "marks": {
       "bold": true
      },
      "toCodePoint": 21,
      "type": "marks"
     }
    ]
   },
   "source": [
    "3. Pembelajaran Mesin:\r\n",
    "Algoritma LOF dan Naive Bayes Classification terbukti efektif dalam mengidentifikasi outlier dan mengklasifikasikan data dengan tingkat akurasi yang tinggi.\r\n",
    "Penerapan algoritma lain seperti regresi atau machine learning lainnya juga dapat dilakukan untuk mendapatkan wawasan yang lebih mendalam terkait dataset ini."
   ]
  },
  {
   "block_group": "82ea6c73ee91448fb325d625a6848eb8",
   "cell_type": "markdown",
   "metadata": {
    "cell_id": "3ff6b6bbb09e4480920cac8b5f78c846",
    "deepnote_app_block_visible": true,
    "deepnote_cell_type": "text-cell-p",
    "formattedRanges": [
     {
      "fromCodePoint": 0,
      "marks": {
       "bold": true
      },
      "toCodePoint": 13,
      "type": "marks"
     }
    ]
   },
   "source": [
    "4. Kesimpulan:\r\n",
    "Dataset Car Evaluation merupakan sumber daya yang berharga dan bermanfaat untuk berbagai keperluan, terutama dalam memahami pasar mobil dan mengembangkan solusi inovatif terkait pembelian mobil.\r\n",
    "Kualitas data yang baik, kegunaan yang luas, dan potensi penerapan machine learning menjadikannya aset bernilai bagi berbagai pihak yang terlibat dalam industri otomotif dan penelitian yang terkait."
   ]
  },
  {
   "block_group": "e32b3de188a545348b75d2374028b500",
   "cell_type": "markdown",
   "metadata": {
    "cell_id": "ba758b0470e342a282f8d1f9df667805",
    "deepnote_app_block_visible": true,
    "deepnote_cell_type": "text-cell-h2",
    "formattedRanges": []
   },
   "source": [
    "## Deploy Dataset"
   ]
  },
  {
   "block_group": "a5b5ba222a6d4b37a0016801f2e7a6bf",
   "cell_type": "markdown",
   "metadata": {
    "cell_id": "e05cb54a12dc43a59c09d4a642fbd158",
    "deepnote_app_block_visible": true,
    "deepnote_cell_type": "text-cell-p",
    "formattedRanges": [
     {
      "fromCodePoint": 69,
      "marks": {
       "bold": true
      },
      "toCodePoint": 90,
      "type": "marks"
     },
     {
      "fromCodePoint": 323,
      "marks": {
       "bold": true
      },
      "toCodePoint": 351,
      "type": "marks"
     },
     {
      "fromCodePoint": 681,
      "marks": {
       "bold": true,
       "italic": true
      },
      "toCodePoint": 685,
      "type": "marks"
     },
     {
      "fromCodePoint": 815,
      "marks": {
       "bold": true
      },
      "toCodePoint": 846,
      "type": "marks"
     }
    ]
   },
   "source": [
    "Proses deploy dataset ke website melibatkan beberapa langkah utama:\r\n",
    "1. Pengembangan Model: Model machine learning (ML) dilatih menggunakan Car Evaluation dataset untuk menghasilkan prediksi atau klasifikasi yang menggunakan metode Bagging dengan akurasi terbaik sebesar 0.66. Model ini disimpan dalam format file pickle.\r\n",
    "2. Pengembangan Aplikasi Web: Aplikasi web Flask diimplementasikan untuk menyediakan antarmuka pengguna (UI) bagi user untuk berinteraksi dengan model yang telah dilatih. Aplikasi ini memuat file pickle yang berisi model dan menggunakannya untuk memproses data input pengguna dan menghasilkan prediksi penilaian keseluruhan mobil berdasarkan fitur-fiturnya. Note: Proses code dalam tahap ini kami tidak tampilkan dengan alasan privacy dan menghindari adanya plagiasi dengan aplikasi serupa.\r\n",
    "3. Deployment ke PythonAnywhere: Aplikasi web Flask di-deploy ke platform hosting web PythonAnywhere. PythonAnywhere menyediakan infrastruktur dan tools untuk menjalankan aplikasi web Python dengan mudah."
   ]
  },
  {
   "block_group": "d0720d3f149149a98f7742ec9cf666ce",
   "cell_type": "markdown",
   "metadata": {
    "cell_id": "49539956dc47427eb6f5f0c0a7c8a8ce",
    "deepnote_app_block_visible": true,
    "deepnote_cell_type": "text-cell-p",
    "formattedRanges": [
     {
      "fromCodePoint": 0,
      "marks": {
       "bold": true
      },
      "toCodePoint": 13,
      "type": "marks"
     }
    ]
   },
   "source": [
    "Hasil website:"
   ]
  },
  {
   "block_group": "88c078b20b7940c385179fab27400317",
   "cell_type": "markdown",
   "metadata": {
    "cell_id": "37d11a29e0fe49789434641afff2e829",
    "deepnote_app_block_visible": true,
    "deepnote_cell_type": "text-cell-p",
    "formattedRanges": [
     {
      "fromCodePoint": 0,
      "marks": {
       "italic": true
      },
      "toCodePoint": 41,
      "type": "marks"
     }
    ]
   },
   "source": [
    "https://carevaluation.pythonanywhere.com/"
   ]
  },
  {
   "block_group": "72b41c45f83e42f19a0cb11ae37c216a",
   "cell_type": "markdown",
   "metadata": {
    "cell_id": "12bfa9db61bc4717976d4c879739d407",
    "deepnote_app_block_visible": true,
    "deepnote_cell_type": "text-cell-p",
    "formattedRanges": []
   },
   "source": [
    "\r",
    "Hasil website tersebut merupakan contoh implementasi deploy dataset ke website dengan Flask dan file pickle. Website ini dapat digunakan pengguna untuk memasukkan informasi terkait mobil dan mendapatkan prediksi nilai mobil berdasarkan fitur-fiturnya."
   ]
  },
  {
   "block_group": "66b347fdaeaa41709abd62ee2cdd13bc",
   "cell_type": "markdown",
   "metadata": {
    "cell_id": "e0d724ce0ab946289022f73321afdf4e",
    "deepnote_app_block_visible": true,
    "deepnote_cell_type": "text-cell-p",
    "formattedRanges": [
     {
      "fromCodePoint": 0,
      "marks": {
       "bold": true
      },
      "toCodePoint": 23,
      "type": "marks"
     }
    ]
   },
   "source": [
    "Penjelasan Lebih Detail:"
   ]
  },
  {
   "block_group": "dd9bb66ec7f942d79f33d22b9fdde656",
   "cell_type": "markdown",
   "metadata": {
    "cell_id": "ee50f9800dbe44e39dca0342c6163886",
    "deepnote_app_block_visible": true,
    "deepnote_cell_type": "text-cell-p",
    "formattedRanges": [
     {
      "fromCodePoint": 1,
      "marks": {
       "bold": true
      },
      "toCodePoint": 22,
      "type": "marks"
     }
    ]
   },
   "source": [
    "\r",
    "1. Pengembangan Model: Model ML yang digunakan dalam website ini dilatih menggunakan dataset mobil dan nilai jualnya(class/output) dalam data training. Model ini dilatih menggunakan metode Bagging sebagai accuracy terbaik yang telah disinggung pada penjelasan sebelumnya, untuk mempelajari pola hubungan antara fitur mobil dan class/output dari penilaian keseluruhan mobil itu."
   ]
  },
  {
   "block_group": "3d92f101036e48d0ba50ef74da3075fd",
   "cell_type": "markdown",
   "metadata": {
    "cell_id": "2969fb777f164812aba7f32a3220458b",
    "deepnote_app_block_visible": true,
    "deepnote_cell_type": "text-cell-p",
    "formattedRanges": [
     {
      "fromCodePoint": 0,
      "marks": {
       "bold": true
      },
      "toCodePoint": 28,
      "type": "marks"
     }
    ]
   },
   "source": [
    "2. Pengembangan Aplikasi Web: Aplikasi web Flask dikembangkan untuk menyediakan antarmuka bagi pengguna untuk memasukkan informasi mobil dan mendapatkan prediksi nilai mobil berdasarkan fiturnya. Aplikasi ini terdiri dari kode Python yang menggunakan framework Flask untuk membangun UI dengan bantuan Boostrap untuk layout dan icon pendukung lainnya serta menghubungkannya dengan model ML yang telah dilatih(pickle file)."
   ]
  },
  {
   "block_group": "d2c9cc554ec24840b63d53a250b2efd4",
   "cell_type": "markdown",
   "metadata": {
    "cell_id": "76e3723cf4f547b79455306ae97e592b",
    "deepnote_app_block_visible": true,
    "deepnote_cell_type": "text-cell-p",
    "formattedRanges": [
     {
      "fromCodePoint": 0,
      "marks": {
       "bold": true
      },
      "toCodePoint": 30,
      "type": "marks"
     },
     {
      "fromCodePoint": 112,
      "marks": {
       "bold": true
      },
      "toCodePoint": 141,
      "type": "marks"
     },
     {
      "fromCodePoint": 214,
      "marks": {
       "bold": true
      },
      "toCodePoint": 240,
      "type": "marks"
     },
     {
      "fromCodePoint": 377,
      "marks": {
       "bold": true
      },
      "toCodePoint": 401,
      "type": "marks"
     },
     {
      "fromCodePoint": 555,
      "marks": {
       "bold": true
      },
      "toCodePoint": 594,
      "type": "marks"
     }
    ]
   },
   "source": [
    "3.Deployment ke PythonAnywhere: Aplikasi web Flask di-deploy ke PythonAnywhere dengan langkah-langkah berikut:\r\n",
    "- Membuat akun PythonAnywhere: Pengguna membuat akun di PythonAnywhere dan memilih plan yang sesuai.\r\n",
    "- Menambahkan aplikasi web: Pengguna menambahkan aplikasi web baru di PythonAnywhere dan menghubungkannya dengan direktori lokal yang berisi kode aplikasi Flask.\r\n",
    "- Menentukan konfigurasi: Pengguna mengonfigurasi PythonAnywhere untuk menjalankan aplikasi web Flask, termasuk mengatur environment variables dan dependencies yang diperlukan.\r\n",
    "- Aplikasi web Flask berhasil di deploy: Pengguna telah berhasil deploy website yang telah dibuat ke PythonAnywhere dan sekarang dapat diakses oleh public/seluruh orang yang ingin mengakses website kita."
   ]
  },
  {
   "block_group": "3939f9f8d95f478fa9c3ab0f9e9deb69",
   "cell_type": "markdown",
   "metadata": {
    "cell_id": "45fa5d2f78d64787860df206f6a1aa9b",
    "deepnote_app_block_visible": true,
    "deepnote_cell_type": "text-cell-h2",
    "formattedRanges": [
     {
      "fromCodePoint": 0,
      "marks": {
       "bold": true
      },
      "toCodePoint": 7,
      "type": "marks"
     }
    ],
    "is_collapsed": false
   },
   "source": [
    "## Penutup"
   ]
  },
  {
   "block_group": "71a51cbe8c98464587e695dc10bb2d8e",
   "cell_type": "markdown",
   "metadata": {
    "cell_id": "c45d8ddb260a42458b152b37e3f45c16",
    "deepnote_app_block_visible": true,
    "deepnote_cell_type": "text-cell-p",
    "formattedRanges": [],
    "is_collapsed": false
   },
   "source": [
    "Perjalanan kita dalam memahami nilai mobil melalui data mining dan website prediktif telah sampai di penghujung. Dari proses awal menggali informasi dari dataset Car Evaluation, kita telah menjelajahi berbagai teknik data mining untuk mengolah dan menganalisis data. Kita telah membangun model machine learning yang mampu memprediksi penilaian mobil berdasarkan fiturnya dengan tingkat akurasi yang dihasilkan."
   ]
  },
  {
   "block_group": "d2b142b9552e4b5399259c4a2908d3b7",
   "cell_type": "markdown",
   "metadata": {
    "cell_id": "7ab2f7f60a644a23929b6641adca00af",
    "deepnote_app_block_visible": true,
    "deepnote_cell_type": "text-cell-p",
    "formattedRanges": [],
    "is_collapsed": false
   },
   "source": [
    "Kini, model tersebut telah terwujud dalam website yang mudah diakses dan digunakan. Pengguna dari berbagai kalangan dapat dengan mudah memasukkan informasi mobil mereka dan mendapatkan prediksi penilaian mobil berdasarkan fiturnya yang terpercaya. Website ini merupakan bukti nyata bagaimana data mining dan machine learning dapat dimanfaatkan untuk memberikan solusi praktis dan bermanfaat dalam kehidupan sehari-hari."
   ]
  },
  {
   "block_group": "2328a843337d461a96b74bc2fa791e18",
   "cell_type": "markdown",
   "metadata": {
    "cell_id": "49f2c01aa77541f8b7ddd724bd9553f5",
    "deepnote_app_block_visible": true,
    "deepnote_cell_type": "text-cell-p",
    "formattedRanges": [],
    "is_collapsed": false
   },
   "source": [
    "Proses deploy dataset ke website ini membuka peluang baru untuk pengembangan aplikasi prediktif di berbagai bidang. Kita dapat membayangkan website serupa untuk memprediksi harga rumah, nilai saham, atau bahkan risiko kesehatan. Potensi data mining dan machine learning masih luas dan terus berkembang, siap untuk dijelajahi dan dimanfaatkan untuk kebaikan."
   ]
  },
  {
   "block_group": "19466c984e744f46b879a79aac9f4aac",
   "cell_type": "markdown",
   "metadata": {
    "cell_id": "561e390581bf436db89c26d581bce560",
    "deepnote_app_block_visible": true,
    "deepnote_cell_type": "text-cell-p",
    "formattedRanges": [],
    "is_collapsed": false
   },
   "source": [
    "Semoga penjelasan ini dapat membantu Anda memahami proses data mining dan website prediktif dengan lebih mudah. Ingatlah bahwa data adalah harta karun yang terpendam, dan data mining adalah kunci untuk membuka potensinya. Gunakan data mining dengan bijak dan ciptakan solusi inovatif yang bermanfaat bagi banyak orang!"
   ]
  },
  {
   "cell_type": "markdown",
   "metadata": {
    "created_in_deepnote_cell": true,
    "deepnote_cell_type": "markdown"
   },
   "source": [
    "<a style='text-decoration:none;line-height:16px;display:flex;color:#5B5B62;padding:10px;justify-content:end;' href='https://deepnote.com?utm_source=created-in-deepnote-cell&projectId=21a3347e-0ad4-4da6-97da-732e20f2b714' target=\"_blank\">\n",
    "<img alt='Created in deepnote.com' style='display:inline;max-height:16px;margin:0px;margin-right:7.5px;' src='data:image/svg+xml;base64,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' > </img>\n",
    "Created in <span style='font-weight:600;margin-left:4px;'>Deepnote</span></a>"
   ]
  }
 ],
 "metadata": {
  "deepnote_app_layout": "powerful-article",
  "deepnote_app_reactivity_enabled": true,
  "deepnote_execution_queue": [],
  "deepnote_notebook_id": "0cd396c0f2e44e2c81c8d7b20cba4bed",
  "language_info": {
   "codemirror_mode": {
    "name": "ipython",
    "version": 3
   },
   "file_extension": ".py",
   "mimetype": "text/x-python",
   "name": "python",
   "nbconvert_exporter": "python",
   "pygments_lexer": "ipython3",
   "version": "3.10.6"
  }
 },
 "nbformat": 4,
 "nbformat_minor": 0
}